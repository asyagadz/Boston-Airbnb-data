{
 "cells": [
  {
   "cell_type": "markdown",
   "id": "ecd6fcea",
   "metadata": {},
   "source": [
    "I will perform the data cleaning and feature engineering steps into the same notebook, due to the fact that there involve less steps than usual: dropping columns with missing values, computing missing values, creating new features etc. In larger projects, they should be split:\n",
    "\n",
    "Initial analysis <br>\n",
    "Data cleaning<br>\n",
    "Feature Engineering <br>\n",
    "Feature Selection <br>\n",
    "Pipeline<br>\n",
    "Prediction run<br>\n"
   ]
  },
  {
   "cell_type": "code",
   "execution_count": 1,
   "id": "f0eb1a4e",
   "metadata": {},
   "outputs": [],
   "source": [
    "import pandas as pd\n",
    "import numpy as np\n",
    "\n",
    "import regex as re\n",
    "import matplotlib.pyplot as plt\n",
    "import matplotlib.ticker as mtick \n",
    "import matplotlib.dates as mdates\n",
    "from matplotlib.ticker import PercentFormatter, FuncFormatter\n",
    "%matplotlib inline\n",
    "import matplotlib.pylab as pylab\n",
    "params = {'legend.fontsize': 'x-large',\n",
    "         'axes.labelsize': 'x-large',\n",
    "         'axes.titlesize':'xx-large',\n",
    "         'xtick.labelsize':'large',\n",
    "         'ytick.labelsize':'large'}\n",
    "pylab.rcParams.update(params)\n",
    "from cycler import cycler\n",
    "\n",
    "import seaborn as sns\n",
    "sns.set()\n",
    "\n",
    "import nltk\n",
    "from nltk.corpus import stopwords\n",
    "from wordcloud import WordCloud\n",
    "from sklearn.feature_extraction.text import TfidfTransformer\n",
    "from sklearn.feature_extraction.text import TfidfVectorizer\n",
    "from sklearn.feature_extraction.text import CountVectorizer\n",
    "from textacy import preprocessing\n",
    "import textacy\n",
    "from nltk.corpus import stopwords\n",
    "from nltk.stem import *\n",
    "\n",
    "import spacy\n",
    "nlp = spacy.load('en_core_web_sm')\n",
    "\n",
    "from sklearn.model_selection import train_test_split\n",
    "from sklearn.svm import LinearSVC\n",
    "from sklearn.naive_bayes import MultinomialNB\n",
    "from sklearn.model_selection import cross_val_score\n",
    "from  sklearn.metrics  import accuracy_score\n",
    "from sklearn import metrics\n",
    "from sklearn.metrics import confusion_matrix\n",
    "# for one hot encoding with sklearn\n",
    "from sklearn.preprocessing import OneHotEncoder\n",
    "from sklearn.feature_selection import VarianceThreshold\n",
    "\n",
    "# for the Q-Q plots\n",
    "import scipy.stats as stats\n",
    "\n",
    "\n",
    "# for one hot encoding with feature-engine\n",
    "from feature_engine.encoding import OneHotEncoder as fe_OneHotEncoder\n",
    "\n",
    "from sklearn.linear_model import LinearRegression\n",
    "from sklearn.ensemble import RandomForestRegressor\n",
    "\n",
    "from sklearn.metrics import roc_auc_score, r2_score, mean_squared_error\n",
    "# environment settings\n",
    "pd.set_option('display.max_column',None)\n",
    "pd.set_option('display.max_rows',None)"
   ]
  },
  {
   "cell_type": "code",
   "execution_count": 2,
   "id": "ef892247",
   "metadata": {},
   "outputs": [],
   "source": [
    "#read data\n",
    "calendar = pd.read_csv('/Users/asyagadzhalova/Documents/GitHub/Boston-Airbnb-data/src/data/raw_data/calendar.csv')\n",
    "listings =  pd.read_csv('/Users/asyagadzhalova/Documents/GitHub/Boston-Airbnb-data/src/data/raw_data/listings.csv')\n",
    "reviews = pd.read_csv('/Users/asyagadzhalova/Documents/GitHub/Boston-Airbnb-data/src/data/raw_data/reviews.csv')"
   ]
  },
  {
   "cell_type": "markdown",
   "id": "94c76bcb",
   "metadata": {},
   "source": [
    "From the previous notebook, in which we initially explored the data, we have defined the folling questions to answer:\n",
    "1. When are the busiest times in Boston? Which are the busiest neghbourhoods? \n",
    "I will perform some descriptive statistics and visualisations. \n",
    "In order to answer that, we will use the calendar data create occupancy metrics based on calendar data, to understand the occupancy levels throughout the year. Add to this data the neighbourhood information. \n",
    "2. What drives/defines the prices of the AirBNB in Boston? Which are the top variables that affect the price? \n",
    "We will build a regression model to predict a continuous variable, and to understand the features that drive the model. \n",
    "3. What drives the occupancy rates of the AirBNBs in Boston? Which are more engaged than others? What are the factors/variables that define higher occupancy rates? \n",
    "We will discretize the occupancy rates into several categories, and then build a multi-class classification model to predict the occupancy rates. "
   ]
  },
  {
   "cell_type": "markdown",
   "id": "5eb497b1",
   "metadata": {},
   "source": [
    "# 1. Data cleaning"
   ]
  },
  {
   "cell_type": "markdown",
   "id": "494ae5b2",
   "metadata": {},
   "source": [
    "### Check for duplicates, columns with repeated values, drop unnecessary columns"
   ]
  },
  {
   "cell_type": "markdown",
   "id": "ad67c2f8",
   "metadata": {},
   "source": [
    "####  Calendar data"
   ]
  },
  {
   "cell_type": "code",
   "execution_count": 3,
   "id": "6a2552e2",
   "metadata": {},
   "outputs": [
    {
     "data": {
      "text/plain": [
       "(1308890, 4)"
      ]
     },
     "execution_count": 3,
     "metadata": {},
     "output_type": "execute_result"
    }
   ],
   "source": [
    "calendar.shape"
   ]
  },
  {
   "cell_type": "code",
   "execution_count": 4,
   "id": "4a4aa3c4",
   "metadata": {},
   "outputs": [],
   "source": [
    "calendar.drop_duplicates(subset=['listing_id','date'],inplace=True)"
   ]
  },
  {
   "cell_type": "code",
   "execution_count": 5,
   "id": "8fa2a85e",
   "metadata": {},
   "outputs": [
    {
     "data": {
      "text/plain": [
       "(1308525, 4)"
      ]
     },
     "execution_count": 5,
     "metadata": {},
     "output_type": "execute_result"
    }
   ],
   "source": [
    "calendar.shape"
   ]
  },
  {
   "cell_type": "code",
   "execution_count": 6,
   "id": "5f6e6656",
   "metadata": {},
   "outputs": [],
   "source": [
    "calendar['date'] = pd.to_datetime(calendar['date'])\n",
    "calendar['month'] = calendar['date'].map(lambda x: x.strftime('%Y-%m'))\n",
    "#calendar['week'] = calendar['date'].map(lambda x: x.strftime(\"%V\"))"
   ]
  },
  {
   "cell_type": "code",
   "execution_count": 7,
   "id": "ea3979e5",
   "metadata": {},
   "outputs": [],
   "source": [
    "cal_month_avail = calendar.groupby(['listing_id','month','available']).agg({'date':'nunique'}).reset_index()"
   ]
  },
  {
   "cell_type": "code",
   "execution_count": 8,
   "id": "96282b01",
   "metadata": {},
   "outputs": [],
   "source": [
    "cal_month_total = cal_month_avail.groupby(['listing_id','month']).agg({'date':'sum'}).reset_index()\n",
    "cal_month_total.rename({'date':'total_days'},inplace=True,axis=1)"
   ]
  },
  {
   "cell_type": "code",
   "execution_count": 9,
   "id": "1ebb69cb",
   "metadata": {},
   "outputs": [],
   "source": [
    "cal_month_busy = cal_month_avail[cal_month_avail['available']=='f'].groupby(['listing_id','month']).agg({'date':'sum'}).reset_index()\n",
    "cal_month_busy.rename({'date':'busy_days'},inplace=True,axis=1)"
   ]
  },
  {
   "cell_type": "code",
   "execution_count": 10,
   "id": "f5a0dbd4",
   "metadata": {},
   "outputs": [],
   "source": [
    "cal_month_total = cal_month_total.merge(cal_month_busy, how = 'left', on = ['listing_id','month'])"
   ]
  },
  {
   "cell_type": "code",
   "execution_count": 11,
   "id": "b9040eff",
   "metadata": {},
   "outputs": [],
   "source": [
    "cal_month_total['busy_days'].fillna(0,inplace=True)\n",
    "cal_month_total['occupancy_metrics'] = cal_month_total['busy_days']/cal_month_total['total_days']*100"
   ]
  },
  {
   "cell_type": "code",
   "execution_count": 12,
   "id": "d1a8c4ad",
   "metadata": {},
   "outputs": [],
   "source": [
    "cal_metrics_total = cal_month_total.groupby(['listing_id']).agg({'total_days':'sum','busy_days':'sum'}).reset_index()\n",
    "#cal_metrics_total.sort_values(by='occupancy_metrics',ascending =False).head()"
   ]
  },
  {
   "cell_type": "code",
   "execution_count": 13,
   "id": "b369b2cc",
   "metadata": {},
   "outputs": [],
   "source": [
    "cal_metrics_total['occupancy_metrics'] = round(cal_metrics_total['busy_days']/cal_metrics_total['total_days']*100,0)"
   ]
  },
  {
   "cell_type": "code",
   "execution_count": 14,
   "id": "1c10486b",
   "metadata": {},
   "outputs": [
    {
     "data": {
      "text/html": [
       "<div>\n",
       "<style scoped>\n",
       "    .dataframe tbody tr th:only-of-type {\n",
       "        vertical-align: middle;\n",
       "    }\n",
       "\n",
       "    .dataframe tbody tr th {\n",
       "        vertical-align: top;\n",
       "    }\n",
       "\n",
       "    .dataframe thead th {\n",
       "        text-align: right;\n",
       "    }\n",
       "</style>\n",
       "<table border=\"1\" class=\"dataframe\">\n",
       "  <thead>\n",
       "    <tr style=\"text-align: right;\">\n",
       "      <th></th>\n",
       "      <th>listing_id</th>\n",
       "      <th>total_days</th>\n",
       "      <th>busy_days</th>\n",
       "      <th>occupancy_metrics</th>\n",
       "    </tr>\n",
       "  </thead>\n",
       "  <tbody>\n",
       "    <tr>\n",
       "      <th>0</th>\n",
       "      <td>3353</td>\n",
       "      <td>365</td>\n",
       "      <td>116.0</td>\n",
       "      <td>32.0</td>\n",
       "    </tr>\n",
       "    <tr>\n",
       "      <th>1</th>\n",
       "      <td>5506</td>\n",
       "      <td>365</td>\n",
       "      <td>21.0</td>\n",
       "      <td>6.0</td>\n",
       "    </tr>\n",
       "    <tr>\n",
       "      <th>2</th>\n",
       "      <td>6695</td>\n",
       "      <td>365</td>\n",
       "      <td>41.0</td>\n",
       "      <td>11.0</td>\n",
       "    </tr>\n",
       "    <tr>\n",
       "      <th>3</th>\n",
       "      <td>6976</td>\n",
       "      <td>365</td>\n",
       "      <td>46.0</td>\n",
       "      <td>13.0</td>\n",
       "    </tr>\n",
       "    <tr>\n",
       "      <th>4</th>\n",
       "      <td>8792</td>\n",
       "      <td>365</td>\n",
       "      <td>117.0</td>\n",
       "      <td>32.0</td>\n",
       "    </tr>\n",
       "  </tbody>\n",
       "</table>\n",
       "</div>"
      ],
      "text/plain": [
       "   listing_id  total_days  busy_days  occupancy_metrics\n",
       "0        3353         365      116.0               32.0\n",
       "1        5506         365       21.0                6.0\n",
       "2        6695         365       41.0               11.0\n",
       "3        6976         365       46.0               13.0\n",
       "4        8792         365      117.0               32.0"
      ]
     },
     "execution_count": 14,
     "metadata": {},
     "output_type": "execute_result"
    }
   ],
   "source": [
    "cal_metrics_total.head()"
   ]
  },
  {
   "cell_type": "code",
   "execution_count": 15,
   "id": "7954d330",
   "metadata": {},
   "outputs": [
    {
     "data": {
      "text/plain": [
       "(3585, 4)"
      ]
     },
     "execution_count": 15,
     "metadata": {},
     "output_type": "execute_result"
    }
   ],
   "source": [
    "cal_metrics_total.shape"
   ]
  },
  {
   "cell_type": "code",
   "execution_count": 16,
   "id": "56b3fe75",
   "metadata": {},
   "outputs": [
    {
     "data": {
      "text/plain": [
       "(705, 4)"
      ]
     },
     "execution_count": 16,
     "metadata": {},
     "output_type": "execute_result"
    }
   ],
   "source": [
    "#20% of the listings are fully booked throughout the year\n",
    "cal_metrics_total[cal_metrics_total['occupancy_metrics']==100].shape"
   ]
  },
  {
   "cell_type": "code",
   "execution_count": 17,
   "id": "be38182a",
   "metadata": {},
   "outputs": [
    {
     "data": {
      "text/plain": [
       "(1660, 4)"
      ]
     },
     "execution_count": 17,
     "metadata": {},
     "output_type": "execute_result"
    }
   ],
   "source": [
    "cal_metrics_total[cal_metrics_total['occupancy_metrics']<=40].shape"
   ]
  },
  {
   "cell_type": "code",
   "execution_count": 18,
   "id": "86859f6b",
   "metadata": {},
   "outputs": [],
   "source": [
    "calendar.to_pickle('/Users/asyagadzhalova/Documents/GitHub/Boston-Airbnb-data/src/data/processed/calendar.pkl')\n",
    "cal_month_total.to_pickle('/Users/asyagadzhalova/Documents/GitHub/Boston-Airbnb-data/src/data/processed/calendar_metrics_monthly.pkl')\n",
    "cal_metrics_total.to_pickle('/Users/asyagadzhalova/Documents/GitHub/Boston-Airbnb-data/src/data/processed/calendar_metrics.pkl')"
   ]
  },
  {
   "cell_type": "markdown",
   "id": "7f69cab5",
   "metadata": {},
   "source": [
    "#### Listings data"
   ]
  },
  {
   "cell_type": "code",
   "execution_count": 19,
   "id": "30ca0994",
   "metadata": {},
   "outputs": [
    {
     "data": {
      "text/html": [
       "<div>\n",
       "<style scoped>\n",
       "    .dataframe tbody tr th:only-of-type {\n",
       "        vertical-align: middle;\n",
       "    }\n",
       "\n",
       "    .dataframe tbody tr th {\n",
       "        vertical-align: top;\n",
       "    }\n",
       "\n",
       "    .dataframe thead th {\n",
       "        text-align: right;\n",
       "    }\n",
       "</style>\n",
       "<table border=\"1\" class=\"dataframe\">\n",
       "  <thead>\n",
       "    <tr style=\"text-align: right;\">\n",
       "      <th></th>\n",
       "      <th>id</th>\n",
       "      <th>scrape_id</th>\n",
       "      <th>host_id</th>\n",
       "      <th>host_listings_count</th>\n",
       "      <th>host_total_listings_count</th>\n",
       "      <th>neighbourhood_group_cleansed</th>\n",
       "      <th>latitude</th>\n",
       "      <th>longitude</th>\n",
       "      <th>accommodates</th>\n",
       "      <th>bathrooms</th>\n",
       "      <th>bedrooms</th>\n",
       "      <th>beds</th>\n",
       "      <th>square_feet</th>\n",
       "      <th>guests_included</th>\n",
       "      <th>minimum_nights</th>\n",
       "      <th>maximum_nights</th>\n",
       "      <th>has_availability</th>\n",
       "      <th>availability_30</th>\n",
       "      <th>availability_60</th>\n",
       "      <th>availability_90</th>\n",
       "      <th>availability_365</th>\n",
       "      <th>number_of_reviews</th>\n",
       "      <th>review_scores_rating</th>\n",
       "      <th>review_scores_accuracy</th>\n",
       "      <th>review_scores_cleanliness</th>\n",
       "      <th>review_scores_checkin</th>\n",
       "      <th>review_scores_communication</th>\n",
       "      <th>review_scores_location</th>\n",
       "      <th>review_scores_value</th>\n",
       "      <th>license</th>\n",
       "      <th>jurisdiction_names</th>\n",
       "      <th>calculated_host_listings_count</th>\n",
       "      <th>reviews_per_month</th>\n",
       "    </tr>\n",
       "  </thead>\n",
       "  <tbody>\n",
       "    <tr>\n",
       "      <th>count</th>\n",
       "      <td>3.585000e+03</td>\n",
       "      <td>3.585000e+03</td>\n",
       "      <td>3.585000e+03</td>\n",
       "      <td>3585.000000</td>\n",
       "      <td>3585.000000</td>\n",
       "      <td>0.0</td>\n",
       "      <td>3585.000000</td>\n",
       "      <td>3585.000000</td>\n",
       "      <td>3585.000000</td>\n",
       "      <td>3571.000000</td>\n",
       "      <td>3575.000000</td>\n",
       "      <td>3576.000000</td>\n",
       "      <td>56.000000</td>\n",
       "      <td>3585.000000</td>\n",
       "      <td>3585.000000</td>\n",
       "      <td>3.585000e+03</td>\n",
       "      <td>0.0</td>\n",
       "      <td>3585.00000</td>\n",
       "      <td>3585.000000</td>\n",
       "      <td>3585.000000</td>\n",
       "      <td>3585.000000</td>\n",
       "      <td>3585.000000</td>\n",
       "      <td>2772.000000</td>\n",
       "      <td>2762.000000</td>\n",
       "      <td>2767.000000</td>\n",
       "      <td>2765.000000</td>\n",
       "      <td>2767.000000</td>\n",
       "      <td>2763.000000</td>\n",
       "      <td>2764.000000</td>\n",
       "      <td>0.0</td>\n",
       "      <td>0.0</td>\n",
       "      <td>3585.000000</td>\n",
       "      <td>2829.000000</td>\n",
       "    </tr>\n",
       "    <tr>\n",
       "      <th>mean</th>\n",
       "      <td>8.440875e+06</td>\n",
       "      <td>2.016091e+13</td>\n",
       "      <td>2.492311e+07</td>\n",
       "      <td>58.902371</td>\n",
       "      <td>58.902371</td>\n",
       "      <td>NaN</td>\n",
       "      <td>42.340032</td>\n",
       "      <td>-71.084818</td>\n",
       "      <td>3.041283</td>\n",
       "      <td>1.221647</td>\n",
       "      <td>1.255944</td>\n",
       "      <td>1.609060</td>\n",
       "      <td>858.464286</td>\n",
       "      <td>1.429847</td>\n",
       "      <td>3.171269</td>\n",
       "      <td>2.872584e+04</td>\n",
       "      <td>NaN</td>\n",
       "      <td>8.64993</td>\n",
       "      <td>21.833194</td>\n",
       "      <td>38.558159</td>\n",
       "      <td>179.346444</td>\n",
       "      <td>19.044630</td>\n",
       "      <td>91.916667</td>\n",
       "      <td>9.431571</td>\n",
       "      <td>9.258041</td>\n",
       "      <td>9.646293</td>\n",
       "      <td>9.646549</td>\n",
       "      <td>9.414043</td>\n",
       "      <td>9.168234</td>\n",
       "      <td>NaN</td>\n",
       "      <td>NaN</td>\n",
       "      <td>12.733891</td>\n",
       "      <td>1.970908</td>\n",
       "    </tr>\n",
       "    <tr>\n",
       "      <th>std</th>\n",
       "      <td>4.500787e+06</td>\n",
       "      <td>8.516813e-01</td>\n",
       "      <td>2.292781e+07</td>\n",
       "      <td>171.119663</td>\n",
       "      <td>171.119663</td>\n",
       "      <td>NaN</td>\n",
       "      <td>0.024403</td>\n",
       "      <td>0.031565</td>\n",
       "      <td>1.778929</td>\n",
       "      <td>0.501487</td>\n",
       "      <td>0.753060</td>\n",
       "      <td>1.011745</td>\n",
       "      <td>608.874310</td>\n",
       "      <td>1.056787</td>\n",
       "      <td>8.874133</td>\n",
       "      <td>1.670136e+06</td>\n",
       "      <td>NaN</td>\n",
       "      <td>10.43533</td>\n",
       "      <td>21.860966</td>\n",
       "      <td>33.158272</td>\n",
       "      <td>142.136180</td>\n",
       "      <td>35.571658</td>\n",
       "      <td>9.531686</td>\n",
       "      <td>0.931863</td>\n",
       "      <td>1.168977</td>\n",
       "      <td>0.762753</td>\n",
       "      <td>0.735507</td>\n",
       "      <td>0.903436</td>\n",
       "      <td>1.011116</td>\n",
       "      <td>NaN</td>\n",
       "      <td>NaN</td>\n",
       "      <td>29.415076</td>\n",
       "      <td>2.120561</td>\n",
       "    </tr>\n",
       "    <tr>\n",
       "      <th>min</th>\n",
       "      <td>3.353000e+03</td>\n",
       "      <td>2.016091e+13</td>\n",
       "      <td>4.240000e+03</td>\n",
       "      <td>0.000000</td>\n",
       "      <td>0.000000</td>\n",
       "      <td>NaN</td>\n",
       "      <td>42.235942</td>\n",
       "      <td>-71.171789</td>\n",
       "      <td>1.000000</td>\n",
       "      <td>0.000000</td>\n",
       "      <td>0.000000</td>\n",
       "      <td>0.000000</td>\n",
       "      <td>0.000000</td>\n",
       "      <td>0.000000</td>\n",
       "      <td>1.000000</td>\n",
       "      <td>1.000000e+00</td>\n",
       "      <td>NaN</td>\n",
       "      <td>0.00000</td>\n",
       "      <td>0.000000</td>\n",
       "      <td>0.000000</td>\n",
       "      <td>0.000000</td>\n",
       "      <td>0.000000</td>\n",
       "      <td>20.000000</td>\n",
       "      <td>2.000000</td>\n",
       "      <td>2.000000</td>\n",
       "      <td>2.000000</td>\n",
       "      <td>4.000000</td>\n",
       "      <td>2.000000</td>\n",
       "      <td>2.000000</td>\n",
       "      <td>NaN</td>\n",
       "      <td>NaN</td>\n",
       "      <td>1.000000</td>\n",
       "      <td>0.010000</td>\n",
       "    </tr>\n",
       "    <tr>\n",
       "      <th>25%</th>\n",
       "      <td>4.679319e+06</td>\n",
       "      <td>2.016091e+13</td>\n",
       "      <td>6.103425e+06</td>\n",
       "      <td>1.000000</td>\n",
       "      <td>1.000000</td>\n",
       "      <td>NaN</td>\n",
       "      <td>42.329995</td>\n",
       "      <td>-71.105083</td>\n",
       "      <td>2.000000</td>\n",
       "      <td>1.000000</td>\n",
       "      <td>1.000000</td>\n",
       "      <td>1.000000</td>\n",
       "      <td>415.000000</td>\n",
       "      <td>1.000000</td>\n",
       "      <td>1.000000</td>\n",
       "      <td>3.650000e+02</td>\n",
       "      <td>NaN</td>\n",
       "      <td>0.00000</td>\n",
       "      <td>0.000000</td>\n",
       "      <td>0.000000</td>\n",
       "      <td>19.000000</td>\n",
       "      <td>1.000000</td>\n",
       "      <td>89.000000</td>\n",
       "      <td>9.000000</td>\n",
       "      <td>9.000000</td>\n",
       "      <td>9.000000</td>\n",
       "      <td>9.000000</td>\n",
       "      <td>9.000000</td>\n",
       "      <td>9.000000</td>\n",
       "      <td>NaN</td>\n",
       "      <td>NaN</td>\n",
       "      <td>1.000000</td>\n",
       "      <td>0.480000</td>\n",
       "    </tr>\n",
       "    <tr>\n",
       "      <th>50%</th>\n",
       "      <td>8.577620e+06</td>\n",
       "      <td>2.016091e+13</td>\n",
       "      <td>1.928100e+07</td>\n",
       "      <td>2.000000</td>\n",
       "      <td>2.000000</td>\n",
       "      <td>NaN</td>\n",
       "      <td>42.345201</td>\n",
       "      <td>-71.078429</td>\n",
       "      <td>2.000000</td>\n",
       "      <td>1.000000</td>\n",
       "      <td>1.000000</td>\n",
       "      <td>1.000000</td>\n",
       "      <td>825.000000</td>\n",
       "      <td>1.000000</td>\n",
       "      <td>2.000000</td>\n",
       "      <td>1.125000e+03</td>\n",
       "      <td>NaN</td>\n",
       "      <td>4.00000</td>\n",
       "      <td>16.000000</td>\n",
       "      <td>37.000000</td>\n",
       "      <td>179.000000</td>\n",
       "      <td>5.000000</td>\n",
       "      <td>94.000000</td>\n",
       "      <td>10.000000</td>\n",
       "      <td>10.000000</td>\n",
       "      <td>10.000000</td>\n",
       "      <td>10.000000</td>\n",
       "      <td>10.000000</td>\n",
       "      <td>9.000000</td>\n",
       "      <td>NaN</td>\n",
       "      <td>NaN</td>\n",
       "      <td>2.000000</td>\n",
       "      <td>1.170000</td>\n",
       "    </tr>\n",
       "    <tr>\n",
       "      <th>75%</th>\n",
       "      <td>1.278953e+07</td>\n",
       "      <td>2.016091e+13</td>\n",
       "      <td>3.622147e+07</td>\n",
       "      <td>7.000000</td>\n",
       "      <td>7.000000</td>\n",
       "      <td>NaN</td>\n",
       "      <td>42.354685</td>\n",
       "      <td>-71.062155</td>\n",
       "      <td>4.000000</td>\n",
       "      <td>1.000000</td>\n",
       "      <td>2.000000</td>\n",
       "      <td>2.000000</td>\n",
       "      <td>1200.000000</td>\n",
       "      <td>1.000000</td>\n",
       "      <td>3.000000</td>\n",
       "      <td>1.125000e+03</td>\n",
       "      <td>NaN</td>\n",
       "      <td>15.00000</td>\n",
       "      <td>40.000000</td>\n",
       "      <td>68.000000</td>\n",
       "      <td>325.000000</td>\n",
       "      <td>21.000000</td>\n",
       "      <td>98.250000</td>\n",
       "      <td>10.000000</td>\n",
       "      <td>10.000000</td>\n",
       "      <td>10.000000</td>\n",
       "      <td>10.000000</td>\n",
       "      <td>10.000000</td>\n",
       "      <td>10.000000</td>\n",
       "      <td>NaN</td>\n",
       "      <td>NaN</td>\n",
       "      <td>6.000000</td>\n",
       "      <td>2.720000</td>\n",
       "    </tr>\n",
       "    <tr>\n",
       "      <th>max</th>\n",
       "      <td>1.493346e+07</td>\n",
       "      <td>2.016091e+13</td>\n",
       "      <td>9.385411e+07</td>\n",
       "      <td>749.000000</td>\n",
       "      <td>749.000000</td>\n",
       "      <td>NaN</td>\n",
       "      <td>42.389982</td>\n",
       "      <td>-71.000100</td>\n",
       "      <td>16.000000</td>\n",
       "      <td>6.000000</td>\n",
       "      <td>5.000000</td>\n",
       "      <td>16.000000</td>\n",
       "      <td>2400.000000</td>\n",
       "      <td>14.000000</td>\n",
       "      <td>300.000000</td>\n",
       "      <td>1.000000e+08</td>\n",
       "      <td>NaN</td>\n",
       "      <td>30.00000</td>\n",
       "      <td>60.000000</td>\n",
       "      <td>90.000000</td>\n",
       "      <td>365.000000</td>\n",
       "      <td>404.000000</td>\n",
       "      <td>100.000000</td>\n",
       "      <td>10.000000</td>\n",
       "      <td>10.000000</td>\n",
       "      <td>10.000000</td>\n",
       "      <td>10.000000</td>\n",
       "      <td>10.000000</td>\n",
       "      <td>10.000000</td>\n",
       "      <td>NaN</td>\n",
       "      <td>NaN</td>\n",
       "      <td>136.000000</td>\n",
       "      <td>19.150000</td>\n",
       "    </tr>\n",
       "  </tbody>\n",
       "</table>\n",
       "</div>"
      ],
      "text/plain": [
       "                 id     scrape_id       host_id  host_listings_count  \\\n",
       "count  3.585000e+03  3.585000e+03  3.585000e+03          3585.000000   \n",
       "mean   8.440875e+06  2.016091e+13  2.492311e+07            58.902371   \n",
       "std    4.500787e+06  8.516813e-01  2.292781e+07           171.119663   \n",
       "min    3.353000e+03  2.016091e+13  4.240000e+03             0.000000   \n",
       "25%    4.679319e+06  2.016091e+13  6.103425e+06             1.000000   \n",
       "50%    8.577620e+06  2.016091e+13  1.928100e+07             2.000000   \n",
       "75%    1.278953e+07  2.016091e+13  3.622147e+07             7.000000   \n",
       "max    1.493346e+07  2.016091e+13  9.385411e+07           749.000000   \n",
       "\n",
       "       host_total_listings_count  neighbourhood_group_cleansed     latitude  \\\n",
       "count                3585.000000                           0.0  3585.000000   \n",
       "mean                   58.902371                           NaN    42.340032   \n",
       "std                   171.119663                           NaN     0.024403   \n",
       "min                     0.000000                           NaN    42.235942   \n",
       "25%                     1.000000                           NaN    42.329995   \n",
       "50%                     2.000000                           NaN    42.345201   \n",
       "75%                     7.000000                           NaN    42.354685   \n",
       "max                   749.000000                           NaN    42.389982   \n",
       "\n",
       "         longitude  accommodates    bathrooms     bedrooms         beds  \\\n",
       "count  3585.000000   3585.000000  3571.000000  3575.000000  3576.000000   \n",
       "mean    -71.084818      3.041283     1.221647     1.255944     1.609060   \n",
       "std       0.031565      1.778929     0.501487     0.753060     1.011745   \n",
       "min     -71.171789      1.000000     0.000000     0.000000     0.000000   \n",
       "25%     -71.105083      2.000000     1.000000     1.000000     1.000000   \n",
       "50%     -71.078429      2.000000     1.000000     1.000000     1.000000   \n",
       "75%     -71.062155      4.000000     1.000000     2.000000     2.000000   \n",
       "max     -71.000100     16.000000     6.000000     5.000000    16.000000   \n",
       "\n",
       "       square_feet  guests_included  minimum_nights  maximum_nights  \\\n",
       "count    56.000000      3585.000000     3585.000000    3.585000e+03   \n",
       "mean    858.464286         1.429847        3.171269    2.872584e+04   \n",
       "std     608.874310         1.056787        8.874133    1.670136e+06   \n",
       "min       0.000000         0.000000        1.000000    1.000000e+00   \n",
       "25%     415.000000         1.000000        1.000000    3.650000e+02   \n",
       "50%     825.000000         1.000000        2.000000    1.125000e+03   \n",
       "75%    1200.000000         1.000000        3.000000    1.125000e+03   \n",
       "max    2400.000000        14.000000      300.000000    1.000000e+08   \n",
       "\n",
       "       has_availability  availability_30  availability_60  availability_90  \\\n",
       "count               0.0       3585.00000      3585.000000      3585.000000   \n",
       "mean                NaN          8.64993        21.833194        38.558159   \n",
       "std                 NaN         10.43533        21.860966        33.158272   \n",
       "min                 NaN          0.00000         0.000000         0.000000   \n",
       "25%                 NaN          0.00000         0.000000         0.000000   \n",
       "50%                 NaN          4.00000        16.000000        37.000000   \n",
       "75%                 NaN         15.00000        40.000000        68.000000   \n",
       "max                 NaN         30.00000        60.000000        90.000000   \n",
       "\n",
       "       availability_365  number_of_reviews  review_scores_rating  \\\n",
       "count       3585.000000        3585.000000           2772.000000   \n",
       "mean         179.346444          19.044630             91.916667   \n",
       "std          142.136180          35.571658              9.531686   \n",
       "min            0.000000           0.000000             20.000000   \n",
       "25%           19.000000           1.000000             89.000000   \n",
       "50%          179.000000           5.000000             94.000000   \n",
       "75%          325.000000          21.000000             98.250000   \n",
       "max          365.000000         404.000000            100.000000   \n",
       "\n",
       "       review_scores_accuracy  review_scores_cleanliness  \\\n",
       "count             2762.000000                2767.000000   \n",
       "mean                 9.431571                   9.258041   \n",
       "std                  0.931863                   1.168977   \n",
       "min                  2.000000                   2.000000   \n",
       "25%                  9.000000                   9.000000   \n",
       "50%                 10.000000                  10.000000   \n",
       "75%                 10.000000                  10.000000   \n",
       "max                 10.000000                  10.000000   \n",
       "\n",
       "       review_scores_checkin  review_scores_communication  \\\n",
       "count            2765.000000                  2767.000000   \n",
       "mean                9.646293                     9.646549   \n",
       "std                 0.762753                     0.735507   \n",
       "min                 2.000000                     4.000000   \n",
       "25%                 9.000000                     9.000000   \n",
       "50%                10.000000                    10.000000   \n",
       "75%                10.000000                    10.000000   \n",
       "max                10.000000                    10.000000   \n",
       "\n",
       "       review_scores_location  review_scores_value  license  \\\n",
       "count             2763.000000          2764.000000      0.0   \n",
       "mean                 9.414043             9.168234      NaN   \n",
       "std                  0.903436             1.011116      NaN   \n",
       "min                  2.000000             2.000000      NaN   \n",
       "25%                  9.000000             9.000000      NaN   \n",
       "50%                 10.000000             9.000000      NaN   \n",
       "75%                 10.000000            10.000000      NaN   \n",
       "max                 10.000000            10.000000      NaN   \n",
       "\n",
       "       jurisdiction_names  calculated_host_listings_count  reviews_per_month  \n",
       "count                 0.0                     3585.000000        2829.000000  \n",
       "mean                  NaN                       12.733891           1.970908  \n",
       "std                   NaN                       29.415076           2.120561  \n",
       "min                   NaN                        1.000000           0.010000  \n",
       "25%                   NaN                        1.000000           0.480000  \n",
       "50%                   NaN                        2.000000           1.170000  \n",
       "75%                   NaN                        6.000000           2.720000  \n",
       "max                   NaN                      136.000000          19.150000  "
      ]
     },
     "execution_count": 19,
     "metadata": {},
     "output_type": "execute_result"
    }
   ],
   "source": [
    "listings.describe()"
   ]
  },
  {
   "cell_type": "markdown",
   "id": "09554991",
   "metadata": {},
   "source": [
    "#### Explore data, remove some unnecessary columns"
   ]
  },
  {
   "cell_type": "code",
   "execution_count": 21,
   "id": "c0ccfd92",
   "metadata": {},
   "outputs": [
    {
     "data": {
      "text/html": [
       "<div>\n",
       "<style scoped>\n",
       "    .dataframe tbody tr th:only-of-type {\n",
       "        vertical-align: middle;\n",
       "    }\n",
       "\n",
       "    .dataframe tbody tr th {\n",
       "        vertical-align: top;\n",
       "    }\n",
       "\n",
       "    .dataframe thead th {\n",
       "        text-align: right;\n",
       "    }\n",
       "</style>\n",
       "<table border=\"1\" class=\"dataframe\">\n",
       "  <thead>\n",
       "    <tr style=\"text-align: right;\">\n",
       "      <th></th>\n",
       "      <th>id</th>\n",
       "      <th>listing_url</th>\n",
       "      <th>scrape_id</th>\n",
       "      <th>last_scraped</th>\n",
       "      <th>name</th>\n",
       "      <th>summary</th>\n",
       "      <th>space</th>\n",
       "      <th>description</th>\n",
       "      <th>experiences_offered</th>\n",
       "      <th>neighborhood_overview</th>\n",
       "      <th>notes</th>\n",
       "      <th>transit</th>\n",
       "      <th>access</th>\n",
       "      <th>interaction</th>\n",
       "      <th>house_rules</th>\n",
       "      <th>thumbnail_url</th>\n",
       "      <th>medium_url</th>\n",
       "      <th>picture_url</th>\n",
       "      <th>xl_picture_url</th>\n",
       "      <th>host_id</th>\n",
       "    </tr>\n",
       "  </thead>\n",
       "  <tbody>\n",
       "    <tr>\n",
       "      <th>0</th>\n",
       "      <td>12147973</td>\n",
       "      <td>https://www.airbnb.com/rooms/12147973</td>\n",
       "      <td>20160906204935</td>\n",
       "      <td>2016-09-07</td>\n",
       "      <td>Sunny Bungalow in the City</td>\n",
       "      <td>Cozy, sunny, family home.  Master bedroom high...</td>\n",
       "      <td>The house has an open and cozy feel at the sam...</td>\n",
       "      <td>Cozy, sunny, family home.  Master bedroom high...</td>\n",
       "      <td>none</td>\n",
       "      <td>Roslindale is quiet, convenient and friendly. ...</td>\n",
       "      <td>NaN</td>\n",
       "      <td>The bus stop is 2 blocks away, and frequent. B...</td>\n",
       "      <td>You will have access to 2 bedrooms, a living r...</td>\n",
       "      <td>NaN</td>\n",
       "      <td>Clean up and treat the home the way you'd like...</td>\n",
       "      <td>https://a2.muscache.com/im/pictures/c0842db1-e...</td>\n",
       "      <td>https://a2.muscache.com/im/pictures/c0842db1-e...</td>\n",
       "      <td>https://a2.muscache.com/im/pictures/c0842db1-e...</td>\n",
       "      <td>https://a2.muscache.com/im/pictures/c0842db1-e...</td>\n",
       "      <td>31303940</td>\n",
       "    </tr>\n",
       "    <tr>\n",
       "      <th>1</th>\n",
       "      <td>3075044</td>\n",
       "      <td>https://www.airbnb.com/rooms/3075044</td>\n",
       "      <td>20160906204935</td>\n",
       "      <td>2016-09-07</td>\n",
       "      <td>Charming room in pet friendly apt</td>\n",
       "      <td>Charming and quiet room in a second floor 1910...</td>\n",
       "      <td>Small but cozy and quite room with a full size...</td>\n",
       "      <td>Charming and quiet room in a second floor 1910...</td>\n",
       "      <td>none</td>\n",
       "      <td>The room is in Roslindale, a diverse and prima...</td>\n",
       "      <td>If you don't have a US cell phone, you can tex...</td>\n",
       "      <td>Plenty of safe street parking. Bus stops a few...</td>\n",
       "      <td>Apt has one more bedroom (which I use) and lar...</td>\n",
       "      <td>If I am at home, I am likely working in my hom...</td>\n",
       "      <td>Pet friendly but please confirm with me if the...</td>\n",
       "      <td>https://a1.muscache.com/im/pictures/39327812/d...</td>\n",
       "      <td>https://a1.muscache.com/im/pictures/39327812/d...</td>\n",
       "      <td>https://a1.muscache.com/im/pictures/39327812/d...</td>\n",
       "      <td>https://a1.muscache.com/im/pictures/39327812/d...</td>\n",
       "      <td>2572247</td>\n",
       "    </tr>\n",
       "    <tr>\n",
       "      <th>2</th>\n",
       "      <td>6976</td>\n",
       "      <td>https://www.airbnb.com/rooms/6976</td>\n",
       "      <td>20160906204935</td>\n",
       "      <td>2016-09-07</td>\n",
       "      <td>Mexican Folk Art Haven in Boston</td>\n",
       "      <td>Come stay with a friendly, middle-aged guy in ...</td>\n",
       "      <td>Come stay with a friendly, middle-aged guy in ...</td>\n",
       "      <td>Come stay with a friendly, middle-aged guy in ...</td>\n",
       "      <td>none</td>\n",
       "      <td>The LOCATION: Roslindale is a safe and diverse...</td>\n",
       "      <td>I am in a scenic part of Boston with a couple ...</td>\n",
       "      <td>PUBLIC TRANSPORTATION: From the house, quick p...</td>\n",
       "      <td>I am living in the apartment during your stay,...</td>\n",
       "      <td>ABOUT ME: I'm a laid-back, friendly, unmarried...</td>\n",
       "      <td>I encourage you to use my kitchen, cooking and...</td>\n",
       "      <td>https://a2.muscache.com/im/pictures/6ae8335d-9...</td>\n",
       "      <td>https://a2.muscache.com/im/pictures/6ae8335d-9...</td>\n",
       "      <td>https://a2.muscache.com/im/pictures/6ae8335d-9...</td>\n",
       "      <td>https://a2.muscache.com/im/pictures/6ae8335d-9...</td>\n",
       "      <td>16701</td>\n",
       "    </tr>\n",
       "    <tr>\n",
       "      <th>3</th>\n",
       "      <td>1436513</td>\n",
       "      <td>https://www.airbnb.com/rooms/1436513</td>\n",
       "      <td>20160906204935</td>\n",
       "      <td>2016-09-07</td>\n",
       "      <td>Spacious Sunny Bedroom Suite in Historic Home</td>\n",
       "      <td>Come experience the comforts of home away from...</td>\n",
       "      <td>Most places you find in Boston are small howev...</td>\n",
       "      <td>Come experience the comforts of home away from...</td>\n",
       "      <td>none</td>\n",
       "      <td>Roslindale is a lovely little neighborhood loc...</td>\n",
       "      <td>Please be mindful of the property as it is old...</td>\n",
       "      <td>There are buses that stop right in front of th...</td>\n",
       "      <td>The basement has a washer dryer and gym area. ...</td>\n",
       "      <td>We do live in the house therefore might be som...</td>\n",
       "      <td>- The bathroom and house are shared so please ...</td>\n",
       "      <td>https://a2.muscache.com/im/pictures/39764190-1...</td>\n",
       "      <td>https://a2.muscache.com/im/pictures/39764190-1...</td>\n",
       "      <td>https://a2.muscache.com/im/pictures/39764190-1...</td>\n",
       "      <td>https://a2.muscache.com/im/pictures/39764190-1...</td>\n",
       "      <td>6031442</td>\n",
       "    </tr>\n",
       "    <tr>\n",
       "      <th>4</th>\n",
       "      <td>7651065</td>\n",
       "      <td>https://www.airbnb.com/rooms/7651065</td>\n",
       "      <td>20160906204935</td>\n",
       "      <td>2016-09-07</td>\n",
       "      <td>Come Home to Boston</td>\n",
       "      <td>My comfy, clean and relaxing home is one block...</td>\n",
       "      <td>Clean, attractive, private room, one block fro...</td>\n",
       "      <td>My comfy, clean and relaxing home is one block...</td>\n",
       "      <td>none</td>\n",
       "      <td>I love the proximity to downtown, the neighbor...</td>\n",
       "      <td>I have one roommate who lives on the lower lev...</td>\n",
       "      <td>From Logan Airport  and South Station you have...</td>\n",
       "      <td>You will have access to the front and side por...</td>\n",
       "      <td>I love my city and really enjoy sharing it wit...</td>\n",
       "      <td>Please no smoking in the house, porch or on th...</td>\n",
       "      <td>https://a1.muscache.com/im/pictures/97154760/8...</td>\n",
       "      <td>https://a1.muscache.com/im/pictures/97154760/8...</td>\n",
       "      <td>https://a1.muscache.com/im/pictures/97154760/8...</td>\n",
       "      <td>https://a1.muscache.com/im/pictures/97154760/8...</td>\n",
       "      <td>15396970</td>\n",
       "    </tr>\n",
       "  </tbody>\n",
       "</table>\n",
       "</div>"
      ],
      "text/plain": [
       "         id                            listing_url       scrape_id  \\\n",
       "0  12147973  https://www.airbnb.com/rooms/12147973  20160906204935   \n",
       "1   3075044   https://www.airbnb.com/rooms/3075044  20160906204935   \n",
       "2      6976      https://www.airbnb.com/rooms/6976  20160906204935   \n",
       "3   1436513   https://www.airbnb.com/rooms/1436513  20160906204935   \n",
       "4   7651065   https://www.airbnb.com/rooms/7651065  20160906204935   \n",
       "\n",
       "  last_scraped                                           name  \\\n",
       "0   2016-09-07                     Sunny Bungalow in the City   \n",
       "1   2016-09-07              Charming room in pet friendly apt   \n",
       "2   2016-09-07               Mexican Folk Art Haven in Boston   \n",
       "3   2016-09-07  Spacious Sunny Bedroom Suite in Historic Home   \n",
       "4   2016-09-07                            Come Home to Boston   \n",
       "\n",
       "                                             summary  \\\n",
       "0  Cozy, sunny, family home.  Master bedroom high...   \n",
       "1  Charming and quiet room in a second floor 1910...   \n",
       "2  Come stay with a friendly, middle-aged guy in ...   \n",
       "3  Come experience the comforts of home away from...   \n",
       "4  My comfy, clean and relaxing home is one block...   \n",
       "\n",
       "                                               space  \\\n",
       "0  The house has an open and cozy feel at the sam...   \n",
       "1  Small but cozy and quite room with a full size...   \n",
       "2  Come stay with a friendly, middle-aged guy in ...   \n",
       "3  Most places you find in Boston are small howev...   \n",
       "4  Clean, attractive, private room, one block fro...   \n",
       "\n",
       "                                         description experiences_offered  \\\n",
       "0  Cozy, sunny, family home.  Master bedroom high...                none   \n",
       "1  Charming and quiet room in a second floor 1910...                none   \n",
       "2  Come stay with a friendly, middle-aged guy in ...                none   \n",
       "3  Come experience the comforts of home away from...                none   \n",
       "4  My comfy, clean and relaxing home is one block...                none   \n",
       "\n",
       "                               neighborhood_overview  \\\n",
       "0  Roslindale is quiet, convenient and friendly. ...   \n",
       "1  The room is in Roslindale, a diverse and prima...   \n",
       "2  The LOCATION: Roslindale is a safe and diverse...   \n",
       "3  Roslindale is a lovely little neighborhood loc...   \n",
       "4  I love the proximity to downtown, the neighbor...   \n",
       "\n",
       "                                               notes  \\\n",
       "0                                                NaN   \n",
       "1  If you don't have a US cell phone, you can tex...   \n",
       "2  I am in a scenic part of Boston with a couple ...   \n",
       "3  Please be mindful of the property as it is old...   \n",
       "4  I have one roommate who lives on the lower lev...   \n",
       "\n",
       "                                             transit  \\\n",
       "0  The bus stop is 2 blocks away, and frequent. B...   \n",
       "1  Plenty of safe street parking. Bus stops a few...   \n",
       "2  PUBLIC TRANSPORTATION: From the house, quick p...   \n",
       "3  There are buses that stop right in front of th...   \n",
       "4  From Logan Airport  and South Station you have...   \n",
       "\n",
       "                                              access  \\\n",
       "0  You will have access to 2 bedrooms, a living r...   \n",
       "1  Apt has one more bedroom (which I use) and lar...   \n",
       "2  I am living in the apartment during your stay,...   \n",
       "3  The basement has a washer dryer and gym area. ...   \n",
       "4  You will have access to the front and side por...   \n",
       "\n",
       "                                         interaction  \\\n",
       "0                                                NaN   \n",
       "1  If I am at home, I am likely working in my hom...   \n",
       "2  ABOUT ME: I'm a laid-back, friendly, unmarried...   \n",
       "3  We do live in the house therefore might be som...   \n",
       "4  I love my city and really enjoy sharing it wit...   \n",
       "\n",
       "                                         house_rules  \\\n",
       "0  Clean up and treat the home the way you'd like...   \n",
       "1  Pet friendly but please confirm with me if the...   \n",
       "2  I encourage you to use my kitchen, cooking and...   \n",
       "3  - The bathroom and house are shared so please ...   \n",
       "4  Please no smoking in the house, porch or on th...   \n",
       "\n",
       "                                       thumbnail_url  \\\n",
       "0  https://a2.muscache.com/im/pictures/c0842db1-e...   \n",
       "1  https://a1.muscache.com/im/pictures/39327812/d...   \n",
       "2  https://a2.muscache.com/im/pictures/6ae8335d-9...   \n",
       "3  https://a2.muscache.com/im/pictures/39764190-1...   \n",
       "4  https://a1.muscache.com/im/pictures/97154760/8...   \n",
       "\n",
       "                                          medium_url  \\\n",
       "0  https://a2.muscache.com/im/pictures/c0842db1-e...   \n",
       "1  https://a1.muscache.com/im/pictures/39327812/d...   \n",
       "2  https://a2.muscache.com/im/pictures/6ae8335d-9...   \n",
       "3  https://a2.muscache.com/im/pictures/39764190-1...   \n",
       "4  https://a1.muscache.com/im/pictures/97154760/8...   \n",
       "\n",
       "                                         picture_url  \\\n",
       "0  https://a2.muscache.com/im/pictures/c0842db1-e...   \n",
       "1  https://a1.muscache.com/im/pictures/39327812/d...   \n",
       "2  https://a2.muscache.com/im/pictures/6ae8335d-9...   \n",
       "3  https://a2.muscache.com/im/pictures/39764190-1...   \n",
       "4  https://a1.muscache.com/im/pictures/97154760/8...   \n",
       "\n",
       "                                      xl_picture_url   host_id  \n",
       "0  https://a2.muscache.com/im/pictures/c0842db1-e...  31303940  \n",
       "1  https://a1.muscache.com/im/pictures/39327812/d...   2572247  \n",
       "2  https://a2.muscache.com/im/pictures/6ae8335d-9...     16701  \n",
       "3  https://a2.muscache.com/im/pictures/39764190-1...   6031442  \n",
       "4  https://a1.muscache.com/im/pictures/97154760/8...  15396970  "
      ]
     },
     "execution_count": 21,
     "metadata": {},
     "output_type": "execute_result"
    }
   ],
   "source": [
    "listings.iloc[:,0:20].head()"
   ]
  },
  {
   "cell_type": "code",
   "execution_count": 25,
   "id": "245025ab",
   "metadata": {},
   "outputs": [
    {
     "data": {
      "text/html": [
       "<div>\n",
       "<style scoped>\n",
       "    .dataframe tbody tr th:only-of-type {\n",
       "        vertical-align: middle;\n",
       "    }\n",
       "\n",
       "    .dataframe tbody tr th {\n",
       "        vertical-align: top;\n",
       "    }\n",
       "\n",
       "    .dataframe thead th {\n",
       "        text-align: right;\n",
       "    }\n",
       "</style>\n",
       "<table border=\"1\" class=\"dataframe\">\n",
       "  <thead>\n",
       "    <tr style=\"text-align: right;\">\n",
       "      <th></th>\n",
       "      <th>host_url</th>\n",
       "      <th>host_name</th>\n",
       "      <th>host_since</th>\n",
       "      <th>host_location</th>\n",
       "      <th>host_about</th>\n",
       "      <th>host_response_time</th>\n",
       "      <th>host_response_rate</th>\n",
       "      <th>host_acceptance_rate</th>\n",
       "      <th>host_is_superhost</th>\n",
       "      <th>host_thumbnail_url</th>\n",
       "      <th>host_picture_url</th>\n",
       "      <th>host_neighbourhood</th>\n",
       "      <th>host_listings_count</th>\n",
       "      <th>host_total_listings_count</th>\n",
       "      <th>host_verifications</th>\n",
       "      <th>host_has_profile_pic</th>\n",
       "      <th>host_identity_verified</th>\n",
       "      <th>street</th>\n",
       "      <th>neighbourhood</th>\n",
       "      <th>neighbourhood_cleansed</th>\n",
       "    </tr>\n",
       "  </thead>\n",
       "  <tbody>\n",
       "    <tr>\n",
       "      <th>0</th>\n",
       "      <td>https://www.airbnb.com/users/show/31303940</td>\n",
       "      <td>Virginia</td>\n",
       "      <td>2015-04-15</td>\n",
       "      <td>Boston, Massachusetts, United States</td>\n",
       "      <td>We are country and city connecting in our deck...</td>\n",
       "      <td>NaN</td>\n",
       "      <td>NaN</td>\n",
       "      <td>NaN</td>\n",
       "      <td>f</td>\n",
       "      <td>https://a2.muscache.com/im/pictures/5936fef0-b...</td>\n",
       "      <td>https://a2.muscache.com/im/pictures/5936fef0-b...</td>\n",
       "      <td>Roslindale</td>\n",
       "      <td>1</td>\n",
       "      <td>1</td>\n",
       "      <td>['email', 'phone', 'facebook', 'reviews']</td>\n",
       "      <td>t</td>\n",
       "      <td>f</td>\n",
       "      <td>Birch Street, Boston, MA 02131, United States</td>\n",
       "      <td>Roslindale</td>\n",
       "      <td>Roslindale</td>\n",
       "    </tr>\n",
       "    <tr>\n",
       "      <th>1</th>\n",
       "      <td>https://www.airbnb.com/users/show/2572247</td>\n",
       "      <td>Andrea</td>\n",
       "      <td>2012-06-07</td>\n",
       "      <td>Boston, Massachusetts, United States</td>\n",
       "      <td>I live in Boston and I like to travel and have...</td>\n",
       "      <td>within an hour</td>\n",
       "      <td>100%</td>\n",
       "      <td>100%</td>\n",
       "      <td>f</td>\n",
       "      <td>https://a2.muscache.com/im/users/2572247/profi...</td>\n",
       "      <td>https://a2.muscache.com/im/users/2572247/profi...</td>\n",
       "      <td>Roslindale</td>\n",
       "      <td>1</td>\n",
       "      <td>1</td>\n",
       "      <td>['email', 'phone', 'facebook', 'linkedin', 'am...</td>\n",
       "      <td>t</td>\n",
       "      <td>t</td>\n",
       "      <td>Pinehurst Street, Boston, MA 02131, United States</td>\n",
       "      <td>Roslindale</td>\n",
       "      <td>Roslindale</td>\n",
       "    </tr>\n",
       "    <tr>\n",
       "      <th>2</th>\n",
       "      <td>https://www.airbnb.com/users/show/16701</td>\n",
       "      <td>Phil</td>\n",
       "      <td>2009-05-11</td>\n",
       "      <td>Boston, Massachusetts, United States</td>\n",
       "      <td>I am a middle-aged, single male with a wide ra...</td>\n",
       "      <td>within a few hours</td>\n",
       "      <td>100%</td>\n",
       "      <td>88%</td>\n",
       "      <td>t</td>\n",
       "      <td>https://a2.muscache.com/im/users/16701/profile...</td>\n",
       "      <td>https://a2.muscache.com/im/users/16701/profile...</td>\n",
       "      <td>Roslindale</td>\n",
       "      <td>1</td>\n",
       "      <td>1</td>\n",
       "      <td>['email', 'phone', 'reviews', 'jumio']</td>\n",
       "      <td>t</td>\n",
       "      <td>t</td>\n",
       "      <td>Ardale St., Boston, MA 02131, United States</td>\n",
       "      <td>Roslindale</td>\n",
       "      <td>Roslindale</td>\n",
       "    </tr>\n",
       "    <tr>\n",
       "      <th>3</th>\n",
       "      <td>https://www.airbnb.com/users/show/6031442</td>\n",
       "      <td>Meghna</td>\n",
       "      <td>2013-04-21</td>\n",
       "      <td>Boston, Massachusetts, United States</td>\n",
       "      <td>My husband and I live on the property.  He’s a...</td>\n",
       "      <td>within a few hours</td>\n",
       "      <td>100%</td>\n",
       "      <td>50%</td>\n",
       "      <td>f</td>\n",
       "      <td>https://a2.muscache.com/im/pictures/5d430cde-7...</td>\n",
       "      <td>https://a2.muscache.com/im/pictures/5d430cde-7...</td>\n",
       "      <td>NaN</td>\n",
       "      <td>1</td>\n",
       "      <td>1</td>\n",
       "      <td>['email', 'phone', 'reviews']</td>\n",
       "      <td>t</td>\n",
       "      <td>f</td>\n",
       "      <td>Boston, MA, United States</td>\n",
       "      <td>NaN</td>\n",
       "      <td>Roslindale</td>\n",
       "    </tr>\n",
       "    <tr>\n",
       "      <th>4</th>\n",
       "      <td>https://www.airbnb.com/users/show/15396970</td>\n",
       "      <td>Linda</td>\n",
       "      <td>2014-05-11</td>\n",
       "      <td>Boston, Massachusetts, United States</td>\n",
       "      <td>I work full time for a public school district....</td>\n",
       "      <td>within an hour</td>\n",
       "      <td>100%</td>\n",
       "      <td>100%</td>\n",
       "      <td>t</td>\n",
       "      <td>https://a0.muscache.com/im/users/15396970/prof...</td>\n",
       "      <td>https://a0.muscache.com/im/users/15396970/prof...</td>\n",
       "      <td>Roslindale</td>\n",
       "      <td>1</td>\n",
       "      <td>1</td>\n",
       "      <td>['email', 'phone', 'reviews', 'kba']</td>\n",
       "      <td>t</td>\n",
       "      <td>t</td>\n",
       "      <td>Durnell Avenue, Boston, MA 02131, United States</td>\n",
       "      <td>Roslindale</td>\n",
       "      <td>Roslindale</td>\n",
       "    </tr>\n",
       "  </tbody>\n",
       "</table>\n",
       "</div>"
      ],
      "text/plain": [
       "                                     host_url host_name  host_since  \\\n",
       "0  https://www.airbnb.com/users/show/31303940  Virginia  2015-04-15   \n",
       "1   https://www.airbnb.com/users/show/2572247    Andrea  2012-06-07   \n",
       "2     https://www.airbnb.com/users/show/16701      Phil  2009-05-11   \n",
       "3   https://www.airbnb.com/users/show/6031442    Meghna  2013-04-21   \n",
       "4  https://www.airbnb.com/users/show/15396970     Linda  2014-05-11   \n",
       "\n",
       "                          host_location  \\\n",
       "0  Boston, Massachusetts, United States   \n",
       "1  Boston, Massachusetts, United States   \n",
       "2  Boston, Massachusetts, United States   \n",
       "3  Boston, Massachusetts, United States   \n",
       "4  Boston, Massachusetts, United States   \n",
       "\n",
       "                                          host_about  host_response_time  \\\n",
       "0  We are country and city connecting in our deck...                 NaN   \n",
       "1  I live in Boston and I like to travel and have...      within an hour   \n",
       "2  I am a middle-aged, single male with a wide ra...  within a few hours   \n",
       "3  My husband and I live on the property.  He’s a...  within a few hours   \n",
       "4  I work full time for a public school district....      within an hour   \n",
       "\n",
       "  host_response_rate host_acceptance_rate host_is_superhost  \\\n",
       "0                NaN                  NaN                 f   \n",
       "1               100%                 100%                 f   \n",
       "2               100%                  88%                 t   \n",
       "3               100%                  50%                 f   \n",
       "4               100%                 100%                 t   \n",
       "\n",
       "                                  host_thumbnail_url  \\\n",
       "0  https://a2.muscache.com/im/pictures/5936fef0-b...   \n",
       "1  https://a2.muscache.com/im/users/2572247/profi...   \n",
       "2  https://a2.muscache.com/im/users/16701/profile...   \n",
       "3  https://a2.muscache.com/im/pictures/5d430cde-7...   \n",
       "4  https://a0.muscache.com/im/users/15396970/prof...   \n",
       "\n",
       "                                    host_picture_url host_neighbourhood  \\\n",
       "0  https://a2.muscache.com/im/pictures/5936fef0-b...         Roslindale   \n",
       "1  https://a2.muscache.com/im/users/2572247/profi...         Roslindale   \n",
       "2  https://a2.muscache.com/im/users/16701/profile...         Roslindale   \n",
       "3  https://a2.muscache.com/im/pictures/5d430cde-7...                NaN   \n",
       "4  https://a0.muscache.com/im/users/15396970/prof...         Roslindale   \n",
       "\n",
       "   host_listings_count  host_total_listings_count  \\\n",
       "0                    1                          1   \n",
       "1                    1                          1   \n",
       "2                    1                          1   \n",
       "3                    1                          1   \n",
       "4                    1                          1   \n",
       "\n",
       "                                  host_verifications host_has_profile_pic  \\\n",
       "0          ['email', 'phone', 'facebook', 'reviews']                    t   \n",
       "1  ['email', 'phone', 'facebook', 'linkedin', 'am...                    t   \n",
       "2             ['email', 'phone', 'reviews', 'jumio']                    t   \n",
       "3                      ['email', 'phone', 'reviews']                    t   \n",
       "4               ['email', 'phone', 'reviews', 'kba']                    t   \n",
       "\n",
       "  host_identity_verified                                             street  \\\n",
       "0                      f      Birch Street, Boston, MA 02131, United States   \n",
       "1                      t  Pinehurst Street, Boston, MA 02131, United States   \n",
       "2                      t        Ardale St., Boston, MA 02131, United States   \n",
       "3                      f                          Boston, MA, United States   \n",
       "4                      t    Durnell Avenue, Boston, MA 02131, United States   \n",
       "\n",
       "  neighbourhood neighbourhood_cleansed  \n",
       "0    Roslindale             Roslindale  \n",
       "1    Roslindale             Roslindale  \n",
       "2    Roslindale             Roslindale  \n",
       "3           NaN             Roslindale  \n",
       "4    Roslindale             Roslindale  "
      ]
     },
     "execution_count": 25,
     "metadata": {},
     "output_type": "execute_result"
    }
   ],
   "source": [
    "listings.iloc[:,20:40].head()"
   ]
  },
  {
   "cell_type": "code",
   "execution_count": 24,
   "id": "1d83bf08",
   "metadata": {},
   "outputs": [
    {
     "data": {
      "text/plain": [
       "array(['2016-09-07'], dtype=object)"
      ]
     },
     "execution_count": 24,
     "metadata": {},
     "output_type": "execute_result"
    }
   ],
   "source": [
    "listings['last_scraped'].unique()"
   ]
  },
  {
   "cell_type": "code",
   "execution_count": null,
   "id": "3de0eb21",
   "metadata": {},
   "outputs": [],
   "source": [
    "listings.head()"
   ]
  },
  {
   "cell_type": "code",
   "execution_count": null,
   "id": "2c059092",
   "metadata": {},
   "outputs": [],
   "source": [
    "missing_values = listings.isna().sum()/listings.shape[0]*100\n",
    "missing_values.sort_values(ascending = False)"
   ]
  },
  {
   "cell_type": "code",
   "execution_count": null,
   "id": "0af35ea8",
   "metadata": {},
   "outputs": [],
   "source": [
    "listings.shape"
   ]
  },
  {
   "cell_type": "code",
   "execution_count": null,
   "id": "ebd88d4b",
   "metadata": {},
   "outputs": [],
   "source": [
    "#drop duplicates\n",
    "listings.drop_duplicates(inplace=True)"
   ]
  },
  {
   "cell_type": "code",
   "execution_count": null,
   "id": "1f5e0490",
   "metadata": {},
   "outputs": [],
   "source": [
    "listings.shape"
   ]
  },
  {
   "cell_type": "markdown",
   "id": "ac3b1cdc",
   "metadata": {},
   "source": [
    "### Drop columns"
   ]
  },
  {
   "cell_type": "code",
   "execution_count": null,
   "id": "5e5611c2",
   "metadata": {},
   "outputs": [],
   "source": [
    "#There are 5 columns with almost all missing values -> we are dropping them\n",
    "listings.drop(columns={'has_availability','neighbourhood_group_cleansed','license','jurisdiction_names','square_feet'},inplace=True,axis = 1)"
   ]
  },
  {
   "cell_type": "code",
   "execution_count": null,
   "id": "d61bf4d1",
   "metadata": {},
   "outputs": [],
   "source": [
    "# drop the columns with the url - no need at this point\n",
    "listings.drop(columns={'listing_url','thumbnail_url','medium_url','picture_url','xl_picture_url','availability_30','availability_60','availability_90','availability_365','maximum_nights','weekly_price','monthly_price','calendar_updated','host_picture_url','host_listings_count','neighbourhood'},inplace=True,axis = 1)"
   ]
  },
  {
   "cell_type": "code",
   "execution_count": null,
   "id": "e78049da",
   "metadata": {},
   "outputs": [],
   "source": [
    "listings.shape"
   ]
  },
  {
   "cell_type": "code",
   "execution_count": null,
   "id": "83dc46f7",
   "metadata": {},
   "outputs": [],
   "source": [
    "#find columns with the same value\n",
    "col_list = []\n",
    "for col in listings.columns:\n",
    "    if listings[col].nunique()==1:\n",
    "        col_list.append(col)"
   ]
  },
  {
   "cell_type": "code",
   "execution_count": null,
   "id": "6601e510",
   "metadata": {},
   "outputs": [],
   "source": [
    "col_list"
   ]
  },
  {
   "cell_type": "code",
   "execution_count": null,
   "id": "b6522bd7",
   "metadata": {},
   "outputs": [],
   "source": [
    "# drop the columns with the same value\n",
    "listings.drop(columns={'scrape_id',\n",
    " 'last_scraped',\n",
    " 'experiences_offered',\n",
    " 'state',\n",
    " 'country_code',\n",
    " 'country',\n",
    " 'calendar_last_scraped',\n",
    " 'requires_license'},inplace=True,axis = 1)"
   ]
  },
  {
   "cell_type": "code",
   "execution_count": null,
   "id": "0c514b5d",
   "metadata": {},
   "outputs": [],
   "source": [
    "#find columns that are dummy variables\n",
    "col_list2 = []\n",
    "for col in listings.columns:\n",
    "    if listings[col].nunique()==2:\n",
    "        col_list2.append(col)"
   ]
  },
  {
   "cell_type": "code",
   "execution_count": null,
   "id": "b3a450e6",
   "metadata": {},
   "outputs": [],
   "source": [
    "#find columns with the three values\n",
    "col_list2"
   ]
  },
  {
   "cell_type": "code",
   "execution_count": null,
   "id": "9c266cf8",
   "metadata": {},
   "outputs": [],
   "source": [
    "listings['host_is_superhost'].value_counts()"
   ]
  },
  {
   "cell_type": "code",
   "execution_count": null,
   "id": "1db72c38",
   "metadata": {},
   "outputs": [],
   "source": [
    "listings['host_has_profile_pic'].value_counts()"
   ]
  },
  {
   "cell_type": "code",
   "execution_count": null,
   "id": "ec68bd66",
   "metadata": {},
   "outputs": [],
   "source": [
    "listings['host_identity_verified'].value_counts()"
   ]
  },
  {
   "cell_type": "code",
   "execution_count": null,
   "id": "13bd2e1f",
   "metadata": {},
   "outputs": [],
   "source": [
    "listings['is_location_exact'].value_counts()"
   ]
  },
  {
   "cell_type": "code",
   "execution_count": null,
   "id": "2cae3fc9",
   "metadata": {},
   "outputs": [],
   "source": [
    "listings['instant_bookable'].value_counts()"
   ]
  },
  {
   "cell_type": "code",
   "execution_count": null,
   "id": "0a5d1886",
   "metadata": {},
   "outputs": [],
   "source": [
    "listings['require_guest_profile_picture'].value_counts()"
   ]
  },
  {
   "cell_type": "code",
   "execution_count": null,
   "id": "3a52ccae",
   "metadata": {},
   "outputs": [],
   "source": [
    "listings['require_guest_phone_verification'].value_counts()"
   ]
  },
  {
   "cell_type": "code",
   "execution_count": null,
   "id": "82476f67",
   "metadata": {},
   "outputs": [],
   "source": [
    "#Transform categorical variables into Binary\n",
    "for col in col_list2:\n",
    "    listings[col] = np.where(listings[col]=='t', 1, 0)"
   ]
  },
  {
   "cell_type": "code",
   "execution_count": null,
   "id": "53903bb8",
   "metadata": {},
   "outputs": [],
   "source": [
    "#drop also column host_has_profile_pic, since the majority of the values are true\n",
    "listings.drop('host_has_profile_pic',inplace=True, axis=1)"
   ]
  },
  {
   "cell_type": "code",
   "execution_count": null,
   "id": "02184787",
   "metadata": {},
   "outputs": [],
   "source": [
    "listings.shape"
   ]
  },
  {
   "cell_type": "code",
   "execution_count": null,
   "id": "430be5a1",
   "metadata": {},
   "outputs": [],
   "source": [
    "#for security deposit - my assumption is that when there is no value -> there is NO security deposit. Also for the cleaning fee - if omitted -> then there isn't one. THIS IS OK to be done before the SPLIT\n",
    "listings['security_deposit'].fillna(0,inplace=True)\n",
    "listings['cleaning_fee'].fillna(0,inplace=True)"
   ]
  },
  {
   "cell_type": "code",
   "execution_count": null,
   "id": "0c65c9a3",
   "metadata": {},
   "outputs": [],
   "source": [
    "#The text data contained in space, summary, description is almost the same, so I will leave only the description, since it has less missing values\n",
    "listings.drop(['space','summary','name','host_url','host_name','host_thumbnail_url'],axis=1,inplace=True)"
   ]
  },
  {
   "cell_type": "code",
   "execution_count": null,
   "id": "7d72d04d",
   "metadata": {},
   "outputs": [],
   "source": [
    "#column market contains very few values, and the majority of the values are only 1 value -> we will drop it\n",
    "listings['market'].value_counts()"
   ]
  },
  {
   "cell_type": "code",
   "execution_count": null,
   "id": "f7e99a38",
   "metadata": {},
   "outputs": [],
   "source": [
    "listings.drop(['market'],axis=1,inplace=True)"
   ]
  },
  {
   "cell_type": "code",
   "execution_count": null,
   "id": "8ef11732",
   "metadata": {},
   "outputs": [],
   "source": [
    "#For the rest of the text variables, since there is a big part of them missing, I will encode them as 1: with data, 0 - no data\n",
    "col_list = ['notes', 'transit','access','interaction','house_rules','neighborhood_overview','host_about']\n",
    "for col in col_list:\n",
    "    listings[col].fillna(0,inplace=True)\n",
    "    listings[col] = np.where(listings[col].notna()==True, 1, 0)"
   ]
  },
  {
   "cell_type": "code",
   "execution_count": null,
   "id": "a83193c8",
   "metadata": {},
   "outputs": [],
   "source": [
    "listings.drop(columns={'notes', 'transit','access','interaction','house_rules','neighborhood_overview','host_about'},axis=1,inplace=True)"
   ]
  },
  {
   "cell_type": "markdown",
   "id": "51d54055",
   "metadata": {},
   "source": [
    "#Date variables we will transform into numerical:\n",
    "- host_since: days between last_day_reserved and host_since - we will get days into operation of the listing\n",
    "- last_review: days between last_review and last reservation\n",
    "- first_review: days between last_reservation and first_review  - we will omit this, since it is very close to the first metrics\n",
    "\n",
    "Binning and discretization should be done over the host response rate and host acceptance rate"
   ]
  },
  {
   "cell_type": "code",
   "execution_count": null,
   "id": "59882766",
   "metadata": {},
   "outputs": [],
   "source": [
    "listings['host_since']= pd.to_datetime(listings['host_since'])\n",
    "listings['first_review']= pd.to_datetime(listings['first_review'])\n",
    "listings['last_review']= pd.to_datetime(listings['last_review'])"
   ]
  },
  {
   "cell_type": "code",
   "execution_count": null,
   "id": "75c7ef6c",
   "metadata": {},
   "outputs": [],
   "source": [
    "cal_last_reservation = calendar[calendar['available']=='f'].groupby(['listing_id']).agg({'date':'max'}).reset_index()"
   ]
  },
  {
   "cell_type": "code",
   "execution_count": null,
   "id": "35e333a8",
   "metadata": {},
   "outputs": [],
   "source": [
    "listings = listings.merge(cal_last_reservation, how = 'left', left_on = 'id',right_on = 'listing_id')"
   ]
  },
  {
   "cell_type": "code",
   "execution_count": null,
   "id": "02a1bdf3",
   "metadata": {},
   "outputs": [],
   "source": [
    "date = pd.to_datetime('2016-09-07')\n",
    "listings['days_operation'] = (date- listings['host_since']).dt.days\n",
    "#listings['days_operation'].dtype()"
   ]
  },
  {
   "cell_type": "code",
   "execution_count": null,
   "id": "023fd5a7",
   "metadata": {},
   "outputs": [],
   "source": [
    "#new variable that gives the days between the last reservation and the last review\n",
    "listings['days_review'] = (listings['date']- listings['last_review']).dt.days"
   ]
  },
  {
   "cell_type": "code",
   "execution_count": null,
   "id": "b7c7307a",
   "metadata": {},
   "outputs": [],
   "source": [
    "listings.drop(columns={'host_since','last_review','first_review'},inplace=True,axis=1)"
   ]
  },
  {
   "cell_type": "code",
   "execution_count": null,
   "id": "22b0155b",
   "metadata": {},
   "outputs": [],
   "source": [
    "listings.drop(['date'],axis=1,inplace=True)"
   ]
  },
  {
   "cell_type": "code",
   "execution_count": null,
   "id": "fa844eb8",
   "metadata": {},
   "outputs": [],
   "source": [
    "listings.drop(['listing_id','zipcode'],axis=1,inplace=True)"
   ]
  },
  {
   "cell_type": "code",
   "execution_count": null,
   "id": "19d9d1d0",
   "metadata": {},
   "outputs": [],
   "source": [
    "listings.describe(include='object').transpose()"
   ]
  },
  {
   "cell_type": "code",
   "execution_count": null,
   "id": "d1424c27",
   "metadata": {},
   "outputs": [],
   "source": [
    "#Transform the price columns to integer values\n",
    "cols = ['security_deposit','price','cleaning_fee','extra_people']\n",
    "for col in cols:\n",
    "    listings[col] = listings[col].str.replace('$','')\n",
    "    listings[col] = listings[col].str.replace(',','')\n",
    "    #listings[col_col] = listings[col].str.findall('\\d')\n",
    "    listings[col].fillna(0,inplace=True)\n",
    "    listings[col] = pd.to_numeric(listings[col])"
   ]
  },
  {
   "cell_type": "code",
   "execution_count": null,
   "id": "229d2ac4",
   "metadata": {},
   "outputs": [],
   "source": [
    "listings['security_deposit'].head()"
   ]
  },
  {
   "cell_type": "code",
   "execution_count": null,
   "id": "f8a00b8c",
   "metadata": {},
   "outputs": [],
   "source": [
    "listings['price'].head()"
   ]
  },
  {
   "cell_type": "code",
   "execution_count": null,
   "id": "aa8dc76c",
   "metadata": {},
   "outputs": [],
   "source": [
    "col_objects = listings.select_dtypes('object').columns"
   ]
  },
  {
   "cell_type": "code",
   "execution_count": null,
   "id": "21378073",
   "metadata": {},
   "outputs": [],
   "source": [
    "for col in col_objects:\n",
    "    print (col, listings[col].isna().sum())"
   ]
  },
  {
   "cell_type": "code",
   "execution_count": null,
   "id": "73bc74e6",
   "metadata": {},
   "outputs": [],
   "source": [
    "#Map host location to 1:within Boston, 0 - not in Boston\n",
    "listings['host_location'] = np.where(listings['host_location']=='Boston, Massachusetts, United States', 1, 0)\n",
    "listings['host_location'].fillna(1,inplace=True)"
   ]
  },
  {
   "cell_type": "code",
   "execution_count": null,
   "id": "500b81ae",
   "metadata": {},
   "outputs": [],
   "source": [
    "listings['host_response_time'].value_counts()"
   ]
  },
  {
   "cell_type": "code",
   "execution_count": null,
   "id": "e9b92012",
   "metadata": {},
   "outputs": [],
   "source": [
    "listings.describe().transpose()"
   ]
  },
  {
   "cell_type": "code",
   "execution_count": null,
   "id": "5fa444e3",
   "metadata": {},
   "outputs": [],
   "source": [
    "listings[['price','accommodates','guests_included']].value_counts()"
   ]
  },
  {
   "cell_type": "code",
   "execution_count": null,
   "id": "3058178f",
   "metadata": {},
   "outputs": [],
   "source": []
  },
  {
   "cell_type": "markdown",
   "id": "0cf0c0ff",
   "metadata": {},
   "source": [
    "For the 5 categorical variables with missing values and for all the numerical categoricals with missing value we will populate with mean/median and the mode/for the categorical ones/\n",
    "Before that, we need to study the distributions of the variables and perform EDA. \n",
    "Also check for the prerequisites of the Linear model /the assumptions/.\n",
    "+ Feature selection techniques -> correlation, chi-square test<br>\n",
    "Categorical Encoding<br>\n",
    "__BEFORE ANY OTHER COMPUTATIONS, we need to split the dataset into TRAIN AND TEST set.__\n",
    "We can perform GridSearch without Cross Validation."
   ]
  },
  {
   "cell_type": "code",
   "execution_count": null,
   "id": "7ad076e3",
   "metadata": {},
   "outputs": [],
   "source": [
    "#as a result from the analysis in 02.1 notebook - dropping the description field\n",
    "listings.drop(['description'],axis=1,inplace=True)"
   ]
  },
  {
   "cell_type": "markdown",
   "id": "9a28d976",
   "metadata": {},
   "source": [
    "### Exploratory Data Analysis - distributions"
   ]
  },
  {
   "cell_type": "code",
   "execution_count": null,
   "id": "a1930ccc",
   "metadata": {},
   "outputs": [],
   "source": [
    "#sns.pairplot(listings)"
   ]
  },
  {
   "cell_type": "code",
   "execution_count": null,
   "id": "d2a6aa2f",
   "metadata": {},
   "outputs": [],
   "source": [
    "'''\n",
    "Input: dataframe and variable to be analysed\n",
    "Output: variable descriptive statistics\n",
    "'''\n",
    "\n",
    "def diagnostic_plots(df, variable):\n",
    "    # function takes a dataframe (df) and\n",
    "    # the variable of interest as arguments\n",
    "\n",
    "    # define figure size\n",
    "    plt.figure(figsize=(16, 4))\n",
    "\n",
    "    # histogram\n",
    "    plt.subplot(1, 3, 1)\n",
    "    sns.histplot(df[variable], bins=30)\n",
    "    plt.title('Histogram')\n",
    "\n",
    "    # Q-Q plot\n",
    "    plt.subplot(1, 3, 2)\n",
    "    stats.probplot(df[variable], dist=\"norm\", plot=plt)\n",
    "    plt.ylabel('Variable quantiles')\n",
    "\n",
    "    # boxplot\n",
    "    plt.subplot(1, 3, 3)\n",
    "    sns.boxplot(y=df[variable])\n",
    "    plt.title('Boxplot')\n",
    "\n",
    "    plt.show()"
   ]
  },
  {
   "cell_type": "code",
   "execution_count": null,
   "id": "ce236a7b",
   "metadata": {},
   "outputs": [],
   "source": [
    "diagnostic_plots(listings,'price')"
   ]
  },
  {
   "cell_type": "markdown",
   "id": "de8aacd5",
   "metadata": {},
   "source": [
    "Transform the price into price per person, as well as take into account the additional price for guests"
   ]
  },
  {
   "cell_type": "code",
   "execution_count": null,
   "id": "5f11259b",
   "metadata": {},
   "outputs": [],
   "source": [
    "listings['price_per_person'] = round(listings['price']/(listings['accommodates']+listings['guests_included']),2)+listings['extra_people']"
   ]
  },
  {
   "cell_type": "code",
   "execution_count": null,
   "id": "0a47a4ec",
   "metadata": {},
   "outputs": [],
   "source": [
    "listings.drop(['price','accommodates','guests_included','extra_people'],axis=1,inplace=True)"
   ]
  },
  {
   "cell_type": "code",
   "execution_count": null,
   "id": "b87cc982",
   "metadata": {
    "scrolled": true
   },
   "outputs": [],
   "source": [
    "diagnostic_plots(listings,'price_per_person')"
   ]
  },
  {
   "cell_type": "code",
   "execution_count": null,
   "id": "fc6b1baa",
   "metadata": {},
   "outputs": [],
   "source": []
  },
  {
   "cell_type": "code",
   "execution_count": null,
   "id": "7e1497eb",
   "metadata": {},
   "outputs": [],
   "source": [
    "def find_skewed_boundaries(df, variable, distance):\n",
    "\n",
    "    # Let's calculate the boundaries outside which sit the outliers\n",
    "    # for skewed distributions\n",
    "\n",
    "    # distance passed as an argument, gives us the option to\n",
    "    # estimate 1.5 times or 3 times the IQR to calculate\n",
    "    # the boundaries.\n",
    "\n",
    "    IQR = df[variable].quantile(0.75) - df[variable].quantile(0.25)\n",
    "\n",
    "    lower_boundary = df[variable].quantile(0.25) - (IQR * distance)\n",
    "    upper_boundary = df[variable].quantile(0.75) + (IQR * distance)\n",
    "\n",
    "    return upper_boundary, lower_boundary"
   ]
  },
  {
   "cell_type": "code",
   "execution_count": null,
   "id": "45a79602",
   "metadata": {},
   "outputs": [],
   "source": [
    "# find limits for RM\n",
    "\n",
    "RM_upper_limit, RM_lower_limit = find_skewed_boundaries(X_train, 'price_per_person', 1.5)\n",
    "RM_upper_limit, RM_lower_limit"
   ]
  },
  {
   "cell_type": "code",
   "execution_count": null,
   "id": "af59349f",
   "metadata": {},
   "outputs": [],
   "source": [
    "IQR = listings['price_per_person'].quantile(0.75) - listings['price_per_person'].quantile(0.25)"
   ]
  },
  {
   "cell_type": "code",
   "execution_count": null,
   "id": "1db4dba4",
   "metadata": {},
   "outputs": [],
   "source": [
    "IQR"
   ]
  },
  {
   "cell_type": "code",
   "execution_count": null,
   "id": "c173ada3",
   "metadata": {},
   "outputs": [],
   "source": [
    "# let's flag the outliers in the data set\n",
    "listings['outliers_price'] = np.where(listings['price_per_person'] > RM_upper_limit, True,\n",
    "                       np.where(listings['price_per_person']  < RM_lower_limit, True, False))"
   ]
  },
  {
   "cell_type": "code",
   "execution_count": null,
   "id": "b97d54cc",
   "metadata": {},
   "outputs": [],
   "source": [
    "listings['outliers_price'].value_counts()"
   ]
  },
  {
   "cell_type": "code",
   "execution_count": null,
   "id": "a1bb86e5",
   "metadata": {},
   "outputs": [],
   "source": [
    "145/3585"
   ]
  },
  {
   "cell_type": "code",
   "execution_count": null,
   "id": "d2042404",
   "metadata": {},
   "outputs": [],
   "source": [
    "listings = listings[listings['outliers_price']==False].copy()"
   ]
  },
  {
   "cell_type": "code",
   "execution_count": null,
   "id": "32d88e38",
   "metadata": {},
   "outputs": [],
   "source": [
    "listings_out.shape"
   ]
  },
  {
   "cell_type": "code",
   "execution_count": null,
   "id": "35aa5363",
   "metadata": {},
   "outputs": [],
   "source": [
    "#drop the days_review column\n",
    "listings.drop(columns=['days_review'],axis=1,inplace=True)"
   ]
  },
  {
   "cell_type": "markdown",
   "id": "0c39e075",
   "metadata": {},
   "source": [
    "# 2. Missing values computations \n",
    "For the rest of the columns we will handle the missing values one by one\n",
    "IT IS VERY IMPORTANT BEFORE IMPUTING MISSING VALUES TO SPLIT THE DATA INTO TRAIN&TEST -> TO AVOID DATA LEAKAGE. __COMPUTATIONS SHOULD BE DONE ONLY ON THE TRAIN SET!__<br>\n",
    "Use sklearn SimpleImputer or other in-built imputers -> and place it in a Pipeline. "
   ]
  },
  {
   "cell_type": "code",
   "execution_count": null,
   "id": "a524bbe2",
   "metadata": {},
   "outputs": [],
   "source": [
    "df = listings.drop(['price_per_person'],axis=1)\n",
    "y = listings['price_per_person'].copy()"
   ]
  },
  {
   "cell_type": "code",
   "execution_count": null,
   "id": "5562fb98",
   "metadata": {},
   "outputs": [],
   "source": [
    "X_train, X_test, y_train, y_test = train_test_split(df, # just the features\n",
    "                                                    y, # the target\n",
    "                                                    test_size=0.3, # the percentage of obs in the test set\n",
    "                                                    random_state=42) # for reproducibility"
   ]
  },
  {
   "cell_type": "code",
   "execution_count": null,
   "id": "d1ce957e",
   "metadata": {},
   "outputs": [],
   "source": []
  },
  {
   "cell_type": "code",
   "execution_count": null,
   "id": "275a7067",
   "metadata": {},
   "outputs": [],
   "source": []
  },
  {
   "cell_type": "code",
   "execution_count": null,
   "id": "69fc3d31",
   "metadata": {},
   "outputs": [],
   "source": [
    "X_train['beds'].value_counts()"
   ]
  },
  {
   "cell_type": "code",
   "execution_count": null,
   "id": "4b912928",
   "metadata": {},
   "outputs": [],
   "source": [
    "X_test['beds'].value_counts()"
   ]
  },
  {
   "cell_type": "code",
   "execution_count": null,
   "id": "6e87efbd",
   "metadata": {},
   "outputs": [],
   "source": [
    "X_train['beds'].hist()"
   ]
  },
  {
   "cell_type": "code",
   "execution_count": null,
   "id": "57ea1d28",
   "metadata": {},
   "outputs": [],
   "source": [
    "X_train.hist(bins=50, figsize=(10,10))\n",
    "plt.show()"
   ]
  },
  {
   "cell_type": "code",
   "execution_count": null,
   "id": "1071c3c1",
   "metadata": {},
   "outputs": [],
   "source": [
    "X_test.hist(bins=50, figsize=(10,10))\n",
    "plt.show()"
   ]
  },
  {
   "cell_type": "code",
   "execution_count": null,
   "id": "fabbd336",
   "metadata": {},
   "outputs": [],
   "source": [
    "y_train.hist()"
   ]
  },
  {
   "cell_type": "code",
   "execution_count": null,
   "id": "0f3261c6",
   "metadata": {},
   "outputs": [],
   "source": [
    "y_test.hist()"
   ]
  },
  {
   "cell_type": "code",
   "execution_count": null,
   "id": "07182499",
   "metadata": {
    "scrolled": false
   },
   "outputs": [],
   "source": [
    "listings.isna().sum().sort_values(ascending = False)"
   ]
  },
  {
   "cell_type": "code",
   "execution_count": null,
   "id": "10d2c31d",
   "metadata": {},
   "outputs": [],
   "source": [
    "X_train.describe().transpose()"
   ]
  },
  {
   "cell_type": "code",
   "execution_count": null,
   "id": "91ea815b",
   "metadata": {},
   "outputs": [],
   "source": [
    "#We will use missing value for the review columns NAs, since the proportion of the missing data is huge - 20% of the total dataset\n",
    "missing_value = ['reviews_per_month','review_scores_location',\n",
    "                          'review_scores_value','review_scores_checkin','review_scores_cleanliness',\n",
    "                          'review_scores_communication','review_scores_rating','review_scores_accuracy',\n",
    "                'host_response_time']\n",
    "\n",
    "for col in missing_value:\n",
    "    X_train[col].fillna(-1,inplace=True)\n",
    "    X_test[col].fillna(-1,inplace=True)"
   ]
  },
  {
   "cell_type": "code",
   "execution_count": null,
   "id": "ff8621ad",
   "metadata": {},
   "outputs": [],
   "source": [
    "cols = ['host_response_rate','host_acceptance_rate']\n",
    "for col in cols:\n",
    "    X_train[col] = X_train[col].str.replace('%','')\n",
    "    X_train[col] = pd.to_numeric(X_train[col])\n",
    "    X_test[col] = X_test[col].str.replace('%','')\n",
    "    X_test[col] = pd.to_numeric(X_test[col])"
   ]
  },
  {
   "cell_type": "code",
   "execution_count": null,
   "id": "a4534669",
   "metadata": {},
   "outputs": [],
   "source": [
    "# Imputing with median value - Based on the nature of the variables, as well as on their distribution, we are choosing what to impute with: variables with more close to normal distribution - mean; skewed variables - median\n",
    "numeric_features_median = ['bathrooms','bedrooms','beds','days_operation','host_response_rate','host_acceptance_rate']\n",
    "\n",
    "for col in numeric_features_median:\n",
    "    X_train[col].fillna(X_train[col].median(),inplace=True)\n",
    "    X_test[col].fillna(X_test[col].median(),inplace=True)"
   ]
  },
  {
   "cell_type": "code",
   "execution_count": null,
   "id": "36b4a3f0",
   "metadata": {},
   "outputs": [],
   "source": [
    "#impute with mode for the categorical features\n",
    "cat_features_mode = ['host_neighbourhood','property_type','city']\n",
    "\n",
    "for col in cat_features_mode:\n",
    "    most = X_train[col].mode().values[0]\n",
    "    X_train[col].fillna(most,inplace=True)\n",
    "    most2 = X_test[col].mode().values[0]\n",
    "    X_test[col].fillna(most2,inplace=True)"
   ]
  },
  {
   "cell_type": "code",
   "execution_count": null,
   "id": "4fc3dbb8",
   "metadata": {},
   "outputs": [],
   "source": [
    "X_train.isna().sum().sort_values(ascending=False).head()"
   ]
  },
  {
   "cell_type": "code",
   "execution_count": null,
   "id": "774f7818",
   "metadata": {},
   "outputs": [],
   "source": [
    "X_test.isna().sum().head()"
   ]
  },
  {
   "cell_type": "code",
   "execution_count": null,
   "id": "f1c2c81d",
   "metadata": {},
   "outputs": [],
   "source": [
    "X_train.shape"
   ]
  },
  {
   "cell_type": "code",
   "execution_count": null,
   "id": "3c4da528",
   "metadata": {},
   "outputs": [],
   "source": [
    "y_train.shape"
   ]
  },
  {
   "cell_type": "code",
   "execution_count": null,
   "id": "8af05b6d",
   "metadata": {},
   "outputs": [],
   "source": [
    "X_test.shape"
   ]
  },
  {
   "cell_type": "code",
   "execution_count": null,
   "id": "42a67891",
   "metadata": {},
   "outputs": [],
   "source": []
  },
  {
   "cell_type": "code",
   "execution_count": null,
   "id": "172e275c",
   "metadata": {},
   "outputs": [],
   "source": [
    "#In addition, we will drop the id, the host_id\n",
    "X_train.drop(['id','host_id'],axis=1,inplace=True)\n",
    "X_test.drop(['id','host_id'],axis=1,inplace=True)"
   ]
  },
  {
   "cell_type": "code",
   "execution_count": null,
   "id": "8a2b85d9",
   "metadata": {},
   "outputs": [],
   "source": [
    "#Drop street, since we have geo coordinates\n",
    "X_train.drop(['street'],axis=1,inplace=True)\n",
    "X_test.drop(['street'],axis=1,inplace=True)"
   ]
  },
  {
   "cell_type": "code",
   "execution_count": null,
   "id": "4de62327",
   "metadata": {},
   "outputs": [],
   "source": [
    "X_train.describe().transpose()"
   ]
  },
  {
   "cell_type": "code",
   "execution_count": null,
   "id": "cb0c73b5",
   "metadata": {},
   "outputs": [],
   "source": [
    "X_train.describe(include='object').transpose()"
   ]
  },
  {
   "cell_type": "code",
   "execution_count": null,
   "id": "3761a472",
   "metadata": {},
   "outputs": [],
   "source": [
    "X_train.shape"
   ]
  },
  {
   "cell_type": "code",
   "execution_count": null,
   "id": "cb404b7a",
   "metadata": {},
   "outputs": [],
   "source": [
    "X_train.drop(['host_location',\n",
    "             'is_location_exact','calculated_host_listings_count'],axis=1,inplace=True)\n",
    "X_test.drop(['host_location',\n",
    "              'is_location_exact','calculated_host_listings_count'],axis=1,inplace=True)"
   ]
  },
  {
   "cell_type": "markdown",
   "id": "03fbfccb",
   "metadata": {},
   "source": [
    "# 3. Other feature engineering \n",
    "- cardinality check\n",
    "- categorical encoding\n",
    "- discretization"
   ]
  },
  {
   "cell_type": "markdown",
   "id": "d55493a6",
   "metadata": {},
   "source": [
    "### 3.1. Cardinality check \n",
    "on columns: host_response_time, host_neighbourhood, host_verifications, neighbourhood_cleansed,city,smart_location,property type, room type, bed type, amenities, cancellation policy<br>\n",
    "\n",
    "host_response_rate, neighbourhood_cleansed, property_type, room_type, bed_type, cancellation_policy - to be encoded<br>\n",
    "city - encoded as Binary; smart_location - stores the same info as city, dropped<br>\n",
    "host_neighbourhood - transform into another variable: 1 if it is the same with the listing neighbourhood, 0 if it is different<br>\n",
    "__amenities & host_verifications - text preprocessing&feature vectorization"
   ]
  },
  {
   "cell_type": "code",
   "execution_count": null,
   "id": "ebd41838",
   "metadata": {},
   "outputs": [],
   "source": [
    "X_train['host_response_time'].value_counts()"
   ]
  },
  {
   "cell_type": "code",
   "execution_count": null,
   "id": "4722cad7",
   "metadata": {},
   "outputs": [],
   "source": [
    "X_train['smart_location'].value_counts()"
   ]
  },
  {
   "cell_type": "code",
   "execution_count": null,
   "id": "90b44476",
   "metadata": {},
   "outputs": [],
   "source": [
    "#THe prevailing value was Boston, so we marked the city with 1 for Boston, and 0 for the rest\n",
    "X_train['city']=np.where(X_train['city']=='Boston',1,0)\n",
    "X_test['city']=np.where(X_test['city']=='Boston',1,0)"
   ]
  },
  {
   "cell_type": "code",
   "execution_count": null,
   "id": "7705968c",
   "metadata": {},
   "outputs": [],
   "source": [
    "#drop smart location, as it is the same as City\n",
    "X_train.drop(['smart_location'],axis=1,inplace=True)\n",
    "X_test.drop(['smart_location'],axis=1,inplace=True)"
   ]
  },
  {
   "cell_type": "code",
   "execution_count": null,
   "id": "ae52f798",
   "metadata": {},
   "outputs": [],
   "source": [
    "#For the host neighbourhoud, I will introduce a new variable - whether it is the same as the property neighbourhood. \n",
    "X_train['same_neigh'] = np.where(X_train['host_neighbourhood'].str.lower() == X_train['neighbourhood_cleansed'].str.lower(), 1, 0)"
   ]
  },
  {
   "cell_type": "code",
   "execution_count": null,
   "id": "ae4c142f",
   "metadata": {},
   "outputs": [],
   "source": [
    "X_test['same_neigh'] = np.where(X_test['host_neighbourhood'].str.lower() == X_test['neighbourhood_cleansed'].str.lower(), 1, 0)"
   ]
  },
  {
   "cell_type": "code",
   "execution_count": null,
   "id": "057b3b80",
   "metadata": {},
   "outputs": [],
   "source": [
    "X_train.drop(['host_neighbourhood'],axis=1,inplace=True)\n",
    "X_test.drop(['host_neighbourhood'],axis=1,inplace=True)"
   ]
  },
  {
   "cell_type": "code",
   "execution_count": null,
   "id": "170d7871",
   "metadata": {},
   "outputs": [],
   "source": [
    "X_train['neighbourhood_cleansed'].value_counts()"
   ]
  },
  {
   "cell_type": "code",
   "execution_count": null,
   "id": "a2fba84f",
   "metadata": {},
   "outputs": [],
   "source": [
    "X_train['amenities'].nunique()"
   ]
  },
  {
   "cell_type": "code",
   "execution_count": null,
   "id": "21ada7d8",
   "metadata": {},
   "outputs": [],
   "source": [
    "#X_train['host_verifications'].nunique()"
   ]
  },
  {
   "cell_type": "code",
   "execution_count": null,
   "id": "82c068ea",
   "metadata": {},
   "outputs": [],
   "source": [
    "listings['property_type'].value_counts()"
   ]
  },
  {
   "cell_type": "markdown",
   "id": "1bb4ebf8",
   "metadata": {},
   "source": [
    "#### 3.1.1.Categorical handling of host verifications and amenities"
   ]
  },
  {
   "cell_type": "code",
   "execution_count": null,
   "id": "2ddd9e61",
   "metadata": {},
   "outputs": [],
   "source": [
    "def text_cleaner_open_amenities(serie, words= []):\n",
    "    '''\n",
    "    input: pandas series, stop words\n",
    "    ouput: removes special char, stop words, symbols.'''\n",
    "    serie = serie.astype(str).str.lower()\n",
    "    #st = PorterStemmer()\n",
    "    stop= stopwords.words('english') + words\n",
    "    stop = [x for x in stop]\n",
    "    \n",
    "    serie=serie.str.replace('\"','')\n",
    "    serie=serie.str.replace('{','')\n",
    "    serie=serie.str.replace('}','')\n",
    "    serie= serie.apply(lambda x: \" \".join([word for word in x.split() \n",
    "                                           if word not in stop])) \n",
    "    return serie"
   ]
  },
  {
   "cell_type": "code",
   "execution_count": null,
   "id": "d9f40717",
   "metadata": {},
   "outputs": [],
   "source": [
    "X_train['amenities'] = text_cleaner_open_amenities(X_train['amenities'])\n",
    "X_test['amenities'] = text_cleaner_open_amenities(X_test['amenities'])"
   ]
  },
  {
   "cell_type": "code",
   "execution_count": null,
   "id": "976a1647",
   "metadata": {},
   "outputs": [],
   "source": [
    "vectorizer_am = CountVectorizer(tokenizer=lambda x: x.split(','))\n",
    "vectorizer_am.fit(X_train['amenities'])"
   ]
  },
  {
   "cell_type": "code",
   "execution_count": null,
   "id": "fa8d1098",
   "metadata": {},
   "outputs": [],
   "source": [
    "vectorizer_am.get_feature_names()"
   ]
  },
  {
   "cell_type": "code",
   "execution_count": null,
   "id": "da008dd6",
   "metadata": {},
   "outputs": [],
   "source": [
    "dt = vectorizer_am.transform(X_train['amenities'])"
   ]
  },
  {
   "cell_type": "code",
   "execution_count": null,
   "id": "5cccc69e",
   "metadata": {},
   "outputs": [],
   "source": [
    "dt.shape"
   ]
  },
  {
   "cell_type": "code",
   "execution_count": null,
   "id": "65de0a95",
   "metadata": {},
   "outputs": [],
   "source": [
    "#new = pd.DataFrame(dt.toarray(), columns=vectorizer_am.get_feature_names(), index= a.index)"
   ]
  },
  {
   "cell_type": "code",
   "execution_count": null,
   "id": "412b6bae",
   "metadata": {},
   "outputs": [],
   "source": [
    "#new.isna().sum()"
   ]
  },
  {
   "cell_type": "code",
   "execution_count": null,
   "id": "9769180d",
   "metadata": {},
   "outputs": [],
   "source": [
    "X_train = X_train.join(pd.DataFrame(dt.toarray(), columns=vectorizer_am.get_feature_names(), index= X_train.index))"
   ]
  },
  {
   "cell_type": "code",
   "execution_count": null,
   "id": "3c80a604",
   "metadata": {},
   "outputs": [],
   "source": [
    "X_train.shape"
   ]
  },
  {
   "cell_type": "code",
   "execution_count": null,
   "id": "2e5decbd",
   "metadata": {},
   "outputs": [],
   "source": [
    "X_train.head()"
   ]
  },
  {
   "cell_type": "code",
   "execution_count": null,
   "id": "1d36a8a7",
   "metadata": {},
   "outputs": [],
   "source": [
    "dt1 = vectorizer_am.transform(X_test['amenities'])"
   ]
  },
  {
   "cell_type": "code",
   "execution_count": null,
   "id": "55566496",
   "metadata": {},
   "outputs": [],
   "source": [
    "dt1.shape"
   ]
  },
  {
   "cell_type": "code",
   "execution_count": null,
   "id": "af406aab",
   "metadata": {},
   "outputs": [],
   "source": [
    "X_test = X_test.join(pd.DataFrame(dt1.toarray(), columns=vectorizer_am.get_feature_names(), index= X_test.index))"
   ]
  },
  {
   "cell_type": "code",
   "execution_count": null,
   "id": "ef01210c",
   "metadata": {},
   "outputs": [],
   "source": [
    "#combine some of the features\n",
    "X_train.loc[X_train['wireless internet']==1,'internet']=1\n",
    "X_test.loc[X_test['wireless internet']==1,'internet']=1"
   ]
  },
  {
   "cell_type": "code",
   "execution_count": null,
   "id": "01731b58",
   "metadata": {},
   "outputs": [],
   "source": [
    "X_train.loc[X_train['tv']==1,'cable tv']=1\n",
    "X_test.loc[X_test['tv']==1,'cable tv']=1"
   ]
  },
  {
   "cell_type": "code",
   "execution_count": null,
   "id": "c10e050b",
   "metadata": {},
   "outputs": [],
   "source": [
    "X_train.loc[X_train['washer / dryer']==1,'washer']=1\n",
    "X_train.loc[X_train['washer / dryer']==1,'dryer']=1\n",
    "\n",
    "X_test.loc[X_test['washer / dryer']==1,'washer']=1\n",
    "X_test.loc[X_test['washer / dryer']==1,'dryer']=1"
   ]
  },
  {
   "cell_type": "code",
   "execution_count": null,
   "id": "77188114",
   "metadata": {},
   "outputs": [],
   "source": []
  },
  {
   "cell_type": "code",
   "execution_count": null,
   "id": "08e67ccf",
   "metadata": {},
   "outputs": [],
   "source": [
    "X_train.drop(['','translation missing: en.hosting_amenity_49',\n",
    " 'translation missing: en.hosting_amenity_50','wireless internet','tv','washer / dryer'],axis=1,inplace=True)"
   ]
  },
  {
   "cell_type": "code",
   "execution_count": null,
   "id": "3d02286d",
   "metadata": {},
   "outputs": [],
   "source": [
    "X_test.drop(['','translation missing: en.hosting_amenity_49',\n",
    " 'translation missing: en.hosting_amenity_50','wireless internet','tv','washer / dryer'],axis=1,inplace=True)"
   ]
  },
  {
   "cell_type": "code",
   "execution_count": null,
   "id": "e8251dc5",
   "metadata": {},
   "outputs": [],
   "source": [
    "X_train.shape"
   ]
  },
  {
   "cell_type": "code",
   "execution_count": null,
   "id": "56a526c5",
   "metadata": {},
   "outputs": [],
   "source": [
    "X_test.shape"
   ]
  },
  {
   "cell_type": "markdown",
   "id": "fb6b8431",
   "metadata": {},
   "source": [
    "#### 3.1.2.Host verifications"
   ]
  },
  {
   "cell_type": "code",
   "execution_count": null,
   "id": "a7ec14e3",
   "metadata": {},
   "outputs": [],
   "source": [
    "def text_cleaner_open_verifications(serie, words= []):\n",
    "    '''\n",
    "    input: pandas series, stop words\n",
    "    ouput: removes special char, stop words, symbols.'''\n",
    "    serie = serie.astype(str).str.lower()\n",
    "    #st = PorterStemmer()\n",
    "    stop= stopwords.words('english') + words\n",
    "    stop = [x for x in stop]\n",
    "    \n",
    "    serie=serie.str.replace('\\'','')\n",
    "    serie=serie.str.replace('{','')\n",
    "    serie=serie.str.replace('}','')\n",
    "    serie=serie.str.replace('[','')\n",
    "    serie=serie.str.replace(']','')\n",
    "    serie = serie.str.strip()\n",
    "    serie= serie.apply(lambda x: \" \".join([word for word in x.split() \n",
    "                                           if word not in stop])) \n",
    "    return serie"
   ]
  },
  {
   "cell_type": "code",
   "execution_count": null,
   "id": "96fdc4ef",
   "metadata": {},
   "outputs": [],
   "source": [
    "X_train['host_verifications'] = text_cleaner_open_verifications(X_train['host_verifications'])\n",
    "X_test['host_verifications'] = text_cleaner_open_verifications(X_test['host_verifications'])"
   ]
  },
  {
   "cell_type": "code",
   "execution_count": null,
   "id": "4712d880",
   "metadata": {},
   "outputs": [],
   "source": [
    "vectorizer = CountVectorizer(tokenizer=lambda x: x.split(','))\n",
    "vectorizer.fit(X_train['host_verifications'])"
   ]
  },
  {
   "cell_type": "code",
   "execution_count": null,
   "id": "dbc058f2",
   "metadata": {},
   "outputs": [],
   "source": [
    "vectorizer.get_feature_names()"
   ]
  },
  {
   "cell_type": "code",
   "execution_count": null,
   "id": "66482de4",
   "metadata": {},
   "outputs": [],
   "source": [
    "dt2 = vectorizer.transform(X_train['host_verifications'])"
   ]
  },
  {
   "cell_type": "code",
   "execution_count": null,
   "id": "a6493907",
   "metadata": {},
   "outputs": [],
   "source": [
    "dt2.shape"
   ]
  },
  {
   "cell_type": "code",
   "execution_count": null,
   "id": "f063f265",
   "metadata": {},
   "outputs": [],
   "source": [
    "X_train = X_train.join(pd.DataFrame(dt2.toarray(), columns=vectorizer.get_feature_names(), index= X_train.index))"
   ]
  },
  {
   "cell_type": "code",
   "execution_count": null,
   "id": "cefa99af",
   "metadata": {},
   "outputs": [],
   "source": [
    "dt3 = vectorizer.transform(X_test['host_verifications'])"
   ]
  },
  {
   "cell_type": "code",
   "execution_count": null,
   "id": "db681cb0",
   "metadata": {},
   "outputs": [],
   "source": [
    "dt3.shape"
   ]
  },
  {
   "cell_type": "code",
   "execution_count": null,
   "id": "40fb98e1",
   "metadata": {},
   "outputs": [],
   "source": [
    "X_test = X_test.join(pd.DataFrame(dt3.toarray(), columns=vectorizer.get_feature_names(), index= X_test.index))"
   ]
  },
  {
   "cell_type": "code",
   "execution_count": null,
   "id": "98944c46",
   "metadata": {},
   "outputs": [],
   "source": [
    "X_test.shape"
   ]
  },
  {
   "cell_type": "code",
   "execution_count": null,
   "id": "0dfa46f3",
   "metadata": {},
   "outputs": [],
   "source": [
    "X_train.loc[X_train[' phone']==1,'phone']=1\n",
    "X_test.loc[X_test[' phone']==1,'phone']=1"
   ]
  },
  {
   "cell_type": "code",
   "execution_count": null,
   "id": "0568b0ca",
   "metadata": {},
   "outputs": [],
   "source": [
    "X_train.drop(['phone'],axis=1,inplace=True)\n",
    "X_test.drop(['phone'],axis=1,inplace=True)"
   ]
  },
  {
   "cell_type": "code",
   "execution_count": null,
   "id": "7b2d6ff5",
   "metadata": {},
   "outputs": [],
   "source": [
    "X_train.drop(['amenities','host_verifications'],axis=1,inplace=True)\n",
    "X_test.drop(['amenities','host_verifications'],axis=1,inplace=True)"
   ]
  },
  {
   "cell_type": "code",
   "execution_count": null,
   "id": "d5cd5d2b",
   "metadata": {},
   "outputs": [],
   "source": [
    "X_train.shape"
   ]
  },
  {
   "cell_type": "code",
   "execution_count": null,
   "id": "1423f504",
   "metadata": {},
   "outputs": [],
   "source": [
    "X_test.shape"
   ]
  },
  {
   "cell_type": "code",
   "execution_count": null,
   "id": "b1e054d8",
   "metadata": {},
   "outputs": [],
   "source": [
    "X_train_t=X_train.copy()\n",
    "X_test_t=X_test.copy()"
   ]
  },
  {
   "cell_type": "markdown",
   "id": "05eb5138",
   "metadata": {},
   "source": [
    "#### Discretization"
   ]
  },
  {
   "cell_type": "code",
   "execution_count": null,
   "id": "f78a0d5c",
   "metadata": {},
   "outputs": [],
   "source": [
    "cols = ['host_response_rate','host_acceptance_rate']\n",
    "for col in cols:\n",
    "    X_train[col] = X_train[col].str.replace('%','')\n",
    "    X_train[col] = pd.to_numeric(X_train[col])\n",
    "    X_test[col] = X_test[col].str.replace('%','')\n",
    "    X_test[col] = pd.to_numeric(X_test[col])"
   ]
  },
  {
   "cell_type": "code",
   "execution_count": null,
   "id": "6cede060",
   "metadata": {},
   "outputs": [],
   "source": [
    "X_train['host_response_rate'].fillna(-1,inplace=True)\n",
    "X_train['host_acceptance_rate'].fillna(-1,inplace=True)\n",
    "\n",
    "X_test['host_response_rate'].fillna(-1,inplace=True)\n",
    "X_test['host_acceptance_rate'].fillna(-1,inplace=True)"
   ]
  },
  {
   "cell_type": "code",
   "execution_count": null,
   "id": "504b3439",
   "metadata": {},
   "outputs": [],
   "source": [
    "# bucket boundaries\n",
    "buckets = [-1, 0, 20, 40, 50, 70, 90,100]\n",
    "X_train['response_rate_buckets'] = pd.cut(X_train['host_response_rate'], bins=buckets, include_lowest=True)\n",
    "X_test['response_rate_buckets'] = pd.cut(X_test['host_response_rate'], bins=buckets, include_lowest=True)"
   ]
  },
  {
   "cell_type": "code",
   "execution_count": null,
   "id": "d41e780e",
   "metadata": {},
   "outputs": [],
   "source": [
    "# bucket 2 boundaries\n",
    "buckets2 = [-1, 0, 20, 40, 50, 70, 90,100]\n",
    "X_train['accept_rate_buckets'] = pd.cut(X_train['host_acceptance_rate'], bins=buckets, include_lowest=True)\n",
    "X_test['accept_rate_buckets'] = pd.cut(X_test['host_acceptance_rate'], bins=buckets, include_lowest=True)"
   ]
  },
  {
   "cell_type": "code",
   "execution_count": null,
   "id": "745a1d93",
   "metadata": {},
   "outputs": [],
   "source": [
    "X_train['response_rate_buckets'].value_counts()"
   ]
  },
  {
   "cell_type": "code",
   "execution_count": null,
   "id": "021be1a5",
   "metadata": {},
   "outputs": [],
   "source": [
    "X_test['response_rate_buckets'].value_counts()"
   ]
  },
  {
   "cell_type": "code",
   "execution_count": null,
   "id": "93c178d3",
   "metadata": {},
   "outputs": [],
   "source": [
    "X_train.drop(['host_response_rate','host_acceptance_rate'],axis=1,inplace=True)"
   ]
  },
  {
   "cell_type": "code",
   "execution_count": null,
   "id": "ebc2fb25",
   "metadata": {},
   "outputs": [],
   "source": [
    "X_test.drop(['host_response_rate','host_acceptance_rate'],axis=1,inplace=True)"
   ]
  },
  {
   "cell_type": "markdown",
   "id": "a7472103",
   "metadata": {},
   "source": [
    "### 3.2. Categorical encoding\n",
    "For this I will use one-hot encoding. \n",
    "__For Linear regression model - encode into K-1 variables<br>\n",
    "For tree models - encode into K variables, since with the ensemble methods we are not using all features__\n",
    "I am using the One-hot encoder from the feature engine, since it directly returns a dataframe w/o the original variable, with the respective names etc."
   ]
  },
  {
   "cell_type": "code",
   "execution_count": null,
   "id": "14417ad7",
   "metadata": {},
   "outputs": [],
   "source": [
    "X_train.describe(include='object').transpose()"
   ]
  },
  {
   "cell_type": "code",
   "execution_count": null,
   "id": "1f3327bd",
   "metadata": {},
   "outputs": [],
   "source": [
    "X_train.isna().sum().head()"
   ]
  },
  {
   "cell_type": "code",
   "execution_count": null,
   "id": "806551a3",
   "metadata": {},
   "outputs": [],
   "source": [
    "ohe_enc = fe_OneHotEncoder(\n",
    "    top_categories=None,\n",
    "    variables=['host_response_time','neighbourhood_cleansed','property_type','room_type','bed_type','cancellation_policy','response_rate_buckets','accept_rate_buckets'],  # we can select which variables to encode\n",
    "    drop_last=False)  # to return k-1, false to return k\n",
    "\n",
    "ohe_enc.fit(X_train)"
   ]
  },
  {
   "cell_type": "code",
   "execution_count": null,
   "id": "128a9bd7",
   "metadata": {},
   "outputs": [],
   "source": [
    "X_train_tr = ohe_enc.transform(X_train)\n",
    "\n",
    "X_train_tr.head()"
   ]
  },
  {
   "cell_type": "code",
   "execution_count": null,
   "id": "7e1c3cbe",
   "metadata": {},
   "outputs": [],
   "source": [
    "X_train_tr.shape"
   ]
  },
  {
   "cell_type": "code",
   "execution_count": null,
   "id": "d529c943",
   "metadata": {},
   "outputs": [],
   "source": [
    "X_test_tr = ohe_enc.transform(X_test)\n",
    "\n",
    "X_test_tr.head()"
   ]
  },
  {
   "cell_type": "code",
   "execution_count": null,
   "id": "a017bf2c",
   "metadata": {},
   "outputs": [],
   "source": [
    "X_test_tr.shape"
   ]
  },
  {
   "cell_type": "code",
   "execution_count": null,
   "id": "f1c04272",
   "metadata": {
    "scrolled": false
   },
   "outputs": [],
   "source": [
    "X_test_tr.isna().sum().sort_values(ascending=False).head()"
   ]
  },
  {
   "cell_type": "markdown",
   "id": "308e6c75",
   "metadata": {},
   "source": [
    "All variables are transformed into numerical, encoded, and without null values!"
   ]
  },
  {
   "cell_type": "code",
   "execution_count": null,
   "id": "2b6876d3",
   "metadata": {},
   "outputs": [],
   "source": [
    "X_train_tr.info()"
   ]
  },
  {
   "cell_type": "code",
   "execution_count": null,
   "id": "3e2cedc5",
   "metadata": {},
   "outputs": [],
   "source": [
    "X_test_tr.info()"
   ]
  },
  {
   "cell_type": "markdown",
   "id": "5670b763",
   "metadata": {},
   "source": [
    "# 4. Feature selection"
   ]
  },
  {
   "cell_type": "markdown",
   "id": "70a37390",
   "metadata": {},
   "source": [
    "## 4.1. Constant features and quasi-constant features"
   ]
  },
  {
   "cell_type": "code",
   "execution_count": null,
   "id": "cc7487a3",
   "metadata": {},
   "outputs": [],
   "source": [
    "constant_features = [\n",
    "    feat for feat in X_train_tr.columns if X_train_tr[feat].std() == 0\n",
    "]"
   ]
  },
  {
   "cell_type": "code",
   "execution_count": null,
   "id": "5372f3ec",
   "metadata": {},
   "outputs": [],
   "source": [
    "constant_features"
   ]
  },
  {
   "cell_type": "code",
   "execution_count": null,
   "id": "5792c155",
   "metadata": {},
   "outputs": [],
   "source": [
    "#drop the constant features\n",
    "X_train_tr.drop(constant_features,axis=1,inplace=True)\n",
    "X_test_tr.drop(constant_features,axis=1,inplace=True)"
   ]
  },
  {
   "cell_type": "code",
   "execution_count": null,
   "id": "362e94b3",
   "metadata": {},
   "outputs": [],
   "source": [
    "# remove quasi-constant features\n",
    "sel = VarianceThreshold(\n",
    "    threshold=0.01)  # 0.1 indicates 99% of observations approximately\n",
    "\n",
    "sel.fit(X_train_tr)  # fit finds the features with low variance\n",
    "\n",
    "sum(sel.get_support()) # how many not quasi-constant?"
   ]
  },
  {
   "cell_type": "code",
   "execution_count": null,
   "id": "96d8b564",
   "metadata": {},
   "outputs": [],
   "source": [
    "X_train_tr.shape"
   ]
  },
  {
   "cell_type": "code",
   "execution_count": null,
   "id": "abb931c8",
   "metadata": {},
   "outputs": [],
   "source": [
    "features_not_keep = X_train_tr.columns[~sel.get_support()]"
   ]
  },
  {
   "cell_type": "code",
   "execution_count": null,
   "id": "98206324",
   "metadata": {},
   "outputs": [],
   "source": [
    "features_not_keep "
   ]
  },
  {
   "cell_type": "markdown",
   "id": "59018c34",
   "metadata": {},
   "source": [
    "I will not remove the quasi-constant features for now"
   ]
  },
  {
   "cell_type": "markdown",
   "id": "73c244d0",
   "metadata": {},
   "source": [
    "## 4.2. Remove correlated features"
   ]
  },
  {
   "cell_type": "code",
   "execution_count": null,
   "id": "34f95118",
   "metadata": {},
   "outputs": [],
   "source": [
    "# find and remove correlated features\n",
    "\n",
    "def correlation(dataset, threshold):\n",
    "    col_corr = set()  # Set of all the names of correlated columns\n",
    "    \n",
    "    corr_matrix = dataset.corr()\n",
    "    \n",
    "    for i in range(len(corr_matrix.columns)):\n",
    "    \n",
    "        for j in range(i):\n",
    "            if abs(corr_matrix.iloc[i, j]) > threshold: # we are interested in absolute coeff value\n",
    "                colname = corr_matrix.columns[i]  # getting the name of column\n",
    "                col_corr.add(colname)\n",
    "    return col_corr\n",
    "\n",
    "corr_features = correlation(X_train_tr, 0.8)\n",
    "print('correlated features: ', len(set(corr_features)) )"
   ]
  },
  {
   "cell_type": "code",
   "execution_count": null,
   "id": "5b8e7f95",
   "metadata": {},
   "outputs": [],
   "source": [
    "corr_features"
   ]
  },
  {
   "cell_type": "code",
   "execution_count": null,
   "id": "f62e24b7",
   "metadata": {},
   "outputs": [],
   "source": [
    "X_train_tr.shape"
   ]
  },
  {
   "cell_type": "code",
   "execution_count": null,
   "id": "a70fe1e6",
   "metadata": {},
   "outputs": [],
   "source": [
    "X_test_tr.shape"
   ]
  },
  {
   "cell_type": "markdown",
   "id": "377c45cb",
   "metadata": {},
   "source": [
    "## Remove outliers from price\n",
    "Only from tH TRAIN SET!"
   ]
  },
  {
   "cell_type": "code",
   "execution_count": null,
   "id": "ad7fb26e",
   "metadata": {},
   "outputs": [],
   "source": [
    "train = X_train_tr.join(y_train)"
   ]
  },
  {
   "cell_type": "code",
   "execution_count": null,
   "id": "5584806a",
   "metadata": {},
   "outputs": [],
   "source": [
    "train.head()"
   ]
  },
  {
   "cell_type": "code",
   "execution_count": null,
   "id": "da52f770",
   "metadata": {},
   "outputs": [],
   "source": [
    "RM_upper_limit, RM_lower_limit = find_skewed_boundaries(train, 'price_per_person', 1.5)\n",
    "RM_upper_limit, RM_lower_limit"
   ]
  },
  {
   "cell_type": "code",
   "execution_count": null,
   "id": "a8f341b3",
   "metadata": {},
   "outputs": [],
   "source": [
    "train['outliers_price'] = np.where(train['price_per_person'] > RM_upper_limit, True,\n",
    "                       np.where(train['price_per_person'] < RM_lower_limit, True, False))"
   ]
  },
  {
   "cell_type": "code",
   "execution_count": null,
   "id": "a215f940",
   "metadata": {},
   "outputs": [],
   "source": [
    "train['outliers_price'].value_counts()"
   ]
  },
  {
   "cell_type": "code",
   "execution_count": null,
   "id": "591acf6d",
   "metadata": {},
   "outputs": [],
   "source": [
    "101/2509"
   ]
  },
  {
   "cell_type": "code",
   "execution_count": null,
   "id": "90d543e5",
   "metadata": {},
   "outputs": [],
   "source": [
    "train = train[train['outliers_price']==False]"
   ]
  },
  {
   "cell_type": "code",
   "execution_count": null,
   "id": "29581ed8",
   "metadata": {},
   "outputs": [],
   "source": [
    "train.shape"
   ]
  },
  {
   "cell_type": "code",
   "execution_count": null,
   "id": "625977d8",
   "metadata": {},
   "outputs": [],
   "source": [
    "X_train_tr = train.drop('price_per_person',axis=1)\n",
    "y_train = train['price_per_person'].copy()"
   ]
  },
  {
   "cell_type": "code",
   "execution_count": null,
   "id": "647699ae",
   "metadata": {},
   "outputs": [],
   "source": [
    "X_train_tr.drop(columns={'outliers_price'},axis=1,inplace=True)"
   ]
  },
  {
   "cell_type": "code",
   "execution_count": null,
   "id": "debfab1b",
   "metadata": {},
   "outputs": [],
   "source": [
    "X_train_tr.shape"
   ]
  },
  {
   "cell_type": "code",
   "execution_count": null,
   "id": "0693e86c",
   "metadata": {},
   "outputs": [],
   "source": [
    "X_test_tr.shape"
   ]
  },
  {
   "cell_type": "code",
   "execution_count": null,
   "id": "588fedda",
   "metadata": {},
   "outputs": [],
   "source": [
    "y_train.shape"
   ]
  },
  {
   "cell_type": "markdown",
   "id": "b09dfcd1",
   "metadata": {},
   "source": [
    "# 5. Feature scaling\n",
    "Before the modelling part, and depending on the model itself. E.g. tree models do not require feature scaling"
   ]
  },
  {
   "cell_type": "code",
   "execution_count": null,
   "id": "3639b6ea",
   "metadata": {},
   "outputs": [],
   "source": [
    "y_test.head()"
   ]
  },
  {
   "cell_type": "code",
   "execution_count": null,
   "id": "2d0c6e71",
   "metadata": {},
   "outputs": [],
   "source": [
    "rf = RandomForestRegressor(n_estimators=300, random_state=42)\n",
    "rf.fit(X_train_tr, y_train)"
   ]
  },
  {
   "cell_type": "code",
   "execution_count": null,
   "id": "996f0717",
   "metadata": {},
   "outputs": [],
   "source": [
    "from sklearn.preprocessing import StandardScaler\n",
    "\n",
    "scaler = StandardScaler()\n",
    "\n",
    "scaler.fit(X_train_tr)\n",
    "\n",
    "X_train_scaled = scaler.transform(X_train_tr)\n",
    "X_test_scaled = scaler.transform(X_test_tr)"
   ]
  },
  {
   "cell_type": "code",
   "execution_count": null,
   "id": "92648d15",
   "metadata": {},
   "outputs": [],
   "source": [
    "pred = rf.predict(X_train_tr)"
   ]
  },
  {
   "cell_type": "code",
   "execution_count": null,
   "id": "8af6e192",
   "metadata": {},
   "outputs": [],
   "source": [
    "pred_test = rf.predict(X_test_tr)"
   ]
  },
  {
   "cell_type": "code",
   "execution_count": null,
   "id": "e4dd5864",
   "metadata": {},
   "outputs": [],
   "source": [
    "#R 2 based on training set\n",
    "r2_score(y_train,pred)"
   ]
  },
  {
   "cell_type": "code",
   "execution_count": null,
   "id": "976d68f2",
   "metadata": {},
   "outputs": [],
   "source": [
    "from math import sqrt\n",
    "sqrt(mean_squared_error(y_train,pred))"
   ]
  },
  {
   "cell_type": "code",
   "execution_count": null,
   "id": "14542ff7",
   "metadata": {},
   "outputs": [],
   "source": [
    "#R 2 based on training set\n",
    "r2_score(y_test,pred_test)"
   ]
  },
  {
   "cell_type": "code",
   "execution_count": null,
   "id": "867c6452",
   "metadata": {},
   "outputs": [],
   "source": [
    "sqrt(mean_squared_error(y_test,pred_test))"
   ]
  },
  {
   "cell_type": "code",
   "execution_count": null,
   "id": "d26f12ed",
   "metadata": {},
   "outputs": [],
   "source": [
    "rf.feature_importances_"
   ]
  },
  {
   "cell_type": "code",
   "execution_count": null,
   "id": "16808a34",
   "metadata": {},
   "outputs": [],
   "source": [
    "feat_importances = pd.Series(rf.feature_importances_, index=X_train_tr.columns)\n",
    "feat_importances.nlargest(15).plot(kind='barh')\n",
    "plt.title(\"Top 15 important features\")\n",
    "plt.show()"
   ]
  },
  {
   "cell_type": "code",
   "execution_count": null,
   "id": "96917ddb",
   "metadata": {},
   "outputs": [],
   "source": []
  },
  {
   "cell_type": "code",
   "execution_count": null,
   "id": "3a16f2a9",
   "metadata": {},
   "outputs": [],
   "source": [
    "rf1 = RandomForestRegressor(n_estimators=300, random_state=42)\n",
    "rf1.fit(X_test_tr, y_test)"
   ]
  },
  {
   "cell_type": "code",
   "execution_count": null,
   "id": "a1ada2b4",
   "metadata": {},
   "outputs": [],
   "source": [
    "pred = rf1.predict(X_test_tr)"
   ]
  },
  {
   "cell_type": "code",
   "execution_count": null,
   "id": "85153225",
   "metadata": {},
   "outputs": [],
   "source": [
    "#R 2 based on training set\n",
    "r2_score(y_test,pred)"
   ]
  },
  {
   "cell_type": "code",
   "execution_count": null,
   "id": "922544b5",
   "metadata": {},
   "outputs": [],
   "source": [
    "feat_importances = pd.Series(rf1.feature_importances_, index=X_test_tr.columns)\n",
    "feat_importances.nlargest(15).plot(kind='barh')\n",
    "plt.title(\"Top 15 important features\")\n",
    "plt.show()"
   ]
  },
  {
   "cell_type": "code",
   "execution_count": null,
   "id": "0f6626f3",
   "metadata": {},
   "outputs": [],
   "source": [
    "X_test_tr['days_operation'].min()"
   ]
  },
  {
   "cell_type": "code",
   "execution_count": null,
   "id": "baeaf677",
   "metadata": {},
   "outputs": [],
   "source": [
    "X_train_tr['days_operation'].min()"
   ]
  },
  {
   "cell_type": "code",
   "execution_count": null,
   "id": "1646b100",
   "metadata": {},
   "outputs": [],
   "source": [
    "X_train['property_type'].value_counts()/X_train.shape[0]"
   ]
  },
  {
   "cell_type": "code",
   "execution_count": null,
   "id": "e13038cd",
   "metadata": {},
   "outputs": [],
   "source": [
    "X_test['property_type'].value_counts()/X_test.shape[0]"
   ]
  },
  {
   "cell_type": "code",
   "execution_count": null,
   "id": "677e9192",
   "metadata": {},
   "outputs": [],
   "source": [
    "X_train_tr.info()"
   ]
  },
  {
   "cell_type": "code",
   "execution_count": null,
   "id": "6a9d311c",
   "metadata": {},
   "outputs": [],
   "source": [
    "diagnostic_plots(y_train,)"
   ]
  },
  {
   "cell_type": "code",
   "execution_count": null,
   "id": "db862627",
   "metadata": {},
   "outputs": [],
   "source": [
    "lr = LinearRegression()\n",
    "lr.fit(X_train_scaled,y_train)"
   ]
  },
  {
   "cell_type": "code",
   "execution_count": null,
   "id": "b8231d59",
   "metadata": {},
   "outputs": [],
   "source": [
    "pred = lr.predict(X_train_scaled)\n",
    "pred_test_lr = lr.predict(X_test_scaled)"
   ]
  },
  {
   "cell_type": "code",
   "execution_count": null,
   "id": "6b3adafe",
   "metadata": {},
   "outputs": [],
   "source": [
    "#R 2 based on training set\n",
    "r2_score(y_train,pred)"
   ]
  },
  {
   "cell_type": "code",
   "execution_count": null,
   "id": "99c3c200",
   "metadata": {},
   "outputs": [],
   "source": [
    "from math import sqrt\n",
    "sqrt(mean_squared_error(y_train,pred))"
   ]
  },
  {
   "cell_type": "code",
   "execution_count": null,
   "id": "183505fe",
   "metadata": {},
   "outputs": [],
   "source": [
    "#R 2 based on training set\n",
    "r2_score(y_test,pred_test_lr)"
   ]
  },
  {
   "cell_type": "code",
   "execution_count": null,
   "id": "f3b23247",
   "metadata": {},
   "outputs": [],
   "source": [
    "sqrt(mean_squared_error(y_test,pred_test_lr))"
   ]
  },
  {
   "cell_type": "code",
   "execution_count": null,
   "id": "a5c4f285",
   "metadata": {},
   "outputs": [],
   "source": [
    "#Visualize model prediction\n",
    "def model_prediction_plot(y_test, pred, name_test, name_pred, Title):\n",
    "    \n",
    "    plt.figure(figsize=(10, 8))\n",
    "    ax1 = sns.distplot(y_test, hist=False, color=\"r\", label=name_test)\n",
    "    ax2 = sns.distplot(pred, hist=False, color=\"b\", label=name_pred, ax=ax1)\n",
    "    plt.title(Title)\n",
    "    plt.xlabel('Price (dollars)')\n",
    "    plt.legend()\n",
    "    plt.show()\n",
    "    plt.close()\n",
    "model_prediction_plot(y_test, pred_test, 'Actual Values', 'Predicted Values', \n",
    "                 'Distribution  Plot of  Predicted Value vs Test Data Distribution')"
   ]
  },
  {
   "cell_type": "code",
   "execution_count": null,
   "id": "87a0f83d",
   "metadata": {},
   "outputs": [],
   "source": []
  }
 ],
 "metadata": {
  "kernelspec": {
   "display_name": "Python 3 (ipykernel)",
   "language": "python",
   "name": "python3"
  },
  "language_info": {
   "codemirror_mode": {
    "name": "ipython",
    "version": 3
   },
   "file_extension": ".py",
   "mimetype": "text/x-python",
   "name": "python",
   "nbconvert_exporter": "python",
   "pygments_lexer": "ipython3",
   "version": "3.9.7"
  }
 },
 "nbformat": 4,
 "nbformat_minor": 5
}
