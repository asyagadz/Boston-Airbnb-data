{
 "cells": [
  {
   "cell_type": "markdown",
   "id": "6f74ee99",
   "metadata": {},
   "source": [
    "I will perform in this notebook the feature selection techniques /if any/, as well as the modelling part. \n",
    "To choose the right model and parameters, I am using GridSearchCV technique, with final test set for evaluation."
   ]
  },
  {
   "cell_type": "code",
   "execution_count": 1,
   "id": "1fd7059f",
   "metadata": {},
   "outputs": [],
   "source": [
    "import pandas as pd\n",
    "import numpy as np\n",
    "import math\n",
    "\n",
    "from math import sqrt\n",
    "import regex as re\n",
    "import matplotlib.pyplot as plt\n",
    "import matplotlib.ticker as mtick \n",
    "import matplotlib.dates as mdates\n",
    "from matplotlib.ticker import PercentFormatter, FuncFormatter\n",
    "%matplotlib inline\n",
    "import matplotlib.pylab as pylab\n",
    "params = {'legend.fontsize': 'x-large',\n",
    "         'axes.labelsize': 'x-large',\n",
    "         'axes.titlesize':'xx-large',\n",
    "         'xtick.labelsize':'large',\n",
    "         'ytick.labelsize':'large'}\n",
    "pylab.rcParams.update(params)\n",
    "from cycler import cycler\n",
    "\n",
    "import seaborn as sns\n",
    "sns.set()\n",
    "\n",
    "import nltk\n",
    "from nltk.corpus import stopwords\n",
    "from wordcloud import WordCloud\n",
    "from sklearn.feature_extraction.text import TfidfTransformer\n",
    "from sklearn.feature_extraction.text import TfidfVectorizer\n",
    "from sklearn.feature_extraction.text import CountVectorizer\n",
    "from textacy import preprocessing\n",
    "import textacy\n",
    "from nltk.corpus import stopwords\n",
    "from nltk.stem import *\n",
    "\n",
    "import spacy\n",
    "nlp = spacy.load('en_core_web_sm')\n",
    "\n",
    "from sklearn.model_selection import train_test_split\n",
    "from sklearn import metrics\n",
    "# for one hot encoding with sklearn\n",
    "from sklearn.preprocessing import OneHotEncoder\n",
    "from sklearn.feature_selection import VarianceThreshold\n",
    "\n",
    "# for the Q-Q plots\n",
    "import scipy.stats as stats\n",
    "\n",
    "\n",
    "# for one hot encoding with feature-engine\n",
    "from feature_engine.encoding import OneHotEncoder as fe_OneHotEncoder\n",
    "\n",
    "from sklearn.linear_model import LinearRegression\n",
    "from sklearn.preprocessing import StandardScaler\n",
    "from sklearn.preprocessing import MinMaxScaler\n",
    "from sklearn.ensemble import RandomForestRegressor\n",
    "from sklearn.tree import DecisionTreeRegressor\n",
    "from sklearn.ensemble import GradientBoostingClassifier\n",
    "import joblib\n",
    "\n",
    "# to determine the p-values with anova\n",
    "from sklearn.feature_selection import f_classif, f_regression\n",
    "\n",
    "\n",
    "from sklearn.metrics import r2_score, mean_squared_error\n",
    "# environment settings\n",
    "pd.set_option('display.max_column',None)\n",
    "pd.set_option('display.max_rows',None)"
   ]
  },
  {
   "cell_type": "code",
   "execution_count": 2,
   "id": "5e69c930",
   "metadata": {},
   "outputs": [],
   "source": [
    "X_train = pd.read_pickle('/Users/asyagadzhalova/Documents/GitHub/Boston-Airbnb-data/src/data/processed/X_train.pkl')\n",
    "y_train = pd.read_pickle('/Users/asyagadzhalova/Documents/GitHub/Boston-Airbnb-data/src/data/processed/y_train.pkl')\n",
    "X_test = pd.read_pickle('/Users/asyagadzhalova/Documents/GitHub/Boston-Airbnb-data/src/data/processed/X_test.pkl')\n",
    "y_test = pd.read_pickle('/Users/asyagadzhalova/Documents/GitHub/Boston-Airbnb-data/src/data/processed/y_test.pkl')"
   ]
  },
  {
   "cell_type": "code",
   "execution_count": 3,
   "id": "c1c6504d",
   "metadata": {},
   "outputs": [
    {
     "data": {
      "text/plain": [
       "(3182, 138)"
      ]
     },
     "execution_count": 3,
     "metadata": {},
     "output_type": "execute_result"
    }
   ],
   "source": [
    "X_train.shape"
   ]
  },
  {
   "cell_type": "code",
   "execution_count": 4,
   "id": "cc90fb61",
   "metadata": {},
   "outputs": [
    {
     "data": {
      "text/plain": [
       "(359, 138)"
      ]
     },
     "execution_count": 4,
     "metadata": {},
     "output_type": "execute_result"
    }
   ],
   "source": [
    "X_test.shape"
   ]
  },
  {
   "cell_type": "markdown",
   "id": "d7d85f66",
   "metadata": {},
   "source": [
    "# Filter methods"
   ]
  },
  {
   "cell_type": "markdown",
   "id": "b5744ebd",
   "metadata": {},
   "source": [
    "## Constant features removal"
   ]
  },
  {
   "cell_type": "code",
   "execution_count": 5,
   "id": "73753c84",
   "metadata": {},
   "outputs": [
    {
     "data": {
      "text/plain": [
       "VarianceThreshold(threshold=0)"
      ]
     },
     "execution_count": 5,
     "metadata": {},
     "output_type": "execute_result"
    }
   ],
   "source": [
    "sel = VarianceThreshold(threshold=0)\n",
    "\n",
    "sel.fit(X_train)  # fit finds the features with zero variance"
   ]
  },
  {
   "cell_type": "code",
   "execution_count": 6,
   "id": "4ff12cee",
   "metadata": {},
   "outputs": [
    {
     "data": {
      "text/plain": [
       "0"
      ]
     },
     "execution_count": 6,
     "metadata": {},
     "output_type": "execute_result"
    }
   ],
   "source": [
    "#Number of features with 0 variance -> those are constant and should be removed\n",
    "sum(~sel.get_support())"
   ]
  },
  {
   "cell_type": "markdown",
   "id": "e513753a",
   "metadata": {},
   "source": [
    "## Quasi-constant features"
   ]
  },
  {
   "cell_type": "code",
   "execution_count": 7,
   "id": "2f5963c2",
   "metadata": {},
   "outputs": [
    {
     "data": {
      "text/plain": [
       "VarianceThreshold(threshold=0.01)"
      ]
     },
     "execution_count": 7,
     "metadata": {},
     "output_type": "execute_result"
    }
   ],
   "source": [
    "sel = VarianceThreshold(threshold=0.01)  \n",
    "sel.fit(X_train)  # fit finds the features with low variance"
   ]
  },
  {
   "cell_type": "code",
   "execution_count": 8,
   "id": "06554f4d",
   "metadata": {},
   "outputs": [
    {
     "data": {
      "text/plain": [
       "22"
      ]
     },
     "execution_count": 8,
     "metadata": {},
     "output_type": "execute_result"
    }
   ],
   "source": [
    "#Number of features with 0 variance -> those are constant and should be removed\n",
    "quasi_constant = X_train.columns[~sel.get_support()]\n",
    "\n",
    "len(quasi_constant)"
   ]
  },
  {
   "cell_type": "markdown",
   "id": "7d5a507b",
   "metadata": {},
   "source": [
    "There are 22 variables with 1% variance. "
   ]
  },
  {
   "cell_type": "code",
   "execution_count": 9,
   "id": "49750b69",
   "metadata": {},
   "outputs": [
    {
     "data": {
      "text/plain": [
       "Index(['latitude', 'longitude', 'free parking street', 'other pet(s)',\n",
       "       'paid parking premises', 'neighbourhood_cleansed_Bay Village',\n",
       "       'neighbourhood_cleansed_Hyde Park', 'neighbourhood_cleansed_Mattapan',\n",
       "       'neighbourhood_cleansed_Longwood Medical Area',\n",
       "       'neighbourhood_cleansed_Leather District', 'property_type_Villa',\n",
       "       'property_type_Loft', 'property_type_Boat', 'property_type_Other',\n",
       "       'property_type_Entire Floor', 'property_type_Guesthouse',\n",
       "       'bed_type_Couch', 'bed_type_Pull-out Sofa',\n",
       "       'response_rate_buckets_(40.0, 50.0]',\n",
       "       'response_rate_buckets_(20.0, 40.0]',\n",
       "       'response_rate_buckets_(0.0, 20.0]', 'accept_rate_buckets_(0.0, 20.0]'],\n",
       "      dtype='object')"
      ]
     },
     "execution_count": 9,
     "metadata": {},
     "output_type": "execute_result"
    }
   ],
   "source": [
    "quasi_constant"
   ]
  },
  {
   "cell_type": "markdown",
   "id": "41a4536a",
   "metadata": {},
   "source": [
    "I will not remove the quasi-constant features. "
   ]
  },
  {
   "cell_type": "code",
   "execution_count": 10,
   "id": "ca521996",
   "metadata": {},
   "outputs": [],
   "source": [
    "# capture feature names\n",
    "\n",
    "#feat_names = X_train.columns[sel.get_support()]"
   ]
  },
  {
   "cell_type": "code",
   "execution_count": 11,
   "id": "d877443b",
   "metadata": {},
   "outputs": [],
   "source": [
    "#remove the quasi-constant features\n",
    "\n",
    "#X_train = sel.transform(X_train)\n",
    "#X_test = sel.transform(X_test)\n",
    "\n",
    "#X_train.shape, X_test.shape"
   ]
  },
  {
   "cell_type": "code",
   "execution_count": 12,
   "id": "557aa287",
   "metadata": {},
   "outputs": [],
   "source": [
    "# trasnform the array into a dataframe\n",
    "\n",
    "#X_train = pd.DataFrame(X_train, columns=feat_names)\n",
    "#X_test = pd.DataFrame(X_test, columns=feat_names)\n",
    "\n",
    "#X_test.head()"
   ]
  },
  {
   "cell_type": "code",
   "execution_count": null,
   "id": "4dcfa006",
   "metadata": {},
   "outputs": [],
   "source": []
  },
  {
   "cell_type": "markdown",
   "id": "36a0c180",
   "metadata": {},
   "source": [
    "## Gridsearch CV for the best Random Forest Regressor"
   ]
  },
  {
   "cell_type": "code",
   "execution_count": 13,
   "id": "caea2c90",
   "metadata": {},
   "outputs": [],
   "source": [
    "#X_validation, X_test, y_validation, y_test = train_test_split(X_test, y_test, test_size=0.5, random_state=101)"
   ]
  },
  {
   "cell_type": "code",
   "execution_count": 14,
   "id": "0a3a1936",
   "metadata": {},
   "outputs": [],
   "source": [
    "from sklearn.model_selection import GridSearchCV"
   ]
  },
  {
   "cell_type": "code",
   "execution_count": 15,
   "id": "7a533d2a",
   "metadata": {},
   "outputs": [],
   "source": [
    "# Create a based model\n",
    "rf = RandomForestRegressor()"
   ]
  },
  {
   "cell_type": "code",
   "execution_count": 34,
   "id": "36ae6178",
   "metadata": {},
   "outputs": [],
   "source": [
    "# Create the parameter grid based on the results of random search \n",
    "param_grid = {\n",
    "    'bootstrap' : [True],\n",
    "    'max_depth': [40, 60, 80, 90, 100, 110],\n",
    "    'max_features': [\"sqrt\",\"auto\"],\n",
    "    'min_samples_leaf': [3, 4, 5],\n",
    "    'min_samples_split': [8, 10, 12],\n",
    "    'n_estimators': [100, 200, 300, 400]\n",
    "}"
   ]
  },
  {
   "cell_type": "code",
   "execution_count": 35,
   "id": "5c0db8fc",
   "metadata": {},
   "outputs": [],
   "source": [
    "# Instantiate the grid search model\n",
    "grid_search = GridSearchCV(estimator = rf, param_grid = param_grid, \n",
    "                          cv = 5, n_jobs = -1, verbose = 1)"
   ]
  },
  {
   "cell_type": "code",
   "execution_count": 36,
   "id": "eb9fc709",
   "metadata": {},
   "outputs": [
    {
     "name": "stdout",
     "output_type": "stream",
     "text": [
      "Fitting 5 folds for each of 432 candidates, totalling 2160 fits\n"
     ]
    },
    {
     "data": {
      "text/plain": [
       "GridSearchCV(cv=5, estimator=RandomForestRegressor(), n_jobs=-1,\n",
       "             param_grid={'bootstrap': [True],\n",
       "                         'max_depth': [40, 60, 80, 90, 100, 110],\n",
       "                         'max_features': ['sqrt', 'auto'],\n",
       "                         'min_samples_leaf': [3, 4, 5],\n",
       "                         'min_samples_split': [8, 10, 12],\n",
       "                         'n_estimators': [100, 200, 300, 400]},\n",
       "             verbose=1)"
      ]
     },
     "execution_count": 36,
     "metadata": {},
     "output_type": "execute_result"
    }
   ],
   "source": [
    "grid_search.fit(X_train,y_train)"
   ]
  },
  {
   "cell_type": "code",
   "execution_count": 37,
   "id": "b7bc7d7a",
   "metadata": {},
   "outputs": [
    {
     "data": {
      "text/plain": [
       "{'bootstrap': True,\n",
       " 'max_depth': 100,\n",
       " 'max_features': 'auto',\n",
       " 'min_samples_leaf': 3,\n",
       " 'min_samples_split': 8,\n",
       " 'n_estimators': 200}"
      ]
     },
     "execution_count": 37,
     "metadata": {},
     "output_type": "execute_result"
    }
   ],
   "source": [
    "#display the parameters of the best regressor\n",
    "grid_search.best_params_"
   ]
  },
  {
   "cell_type": "code",
   "execution_count": null,
   "id": "64e2ed45",
   "metadata": {},
   "outputs": [],
   "source": []
  },
  {
   "cell_type": "markdown",
   "id": "1848b271",
   "metadata": {},
   "source": [
    "### Final evaluation on test set"
   ]
  },
  {
   "cell_type": "code",
   "execution_count": 38,
   "id": "8a7c40da",
   "metadata": {},
   "outputs": [],
   "source": [
    "y_pred = grid_search.predict(X_test)"
   ]
  },
  {
   "cell_type": "code",
   "execution_count": 39,
   "id": "01d7562b",
   "metadata": {},
   "outputs": [
    {
     "data": {
      "text/plain": [
       "0.3134922352807318"
      ]
     },
     "execution_count": 39,
     "metadata": {},
     "output_type": "execute_result"
    }
   ],
   "source": [
    "r2_score(y_test,y_pred)"
   ]
  },
  {
   "cell_type": "code",
   "execution_count": 40,
   "id": "097bb26e",
   "metadata": {},
   "outputs": [],
   "source": [
    "x_pred = grid_search.predict(X_train)"
   ]
  },
  {
   "cell_type": "code",
   "execution_count": 41,
   "id": "1c37b5c6",
   "metadata": {},
   "outputs": [
    {
     "data": {
      "text/plain": [
       "0.8113998225749233"
      ]
     },
     "execution_count": 41,
     "metadata": {},
     "output_type": "execute_result"
    }
   ],
   "source": [
    "r2_score(y_train,x_pred)"
   ]
  },
  {
   "cell_type": "markdown",
   "id": "48cbefc2",
   "metadata": {},
   "source": [
    "### Build the Random Forest Regressor with the best parameters suggested by the GridSearch"
   ]
  },
  {
   "cell_type": "code",
   "execution_count": 19,
   "id": "935e800f",
   "metadata": {},
   "outputs": [],
   "source": [
    "rf = RandomForestRegressor(bootstrap=True, max_depth= 100,min_samples_leaf = 3, min_samples_split = 8,n_estimators = 200)"
   ]
  },
  {
   "cell_type": "code",
   "execution_count": 20,
   "id": "22949cbc",
   "metadata": {},
   "outputs": [
    {
     "data": {
      "text/plain": [
       "RandomForestRegressor(max_depth=100, min_samples_leaf=3, min_samples_split=8,\n",
       "                      n_estimators=200)"
      ]
     },
     "execution_count": 20,
     "metadata": {},
     "output_type": "execute_result"
    }
   ],
   "source": [
    "rf.fit(X_train,y_train)"
   ]
  },
  {
   "cell_type": "code",
   "execution_count": 24,
   "id": "46dcff03",
   "metadata": {},
   "outputs": [],
   "source": [
    "#get predictions on train set\n",
    "y_train_rf = rf.predict(X_train)"
   ]
  },
  {
   "cell_type": "code",
   "execution_count": 25,
   "id": "48af2cc7",
   "metadata": {},
   "outputs": [
    {
     "data": {
      "text/plain": [
       "0.8109564201511839"
      ]
     },
     "execution_count": 25,
     "metadata": {},
     "output_type": "execute_result"
    }
   ],
   "source": [
    "#r2 score on train set\n",
    "r2_score(y_train, y_train_rf)"
   ]
  },
  {
   "cell_type": "code",
   "execution_count": 21,
   "id": "5e97722d",
   "metadata": {},
   "outputs": [],
   "source": [
    "#get predictions on test set\n",
    "y_pred_rf = rf.predict(X_test)"
   ]
  },
  {
   "cell_type": "code",
   "execution_count": 22,
   "id": "d90b657c",
   "metadata": {},
   "outputs": [
    {
     "data": {
      "text/plain": [
       "0.3043827685872915"
      ]
     },
     "execution_count": 22,
     "metadata": {},
     "output_type": "execute_result"
    }
   ],
   "source": [
    "#r2 on test set\n",
    "r2_score(y_test, y_pred_rf)"
   ]
  },
  {
   "cell_type": "markdown",
   "id": "1532a96a",
   "metadata": {},
   "source": [
    "The R2 score that presents an overall metrics for the model, or how much of the variance in the price could be explained with the model, is low - 30.5%. For reference, the R2 score on the training data is 81%. So we see some significant difference between the train and test score, that is possibly due to overfitting on the training set, while the model does not perform well on test /treated as not seen/ data. To calculate the final metrics for root MSE, I will transform back the target variable with exp function /the target variable was the log of the price -> the error metrics are on the logs/"
   ]
  },
  {
   "cell_type": "markdown",
   "id": "30850076",
   "metadata": {},
   "source": [
    "#### Transforming the price predictions of the regression model "
   ]
  },
  {
   "cell_type": "code",
   "execution_count": 70,
   "id": "695c7319",
   "metadata": {},
   "outputs": [
    {
     "data": {
      "text/plain": [
       "2294    2.948641\n",
       "1966    4.605170\n",
       "2995    3.258097\n",
       "2616    4.258587\n",
       "2649    3.663562\n",
       "Name: price_per_person_log, dtype: float64"
      ]
     },
     "execution_count": 70,
     "metadata": {},
     "output_type": "execute_result"
    }
   ],
   "source": [
    "y_test.head()"
   ]
  },
  {
   "cell_type": "code",
   "execution_count": 76,
   "id": "361de258",
   "metadata": {},
   "outputs": [],
   "source": [
    "#Reversing back the log transformation of the target variable\n",
    "y_test_normal = np.exp(y_test)\n",
    "y_train_normal = np.exp(y_train)"
   ]
  },
  {
   "cell_type": "code",
   "execution_count": 73,
   "id": "92a50e67",
   "metadata": {},
   "outputs": [
    {
     "data": {
      "text/plain": [
       "2294     19.08\n",
       "1966    100.00\n",
       "2995     26.00\n",
       "2616     70.71\n",
       "2649     39.00\n",
       "Name: price_per_person_log, dtype: float64"
      ]
     },
     "execution_count": 73,
     "metadata": {},
     "output_type": "execute_result"
    }
   ],
   "source": [
    "y_test_normal.head()"
   ]
  },
  {
   "cell_type": "code",
   "execution_count": 84,
   "id": "23211b44",
   "metadata": {},
   "outputs": [],
   "source": [
    "y_test_pred_normal = np.exp(y_pred_rf)\n",
    "y_train_pred_normal = np.exp(y_train_rf)"
   ]
  },
  {
   "cell_type": "code",
   "execution_count": 75,
   "id": "bb614783",
   "metadata": {},
   "outputs": [
    {
     "data": {
      "text/plain": [
       "43.29387403907735"
      ]
     },
     "execution_count": 75,
     "metadata": {},
     "output_type": "execute_result"
    }
   ],
   "source": [
    "#Calculating the RMSE based on the original price form  - test set\n",
    "sqrt(mean_squared_error(y_test_normal,y_test_pred_normal))"
   ]
  },
  {
   "cell_type": "code",
   "execution_count": 85,
   "id": "46217d22",
   "metadata": {},
   "outputs": [
    {
     "data": {
      "text/plain": [
       "12.471040253975692"
      ]
     },
     "execution_count": 85,
     "metadata": {},
     "output_type": "execute_result"
    }
   ],
   "source": [
    "#Calculating the RMSE based on the original price form - train set \n",
    "sqrt(mean_squared_error(y_train_normal,y_train_pred_normal))"
   ]
  },
  {
   "cell_type": "markdown",
   "id": "a98aea2f",
   "metadata": {},
   "source": [
    "### Understanding feature importance"
   ]
  },
  {
   "cell_type": "markdown",
   "id": "7a75cb3c",
   "metadata": {},
   "source": [
    "To understand which features affect the price, I am using the feature_importances_ built-in function of the Random Forest Regressor, that corresponds to impurity-based feature importance. The higher the value, the more important is the feature to the target variable. "
   ]
  },
  {
   "cell_type": "code",
   "execution_count": null,
   "id": "d351c680",
   "metadata": {},
   "outputs": [],
   "source": []
  },
  {
   "cell_type": "code",
   "execution_count": 86,
   "id": "34a7bdfa",
   "metadata": {},
   "outputs": [],
   "source": [
    "features = pd.DataFrame(rf.feature_importances_, index = X_train.columns)"
   ]
  },
  {
   "cell_type": "code",
   "execution_count": 87,
   "id": "dd8b1c99",
   "metadata": {},
   "outputs": [],
   "source": [
    "features.reset_index().sort_values(by = 0, ascending = False).rename(columns={0:'feature_importance_coef'},inplace=True)"
   ]
  },
  {
   "cell_type": "code",
   "execution_count": 88,
   "id": "80f2ffbf",
   "metadata": {},
   "outputs": [],
   "source": [
    "features_1 = features.reset_index().rename(columns={'index':'features',0:'feature_importance_coef'})"
   ]
  },
  {
   "cell_type": "code",
   "execution_count": 89,
   "id": "4cc8eb4b",
   "metadata": {},
   "outputs": [
    {
     "data": {
      "text/plain": [
       "(130, 2)"
      ]
     },
     "execution_count": 89,
     "metadata": {},
     "output_type": "execute_result"
    }
   ],
   "source": [
    "features_1[features_1['feature_importance_coef']>0.000000].shape"
   ]
  },
  {
   "cell_type": "code",
   "execution_count": 90,
   "id": "58f7ef12",
   "metadata": {},
   "outputs": [
    {
     "data": {
      "text/plain": [
       "0.8601825603852815"
      ]
     },
     "execution_count": 90,
     "metadata": {},
     "output_type": "execute_result"
    }
   ],
   "source": [
    "features_1[features_1['feature_importance_coef']>0.005]['feature_importance_coef'].sum()"
   ]
  },
  {
   "cell_type": "code",
   "execution_count": 91,
   "id": "830f92f8",
   "metadata": {},
   "outputs": [
    {
     "data": {
      "text/html": [
       "<div>\n",
       "<style scoped>\n",
       "    .dataframe tbody tr th:only-of-type {\n",
       "        vertical-align: middle;\n",
       "    }\n",
       "\n",
       "    .dataframe tbody tr th {\n",
       "        vertical-align: top;\n",
       "    }\n",
       "\n",
       "    .dataframe thead th {\n",
       "        text-align: right;\n",
       "    }\n",
       "</style>\n",
       "<table border=\"1\" class=\"dataframe\">\n",
       "  <thead>\n",
       "    <tr style=\"text-align: right;\">\n",
       "      <th></th>\n",
       "      <th>features</th>\n",
       "      <th>feature_importance_coef</th>\n",
       "    </tr>\n",
       "  </thead>\n",
       "  <tbody>\n",
       "    <tr>\n",
       "      <th>4</th>\n",
       "      <td>latitude</td>\n",
       "      <td>0.155096</td>\n",
       "    </tr>\n",
       "    <tr>\n",
       "      <th>5</th>\n",
       "      <td>longitude</td>\n",
       "      <td>0.142284</td>\n",
       "    </tr>\n",
       "    <tr>\n",
       "      <th>10</th>\n",
       "      <td>cleaning_fee</td>\n",
       "      <td>0.051351</td>\n",
       "    </tr>\n",
       "    <tr>\n",
       "      <th>102</th>\n",
       "      <td>room_type_Entire home/apt</td>\n",
       "      <td>0.048140</td>\n",
       "    </tr>\n",
       "    <tr>\n",
       "      <th>19</th>\n",
       "      <td>reviews_per_month</td>\n",
       "      <td>0.044968</td>\n",
       "    </tr>\n",
       "    <tr>\n",
       "      <th>11</th>\n",
       "      <td>number_of_reviews</td>\n",
       "      <td>0.029970</td>\n",
       "    </tr>\n",
       "    <tr>\n",
       "      <th>9</th>\n",
       "      <td>security_deposit</td>\n",
       "      <td>0.025863</td>\n",
       "    </tr>\n",
       "    <tr>\n",
       "      <th>12</th>\n",
       "      <td>review_scores_rating</td>\n",
       "      <td>0.023876</td>\n",
       "    </tr>\n",
       "    <tr>\n",
       "      <th>87</th>\n",
       "      <td>neighbourhood_cleansed_East Boston</td>\n",
       "      <td>0.022493</td>\n",
       "    </tr>\n",
       "    <tr>\n",
       "      <th>109</th>\n",
       "      <td>cancellation_policy_flexible</td>\n",
       "      <td>0.020818</td>\n",
       "    </tr>\n",
       "    <tr>\n",
       "      <th>21</th>\n",
       "      <td>air conditioning</td>\n",
       "      <td>0.019712</td>\n",
       "    </tr>\n",
       "    <tr>\n",
       "      <th>125</th>\n",
       "      <td>accept_rate_buckets_(20.0, 40.0]</td>\n",
       "      <td>0.015673</td>\n",
       "    </tr>\n",
       "    <tr>\n",
       "      <th>8</th>\n",
       "      <td>beds</td>\n",
       "      <td>0.012738</td>\n",
       "    </tr>\n",
       "    <tr>\n",
       "      <th>37</th>\n",
       "      <td>gym</td>\n",
       "      <td>0.011428</td>\n",
       "    </tr>\n",
       "    <tr>\n",
       "      <th>24</th>\n",
       "      <td>cable tv</td>\n",
       "      <td>0.009827</td>\n",
       "    </tr>\n",
       "    <tr>\n",
       "      <th>6</th>\n",
       "      <td>bathrooms</td>\n",
       "      <td>0.009476</td>\n",
       "    </tr>\n",
       "    <tr>\n",
       "      <th>25</th>\n",
       "      <td>carbon monoxide detector</td>\n",
       "      <td>0.009087</td>\n",
       "    </tr>\n",
       "    <tr>\n",
       "      <th>55</th>\n",
       "      <td>smoke detector</td>\n",
       "      <td>0.008370</td>\n",
       "    </tr>\n",
       "    <tr>\n",
       "      <th>14</th>\n",
       "      <td>review_scores_cleanliness</td>\n",
       "      <td>0.008304</td>\n",
       "    </tr>\n",
       "    <tr>\n",
       "      <th>7</th>\n",
       "      <td>bedrooms</td>\n",
       "      <td>0.007470</td>\n",
       "    </tr>\n",
       "  </tbody>\n",
       "</table>\n",
       "</div>"
      ],
      "text/plain": [
       "                               features  feature_importance_coef\n",
       "4                              latitude                 0.155096\n",
       "5                             longitude                 0.142284\n",
       "10                         cleaning_fee                 0.051351\n",
       "102           room_type_Entire home/apt                 0.048140\n",
       "19                    reviews_per_month                 0.044968\n",
       "11                    number_of_reviews                 0.029970\n",
       "9                      security_deposit                 0.025863\n",
       "12                 review_scores_rating                 0.023876\n",
       "87   neighbourhood_cleansed_East Boston                 0.022493\n",
       "109        cancellation_policy_flexible                 0.020818\n",
       "21                     air conditioning                 0.019712\n",
       "125    accept_rate_buckets_(20.0, 40.0]                 0.015673\n",
       "8                                  beds                 0.012738\n",
       "37                                  gym                 0.011428\n",
       "24                             cable tv                 0.009827\n",
       "6                             bathrooms                 0.009476\n",
       "25             carbon monoxide detector                 0.009087\n",
       "55                       smoke detector                 0.008370\n",
       "14            review_scores_cleanliness                 0.008304\n",
       "7                              bedrooms                 0.007470"
      ]
     },
     "execution_count": 91,
     "metadata": {},
     "output_type": "execute_result"
    }
   ],
   "source": [
    "features_1.sort_values(by='feature_importance_coef',ascending=False).head(20)"
   ]
  },
  {
   "cell_type": "code",
   "execution_count": 100,
   "id": "2c910bb1",
   "metadata": {},
   "outputs": [
    {
     "data": {
      "image/png": "[encoded data removed]",
      "text/plain": [
       "<Figure size 864x576 with 1 Axes>"
      ]
     },
     "metadata": {},
     "output_type": "display_data"
    }
   ],
   "source": [
    "ax = features_1.sort_values(by='feature_importance_coef',ascending=False).head(30).plot(kind='barh', grid=False, x = 'features',y = 'feature_importance_coef',color='red',figsize=(12,8))\n",
    "plt.xticks(rotation=70)\n",
    "#ax.set_xticklabels(cal_month.index.strftime('%W'))\n",
    "plt.ylabel('features')\n",
    "plt.title('Top 30 features to affect the price', size = 20);\n",
    "#plt.legend(bbox_to_anchor=(1, 1),title = 'Vendor')"
   ]
  },
  {
   "cell_type": "code",
   "execution_count": 77,
   "id": "36cae33c",
   "metadata": {},
   "outputs": [
    {
     "data": {
      "text/plain": [
       "['/Users/asyagadzhalova/Documents/GitHub/Boston-Airbnb-data/src/models/random_forest.sav']"
      ]
     },
     "execution_count": 77,
     "metadata": {},
     "output_type": "execute_result"
    }
   ],
   "source": [
    "# save the model\n",
    "filename = '/Users/asyagadzhalova/Documents/GitHub/Boston-Airbnb-data/src/models/random_forest.sav'\n",
    "joblib.dump(rf, filename)"
   ]
  },
  {
   "cell_type": "code",
   "execution_count": 78,
   "id": "170098b1",
   "metadata": {},
   "outputs": [],
   "source": [
    "X_train.to_pickle('/Users/asyagadzhalova/Documents/GitHub/Boston-Airbnb-data/src/data/model/X_train.pkl')\n",
    "y_train_normal.to_pickle('/Users/asyagadzhalova/Documents/GitHub/Boston-Airbnb-data/src/data/model/y_train.pkl')\n",
    "X_test.to_pickle('/Users/asyagadzhalova/Documents/GitHub/Boston-Airbnb-data/src/data/model/X_test.pkl')\n",
    "y_test_normal.to_pickle('/Users/asyagadzhalova/Documents/GitHub/Boston-Airbnb-data/src/data/model/y_test.pkl')"
   ]
  },
  {
   "cell_type": "code",
   "execution_count": null,
   "id": "1aa725e0",
   "metadata": {},
   "outputs": [],
   "source": []
  }
 ],
 "metadata": {
  "kernelspec": {
   "display_name": "Python 3 (ipykernel)",
   "language": "python",
   "name": "python3"
  },
  "language_info": {
   "codemirror_mode": {
    "name": "ipython",
    "version": 3
   },
   "file_extension": ".py",
   "mimetype": "text/x-python",
   "name": "python",
   "nbconvert_exporter": "python",
   "pygments_lexer": "ipython3",
   "version": "3.9.7"
  }
 },
 "nbformat": 4,
 "nbformat_minor": 5
}
