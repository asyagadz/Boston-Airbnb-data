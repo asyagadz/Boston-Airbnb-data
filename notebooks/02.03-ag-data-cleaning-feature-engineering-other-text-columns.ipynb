{
 "cells": [
  {
   "cell_type": "markdown",
   "id": "914d181b",
   "metadata": {},
   "source": [
    "# Text analytics on Amenities&Host verifications features"
   ]
  },
  {
   "cell_type": "markdown",
   "id": "ecd6fcea",
   "metadata": {},
   "source": [
    "In this notebook we are doing the text analytics&processing on the fields: amenities, host_verifications.\n",
    "I performed text preprocessing in terms of cleaning, tokenization, lemmatization, and transformation of the text data into vectors, which are fed into a classification model.<br>"
   ]
  },
  {
   "cell_type": "code",
   "execution_count": 2,
   "id": "f0eb1a4e",
   "metadata": {},
   "outputs": [],
   "source": [
    "#imports \n",
    "import pandas as pd\n",
    "import numpy as np \n",
    "\n",
    "import regex as re\n",
    "import matplotlib.pyplot as plt\n",
    "import matplotlib.ticker as mtick \n",
    "import matplotlib.dates as mdates\n",
    "from matplotlib.ticker import PercentFormatter, FuncFormatter\n",
    "%matplotlib inline\n",
    "import matplotlib.pylab as pylab\n",
    "params = {'legend.fontsize': 'x-large',\n",
    "         'axes.labelsize': 'x-large',\n",
    "         'axes.titlesize':'xx-large',\n",
    "         'xtick.labelsize':'large',\n",
    "         'ytick.labelsize':'large'}\n",
    "pylab.rcParams.update(params)\n",
    "from cycler import cycler\n",
    "\n",
    "import seaborn as sns\n",
    "sns.set()\n",
    "\n",
    "import nltk\n",
    "from nltk.corpus import stopwords\n",
    "from wordcloud import WordCloud\n",
    "from sklearn.feature_extraction.text import TfidfTransformer\n",
    "from sklearn.feature_extraction.text import TfidfVectorizer\n",
    "from sklearn.feature_extraction.text import CountVectorizer\n",
    "from textacy import preprocessing\n",
    "import textacy\n",
    "from nltk.corpus import stopwords\n",
    "from nltk.stem import *\n",
    "\n",
    "import spacy\n",
    "nlp = spacy.load('en_core_web_sm')\n",
    "\n",
    "from sklearn.model_selection import train_test_split\n",
    "from sklearn.svm import LinearSVC\n",
    "from sklearn.naive_bayes import MultinomialNB\n",
    "from sklearn.model_selection import cross_val_score\n",
    "from  sklearn.metrics  import accuracy_score\n",
    "from sklearn import metrics\n",
    "from sklearn.metrics import confusion_matrix\n",
    "\n",
    "# environment settings\n",
    "pd.set_option('display.max_column',None)\n",
    "pd.set_option('display.max_rows',None)"
   ]
  },
  {
   "cell_type": "code",
   "execution_count": 3,
   "id": "ef892247",
   "metadata": {},
   "outputs": [],
   "source": [
    "#read data\n",
    "calendar = pd.read_csv('/Users/asyagadzhalova/Documents/GitHub/Boston-Airbnb-data/src/data/raw_data/calendar.csv')\n",
    "listings =  pd.read_csv('/Users/asyagadzhalova/Documents/GitHub/Boston-Airbnb-data/src/data/raw_data/listings.csv')\n",
    "reviews = pd.read_csv('/Users/asyagadzhalova/Documents/GitHub/Boston-Airbnb-data/src/data/raw_data/reviews.csv')"
   ]
  },
  {
   "cell_type": "code",
   "execution_count": 4,
   "id": "5e8765df",
   "metadata": {},
   "outputs": [],
   "source": [
    "df = listings[['id','amenities']].copy()"
   ]
  },
  {
   "cell_type": "code",
   "execution_count": 5,
   "id": "2537cd51",
   "metadata": {},
   "outputs": [],
   "source": [
    "df.dropna(axis=0,inplace=True)"
   ]
  },
  {
   "cell_type": "code",
   "execution_count": 6,
   "id": "630fd623",
   "metadata": {},
   "outputs": [
    {
     "data": {
      "text/plain": [
       "(3585, 2)"
      ]
     },
     "execution_count": 6,
     "metadata": {},
     "output_type": "execute_result"
    }
   ],
   "source": [
    "df.shape"
   ]
  },
  {
   "cell_type": "code",
   "execution_count": 7,
   "id": "947f7bbb",
   "metadata": {},
   "outputs": [
    {
     "data": {
      "text/html": [
       "<div>\n",
       "<style scoped>\n",
       "    .dataframe tbody tr th:only-of-type {\n",
       "        vertical-align: middle;\n",
       "    }\n",
       "\n",
       "    .dataframe tbody tr th {\n",
       "        vertical-align: top;\n",
       "    }\n",
       "\n",
       "    .dataframe thead th {\n",
       "        text-align: right;\n",
       "    }\n",
       "</style>\n",
       "<table border=\"1\" class=\"dataframe\">\n",
       "  <thead>\n",
       "    <tr style=\"text-align: right;\">\n",
       "      <th></th>\n",
       "      <th>id</th>\n",
       "      <th>amenities</th>\n",
       "    </tr>\n",
       "  </thead>\n",
       "  <tbody>\n",
       "    <tr>\n",
       "      <th>0</th>\n",
       "      <td>12147973</td>\n",
       "      <td>{TV,\"Wireless Internet\",Kitchen,\"Free Parking ...</td>\n",
       "    </tr>\n",
       "    <tr>\n",
       "      <th>1</th>\n",
       "      <td>3075044</td>\n",
       "      <td>{TV,Internet,\"Wireless Internet\",\"Air Conditio...</td>\n",
       "    </tr>\n",
       "    <tr>\n",
       "      <th>2</th>\n",
       "      <td>6976</td>\n",
       "      <td>{TV,\"Cable TV\",\"Wireless Internet\",\"Air Condit...</td>\n",
       "    </tr>\n",
       "    <tr>\n",
       "      <th>3</th>\n",
       "      <td>1436513</td>\n",
       "      <td>{TV,Internet,\"Wireless Internet\",\"Air Conditio...</td>\n",
       "    </tr>\n",
       "    <tr>\n",
       "      <th>4</th>\n",
       "      <td>7651065</td>\n",
       "      <td>{Internet,\"Wireless Internet\",\"Air Conditionin...</td>\n",
       "    </tr>\n",
       "  </tbody>\n",
       "</table>\n",
       "</div>"
      ],
      "text/plain": [
       "         id                                          amenities\n",
       "0  12147973  {TV,\"Wireless Internet\",Kitchen,\"Free Parking ...\n",
       "1   3075044  {TV,Internet,\"Wireless Internet\",\"Air Conditio...\n",
       "2      6976  {TV,\"Cable TV\",\"Wireless Internet\",\"Air Condit...\n",
       "3   1436513  {TV,Internet,\"Wireless Internet\",\"Air Conditio...\n",
       "4   7651065  {Internet,\"Wireless Internet\",\"Air Conditionin..."
      ]
     },
     "execution_count": 7,
     "metadata": {},
     "output_type": "execute_result"
    }
   ],
   "source": [
    "pd.set_option('display.width', None)\n",
    "df.head()"
   ]
  },
  {
   "cell_type": "markdown",
   "id": "b72381c5",
   "metadata": {},
   "source": [
    "Steps performed:<br>\n",
    "We will perform only bag-of-words model -> we will count the number of amenities by listing id. The count matrix we will use to feed into the linear model, but we will not perform tf-idf, only term-frequency count. We will use the counted features directly as binary variables. So the term frequency should only be done on the TRAIN set, not on the TEST set - > if we have features that are not on the TRAIN set, we need to think how to handle this. "
   ]
  },
  {
   "cell_type": "markdown",
   "id": "458b7aa4",
   "metadata": {},
   "source": [
    "### Text cleaning"
   ]
  },
  {
   "cell_type": "markdown",
   "id": "451d4a4c",
   "metadata": {},
   "source": [
    "#### Amenities"
   ]
  },
  {
   "cell_type": "code",
   "execution_count": 8,
   "id": "97a918df",
   "metadata": {},
   "outputs": [],
   "source": [
    "def text_cleaner_open(serie, words= []):\n",
    "    '''\n",
    "    input: pandas series, stop words\n",
    "    ouput: removes special char, stop words, symbols.'''\n",
    "    serie = serie.astype(str).str.lower()\n",
    "    #st = PorterStemmer()\n",
    "    stop= stopwords.words('english') + words\n",
    "    stop = [x for x in stop]\n",
    "    \n",
    "    serie=serie.str.replace('\"','')\n",
    "    serie=serie.str.replace('{','')\n",
    "    serie=serie.str.replace('}','')\n",
    "    serie=serie.str.replace('[','')\n",
    "    serie=serie.str.replace(']','')\n",
    "    serie= serie.apply(lambda x: \" \".join([word for word in x.split() \n",
    "                                           if word not in stop])) \n",
    "    return serie"
   ]
  },
  {
   "cell_type": "code",
   "execution_count": 9,
   "id": "c5d17f1f",
   "metadata": {},
   "outputs": [],
   "source": [
    "#use textacy for text normalization and preprocessing - removal of accents, hyphens, quotes etc.\n",
    "def normalize(text):\n",
    "    text = preprocessing.normalize.hyphenated_words(text)\n",
    "    text = preprocessing.normalize.unicode(text)\n",
    "    text = preprocessing.normalize.quotation_marks(text)\n",
    "    return text"
   ]
  },
  {
   "cell_type": "code",
   "execution_count": 10,
   "id": "61e0edbc",
   "metadata": {},
   "outputs": [],
   "source": [
    "df['amenities'] = df['amenities'].map(normalize)"
   ]
  },
  {
   "cell_type": "code",
   "execution_count": 11,
   "id": "c3a0bbb4",
   "metadata": {},
   "outputs": [
    {
     "name": "stderr",
     "output_type": "stream",
     "text": [
      "/var/folders/xx/52xcnk8x57b6lb5ws1h4mj2c0000gn/T/ipykernel_6473/1355668528.py:11: FutureWarning: The default value of regex will change from True to False in a future version. In addition, single character regular expressions will *not* be treated as literal strings when regex=True.\n",
      "  serie=serie.str.replace('{','')\n",
      "/var/folders/xx/52xcnk8x57b6lb5ws1h4mj2c0000gn/T/ipykernel_6473/1355668528.py:12: FutureWarning: The default value of regex will change from True to False in a future version. In addition, single character regular expressions will *not* be treated as literal strings when regex=True.\n",
      "  serie=serie.str.replace('}','')\n",
      "/var/folders/xx/52xcnk8x57b6lb5ws1h4mj2c0000gn/T/ipykernel_6473/1355668528.py:13: FutureWarning: The default value of regex will change from True to False in a future version. In addition, single character regular expressions will *not* be treated as literal strings when regex=True.\n",
      "  serie=serie.str.replace('[','')\n",
      "/var/folders/xx/52xcnk8x57b6lb5ws1h4mj2c0000gn/T/ipykernel_6473/1355668528.py:14: FutureWarning: The default value of regex will change from True to False in a future version. In addition, single character regular expressions will *not* be treated as literal strings when regex=True.\n",
      "  serie=serie.str.replace(']','')\n"
     ]
    }
   ],
   "source": [
    "df['amenities'] = text_cleaner_open(df['amenities'])"
   ]
  },
  {
   "cell_type": "code",
   "execution_count": 13,
   "id": "b3336773",
   "metadata": {},
   "outputs": [
    {
     "data": {
      "text/plain": [
       "(3585, 2)"
      ]
     },
     "execution_count": 13,
     "metadata": {},
     "output_type": "execute_result"
    }
   ],
   "source": [
    "df.shape"
   ]
  },
  {
   "cell_type": "code",
   "execution_count": 14,
   "id": "cec5f329",
   "metadata": {},
   "outputs": [
    {
     "data": {
      "text/html": [
       "<div>\n",
       "<style scoped>\n",
       "    .dataframe tbody tr th:only-of-type {\n",
       "        vertical-align: middle;\n",
       "    }\n",
       "\n",
       "    .dataframe tbody tr th {\n",
       "        vertical-align: top;\n",
       "    }\n",
       "\n",
       "    .dataframe thead th {\n",
       "        text-align: right;\n",
       "    }\n",
       "</style>\n",
       "<table border=\"1\" class=\"dataframe\">\n",
       "  <thead>\n",
       "    <tr style=\"text-align: right;\">\n",
       "      <th></th>\n",
       "      <th>id</th>\n",
       "      <th>amenities</th>\n",
       "    </tr>\n",
       "  </thead>\n",
       "  <tbody>\n",
       "    <tr>\n",
       "      <th>0</th>\n",
       "      <td>12147973</td>\n",
       "      <td>tv,wireless internet,kitchen,free parking prem...</td>\n",
       "    </tr>\n",
       "    <tr>\n",
       "      <th>1</th>\n",
       "      <td>3075044</td>\n",
       "      <td>tv,internet,wireless internet,air conditioning...</td>\n",
       "    </tr>\n",
       "    <tr>\n",
       "      <th>2</th>\n",
       "      <td>6976</td>\n",
       "      <td>tv,cable tv,wireless internet,air conditioning...</td>\n",
       "    </tr>\n",
       "    <tr>\n",
       "      <th>3</th>\n",
       "      <td>1436513</td>\n",
       "      <td>tv,internet,wireless internet,air conditioning...</td>\n",
       "    </tr>\n",
       "    <tr>\n",
       "      <th>4</th>\n",
       "      <td>7651065</td>\n",
       "      <td>internet,wireless internet,air conditioning,ki...</td>\n",
       "    </tr>\n",
       "  </tbody>\n",
       "</table>\n",
       "</div>"
      ],
      "text/plain": [
       "         id                                          amenities\n",
       "0  12147973  tv,wireless internet,kitchen,free parking prem...\n",
       "1   3075044  tv,internet,wireless internet,air conditioning...\n",
       "2      6976  tv,cable tv,wireless internet,air conditioning...\n",
       "3   1436513  tv,internet,wireless internet,air conditioning...\n",
       "4   7651065  internet,wireless internet,air conditioning,ki..."
      ]
     },
     "execution_count": 14,
     "metadata": {},
     "output_type": "execute_result"
    }
   ],
   "source": [
    "df.head()"
   ]
  },
  {
   "cell_type": "code",
   "execution_count": 18,
   "id": "36744fbf",
   "metadata": {},
   "outputs": [
    {
     "data": {
      "text/plain": [
       "CountVectorizer(tokenizer=<function <lambda> at 0x7fa0e00c3dc0>)"
      ]
     },
     "execution_count": 18,
     "metadata": {},
     "output_type": "execute_result"
    }
   ],
   "source": [
    "vectorizer = CountVectorizer(tokenizer=lambda x: x.split(','))\n",
    "vectorizer.fit(df['amenities'])"
   ]
  },
  {
   "cell_type": "code",
   "execution_count": 19,
   "id": "15e18995",
   "metadata": {},
   "outputs": [
    {
     "data": {
      "text/plain": [
       "['',\n",
       " '24-hour check-in',\n",
       " 'air conditioning',\n",
       " 'breakfast',\n",
       " 'buzzer/wireless intercom',\n",
       " 'cable tv',\n",
       " 'carbon monoxide detector',\n",
       " 'cat(s)',\n",
       " 'dog(s)',\n",
       " 'doorman',\n",
       " 'dryer',\n",
       " 'elevator building',\n",
       " 'essentials',\n",
       " 'family/kid friendly',\n",
       " 'fire extinguisher',\n",
       " 'first aid kit',\n",
       " 'free parking premises',\n",
       " 'free parking street',\n",
       " 'gym',\n",
       " 'hair dryer',\n",
       " 'hangers',\n",
       " 'heating',\n",
       " 'hot tub',\n",
       " 'indoor fireplace',\n",
       " 'internet',\n",
       " 'iron',\n",
       " 'kitchen',\n",
       " 'laptop friendly workspace',\n",
       " 'lock bedroom door',\n",
       " 'other pet(s)',\n",
       " 'paid parking premises',\n",
       " 'pets allowed',\n",
       " 'pets live property',\n",
       " 'pool',\n",
       " 'safety card',\n",
       " 'shampoo',\n",
       " 'smoke detector',\n",
       " 'smoking allowed',\n",
       " 'suitable events',\n",
       " 'translation missing: en.hosting_amenity_49',\n",
       " 'translation missing: en.hosting_amenity_50',\n",
       " 'tv',\n",
       " 'washer',\n",
       " 'washer / dryer',\n",
       " 'wheelchair accessible',\n",
       " 'wireless internet']"
      ]
     },
     "execution_count": 19,
     "metadata": {},
     "output_type": "execute_result"
    }
   ],
   "source": [
    "vectorizer.get_feature_names()"
   ]
  },
  {
   "cell_type": "code",
   "execution_count": 20,
   "id": "774fab1c",
   "metadata": {},
   "outputs": [],
   "source": [
    "dt = vectorizer.transform(df['amenities'])"
   ]
  },
  {
   "cell_type": "code",
   "execution_count": 21,
   "id": "eaee382b",
   "metadata": {},
   "outputs": [
    {
     "data": {
      "text/plain": [
       "(3585, 46)"
      ]
     },
     "execution_count": 21,
     "metadata": {},
     "output_type": "execute_result"
    }
   ],
   "source": [
    "dt.shape"
   ]
  },
  {
   "cell_type": "code",
   "execution_count": 22,
   "id": "0e0926b3",
   "metadata": {},
   "outputs": [],
   "source": [
    "df = df.join(pd.DataFrame(dt.toarray(), columns=vectorizer.get_feature_names()))"
   ]
  },
  {
   "cell_type": "code",
   "execution_count": 23,
   "id": "b5e9aea1",
   "metadata": {},
   "outputs": [
    {
     "data": {
      "text/html": [
       "<div>\n",
       "<style scoped>\n",
       "    .dataframe tbody tr th:only-of-type {\n",
       "        vertical-align: middle;\n",
       "    }\n",
       "\n",
       "    .dataframe tbody tr th {\n",
       "        vertical-align: top;\n",
       "    }\n",
       "\n",
       "    .dataframe thead th {\n",
       "        text-align: right;\n",
       "    }\n",
       "</style>\n",
       "<table border=\"1\" class=\"dataframe\">\n",
       "  <thead>\n",
       "    <tr style=\"text-align: right;\">\n",
       "      <th></th>\n",
       "      <th>id</th>\n",
       "      <th>amenities</th>\n",
       "      <th></th>\n",
       "      <th>24-hour check-in</th>\n",
       "      <th>air conditioning</th>\n",
       "      <th>breakfast</th>\n",
       "      <th>buzzer/wireless intercom</th>\n",
       "      <th>cable tv</th>\n",
       "      <th>carbon monoxide detector</th>\n",
       "      <th>cat(s)</th>\n",
       "      <th>dog(s)</th>\n",
       "      <th>doorman</th>\n",
       "      <th>dryer</th>\n",
       "      <th>elevator building</th>\n",
       "      <th>essentials</th>\n",
       "      <th>family/kid friendly</th>\n",
       "      <th>fire extinguisher</th>\n",
       "      <th>first aid kit</th>\n",
       "      <th>free parking premises</th>\n",
       "      <th>free parking street</th>\n",
       "      <th>gym</th>\n",
       "      <th>hair dryer</th>\n",
       "      <th>hangers</th>\n",
       "      <th>heating</th>\n",
       "      <th>hot tub</th>\n",
       "      <th>indoor fireplace</th>\n",
       "      <th>internet</th>\n",
       "      <th>iron</th>\n",
       "      <th>kitchen</th>\n",
       "      <th>laptop friendly workspace</th>\n",
       "      <th>lock bedroom door</th>\n",
       "      <th>other pet(s)</th>\n",
       "      <th>paid parking premises</th>\n",
       "      <th>pets allowed</th>\n",
       "      <th>pets live property</th>\n",
       "      <th>pool</th>\n",
       "      <th>safety card</th>\n",
       "      <th>shampoo</th>\n",
       "      <th>smoke detector</th>\n",
       "      <th>smoking allowed</th>\n",
       "      <th>suitable events</th>\n",
       "      <th>translation missing: en.hosting_amenity_49</th>\n",
       "      <th>translation missing: en.hosting_amenity_50</th>\n",
       "      <th>tv</th>\n",
       "      <th>washer</th>\n",
       "      <th>washer / dryer</th>\n",
       "      <th>wheelchair accessible</th>\n",
       "      <th>wireless internet</th>\n",
       "    </tr>\n",
       "  </thead>\n",
       "  <tbody>\n",
       "    <tr>\n",
       "      <th>0</th>\n",
       "      <td>12147973</td>\n",
       "      <td>tv,wireless internet,kitchen,free parking prem...</td>\n",
       "      <td>0</td>\n",
       "      <td>0</td>\n",
       "      <td>0</td>\n",
       "      <td>0</td>\n",
       "      <td>0</td>\n",
       "      <td>0</td>\n",
       "      <td>0</td>\n",
       "      <td>0</td>\n",
       "      <td>1</td>\n",
       "      <td>0</td>\n",
       "      <td>1</td>\n",
       "      <td>0</td>\n",
       "      <td>1</td>\n",
       "      <td>1</td>\n",
       "      <td>1</td>\n",
       "      <td>0</td>\n",
       "      <td>1</td>\n",
       "      <td>0</td>\n",
       "      <td>0</td>\n",
       "      <td>0</td>\n",
       "      <td>0</td>\n",
       "      <td>1</td>\n",
       "      <td>0</td>\n",
       "      <td>0</td>\n",
       "      <td>0</td>\n",
       "      <td>0</td>\n",
       "      <td>1</td>\n",
       "      <td>1</td>\n",
       "      <td>0</td>\n",
       "      <td>0</td>\n",
       "      <td>0</td>\n",
       "      <td>0</td>\n",
       "      <td>1</td>\n",
       "      <td>0</td>\n",
       "      <td>0</td>\n",
       "      <td>1</td>\n",
       "      <td>1</td>\n",
       "      <td>0</td>\n",
       "      <td>0</td>\n",
       "      <td>0</td>\n",
       "      <td>0</td>\n",
       "      <td>1</td>\n",
       "      <td>1</td>\n",
       "      <td>0</td>\n",
       "      <td>0</td>\n",
       "      <td>1</td>\n",
       "    </tr>\n",
       "    <tr>\n",
       "      <th>1</th>\n",
       "      <td>3075044</td>\n",
       "      <td>tv,internet,wireless internet,air conditioning...</td>\n",
       "      <td>0</td>\n",
       "      <td>0</td>\n",
       "      <td>1</td>\n",
       "      <td>0</td>\n",
       "      <td>0</td>\n",
       "      <td>0</td>\n",
       "      <td>1</td>\n",
       "      <td>0</td>\n",
       "      <td>1</td>\n",
       "      <td>0</td>\n",
       "      <td>1</td>\n",
       "      <td>0</td>\n",
       "      <td>1</td>\n",
       "      <td>1</td>\n",
       "      <td>1</td>\n",
       "      <td>0</td>\n",
       "      <td>0</td>\n",
       "      <td>0</td>\n",
       "      <td>0</td>\n",
       "      <td>1</td>\n",
       "      <td>1</td>\n",
       "      <td>1</td>\n",
       "      <td>0</td>\n",
       "      <td>0</td>\n",
       "      <td>1</td>\n",
       "      <td>1</td>\n",
       "      <td>1</td>\n",
       "      <td>0</td>\n",
       "      <td>1</td>\n",
       "      <td>0</td>\n",
       "      <td>0</td>\n",
       "      <td>1</td>\n",
       "      <td>1</td>\n",
       "      <td>0</td>\n",
       "      <td>0</td>\n",
       "      <td>1</td>\n",
       "      <td>1</td>\n",
       "      <td>0</td>\n",
       "      <td>0</td>\n",
       "      <td>0</td>\n",
       "      <td>0</td>\n",
       "      <td>1</td>\n",
       "      <td>1</td>\n",
       "      <td>0</td>\n",
       "      <td>0</td>\n",
       "      <td>1</td>\n",
       "    </tr>\n",
       "    <tr>\n",
       "      <th>2</th>\n",
       "      <td>6976</td>\n",
       "      <td>tv,cable tv,wireless internet,air conditioning...</td>\n",
       "      <td>0</td>\n",
       "      <td>0</td>\n",
       "      <td>1</td>\n",
       "      <td>0</td>\n",
       "      <td>0</td>\n",
       "      <td>1</td>\n",
       "      <td>1</td>\n",
       "      <td>0</td>\n",
       "      <td>0</td>\n",
       "      <td>0</td>\n",
       "      <td>1</td>\n",
       "      <td>0</td>\n",
       "      <td>1</td>\n",
       "      <td>0</td>\n",
       "      <td>0</td>\n",
       "      <td>1</td>\n",
       "      <td>1</td>\n",
       "      <td>0</td>\n",
       "      <td>0</td>\n",
       "      <td>0</td>\n",
       "      <td>0</td>\n",
       "      <td>1</td>\n",
       "      <td>0</td>\n",
       "      <td>0</td>\n",
       "      <td>0</td>\n",
       "      <td>0</td>\n",
       "      <td>1</td>\n",
       "      <td>0</td>\n",
       "      <td>1</td>\n",
       "      <td>0</td>\n",
       "      <td>0</td>\n",
       "      <td>0</td>\n",
       "      <td>0</td>\n",
       "      <td>0</td>\n",
       "      <td>1</td>\n",
       "      <td>1</td>\n",
       "      <td>1</td>\n",
       "      <td>0</td>\n",
       "      <td>0</td>\n",
       "      <td>1</td>\n",
       "      <td>1</td>\n",
       "      <td>1</td>\n",
       "      <td>1</td>\n",
       "      <td>0</td>\n",
       "      <td>0</td>\n",
       "      <td>1</td>\n",
       "    </tr>\n",
       "    <tr>\n",
       "      <th>3</th>\n",
       "      <td>1436513</td>\n",
       "      <td>tv,internet,wireless internet,air conditioning...</td>\n",
       "      <td>0</td>\n",
       "      <td>0</td>\n",
       "      <td>1</td>\n",
       "      <td>1</td>\n",
       "      <td>0</td>\n",
       "      <td>0</td>\n",
       "      <td>1</td>\n",
       "      <td>0</td>\n",
       "      <td>0</td>\n",
       "      <td>0</td>\n",
       "      <td>1</td>\n",
       "      <td>0</td>\n",
       "      <td>1</td>\n",
       "      <td>0</td>\n",
       "      <td>1</td>\n",
       "      <td>1</td>\n",
       "      <td>1</td>\n",
       "      <td>0</td>\n",
       "      <td>1</td>\n",
       "      <td>1</td>\n",
       "      <td>1</td>\n",
       "      <td>1</td>\n",
       "      <td>0</td>\n",
       "      <td>1</td>\n",
       "      <td>1</td>\n",
       "      <td>1</td>\n",
       "      <td>1</td>\n",
       "      <td>1</td>\n",
       "      <td>0</td>\n",
       "      <td>0</td>\n",
       "      <td>0</td>\n",
       "      <td>0</td>\n",
       "      <td>0</td>\n",
       "      <td>0</td>\n",
       "      <td>1</td>\n",
       "      <td>1</td>\n",
       "      <td>1</td>\n",
       "      <td>0</td>\n",
       "      <td>0</td>\n",
       "      <td>0</td>\n",
       "      <td>0</td>\n",
       "      <td>1</td>\n",
       "      <td>1</td>\n",
       "      <td>0</td>\n",
       "      <td>0</td>\n",
       "      <td>1</td>\n",
       "    </tr>\n",
       "    <tr>\n",
       "      <th>4</th>\n",
       "      <td>7651065</td>\n",
       "      <td>internet,wireless internet,air conditioning,ki...</td>\n",
       "      <td>0</td>\n",
       "      <td>0</td>\n",
       "      <td>1</td>\n",
       "      <td>1</td>\n",
       "      <td>0</td>\n",
       "      <td>0</td>\n",
       "      <td>1</td>\n",
       "      <td>0</td>\n",
       "      <td>0</td>\n",
       "      <td>0</td>\n",
       "      <td>0</td>\n",
       "      <td>0</td>\n",
       "      <td>1</td>\n",
       "      <td>0</td>\n",
       "      <td>0</td>\n",
       "      <td>1</td>\n",
       "      <td>0</td>\n",
       "      <td>0</td>\n",
       "      <td>0</td>\n",
       "      <td>1</td>\n",
       "      <td>1</td>\n",
       "      <td>1</td>\n",
       "      <td>0</td>\n",
       "      <td>0</td>\n",
       "      <td>1</td>\n",
       "      <td>1</td>\n",
       "      <td>1</td>\n",
       "      <td>0</td>\n",
       "      <td>0</td>\n",
       "      <td>0</td>\n",
       "      <td>0</td>\n",
       "      <td>0</td>\n",
       "      <td>0</td>\n",
       "      <td>0</td>\n",
       "      <td>0</td>\n",
       "      <td>1</td>\n",
       "      <td>1</td>\n",
       "      <td>0</td>\n",
       "      <td>0</td>\n",
       "      <td>0</td>\n",
       "      <td>0</td>\n",
       "      <td>0</td>\n",
       "      <td>0</td>\n",
       "      <td>0</td>\n",
       "      <td>0</td>\n",
       "      <td>1</td>\n",
       "    </tr>\n",
       "  </tbody>\n",
       "</table>\n",
       "</div>"
      ],
      "text/plain": [
       "         id                                          amenities     \\\n",
       "0  12147973  tv,wireless internet,kitchen,free parking prem...  0   \n",
       "1   3075044  tv,internet,wireless internet,air conditioning...  0   \n",
       "2      6976  tv,cable tv,wireless internet,air conditioning...  0   \n",
       "3   1436513  tv,internet,wireless internet,air conditioning...  0   \n",
       "4   7651065  internet,wireless internet,air conditioning,ki...  0   \n",
       "\n",
       "   24-hour check-in  air conditioning  breakfast  buzzer/wireless intercom  \\\n",
       "0                 0                 0          0                         0   \n",
       "1                 0                 1          0                         0   \n",
       "2                 0                 1          0                         0   \n",
       "3                 0                 1          1                         0   \n",
       "4                 0                 1          1                         0   \n",
       "\n",
       "   cable tv  carbon monoxide detector  cat(s)  dog(s)  doorman  dryer  \\\n",
       "0         0                         0       0       1        0      1   \n",
       "1         0                         1       0       1        0      1   \n",
       "2         1                         1       0       0        0      1   \n",
       "3         0                         1       0       0        0      1   \n",
       "4         0                         1       0       0        0      0   \n",
       "\n",
       "   elevator building  essentials  family/kid friendly  fire extinguisher  \\\n",
       "0                  0           1                    1                  1   \n",
       "1                  0           1                    1                  1   \n",
       "2                  0           1                    0                  0   \n",
       "3                  0           1                    0                  1   \n",
       "4                  0           1                    0                  0   \n",
       "\n",
       "   first aid kit  free parking premises  free parking street  gym  hair dryer  \\\n",
       "0              0                      1                    0    0           0   \n",
       "1              0                      0                    0    0           1   \n",
       "2              1                      1                    0    0           0   \n",
       "3              1                      1                    0    1           1   \n",
       "4              1                      0                    0    0           1   \n",
       "\n",
       "   hangers  heating  hot tub  indoor fireplace  internet  iron  kitchen  \\\n",
       "0        0        1        0                 0         0     0        1   \n",
       "1        1        1        0                 0         1     1        1   \n",
       "2        0        1        0                 0         0     0        1   \n",
       "3        1        1        0                 1         1     1        1   \n",
       "4        1        1        0                 0         1     1        1   \n",
       "\n",
       "   laptop friendly workspace  lock bedroom door  other pet(s)  \\\n",
       "0                          1                  0             0   \n",
       "1                          0                  1             0   \n",
       "2                          0                  1             0   \n",
       "3                          1                  0             0   \n",
       "4                          0                  0             0   \n",
       "\n",
       "   paid parking premises  pets allowed  pets live property  pool  safety card  \\\n",
       "0                      0             0                   1     0            0   \n",
       "1                      0             1                   1     0            0   \n",
       "2                      0             0                   0     0            1   \n",
       "3                      0             0                   0     0            1   \n",
       "4                      0             0                   0     0            0   \n",
       "\n",
       "   shampoo  smoke detector  smoking allowed  suitable events  \\\n",
       "0        1               1                0                0   \n",
       "1        1               1                0                0   \n",
       "2        1               1                0                0   \n",
       "3        1               1                0                0   \n",
       "4        1               1                0                0   \n",
       "\n",
       "   translation missing: en.hosting_amenity_49  \\\n",
       "0                                           0   \n",
       "1                                           0   \n",
       "2                                           1   \n",
       "3                                           0   \n",
       "4                                           0   \n",
       "\n",
       "   translation missing: en.hosting_amenity_50  tv  washer  washer / dryer  \\\n",
       "0                                           0   1       1               0   \n",
       "1                                           0   1       1               0   \n",
       "2                                           1   1       1               0   \n",
       "3                                           0   1       1               0   \n",
       "4                                           0   0       0               0   \n",
       "\n",
       "   wheelchair accessible  wireless internet  \n",
       "0                      0                  1  \n",
       "1                      0                  1  \n",
       "2                      0                  1  \n",
       "3                      0                  1  \n",
       "4                      0                  1  "
      ]
     },
     "execution_count": 23,
     "metadata": {},
     "output_type": "execute_result"
    }
   ],
   "source": [
    "df.head()"
   ]
  },
  {
   "cell_type": "code",
   "execution_count": 24,
   "id": "8eed4405",
   "metadata": {},
   "outputs": [
    {
     "data": {
      "text/plain": [
       "(3585, 48)"
      ]
     },
     "execution_count": 24,
     "metadata": {},
     "output_type": "execute_result"
    }
   ],
   "source": [
    "df.shape"
   ]
  },
  {
   "cell_type": "code",
   "execution_count": 79,
   "id": "08384d20",
   "metadata": {
    "scrolled": false
   },
   "outputs": [],
   "source": [
    "#tfidf = TfidfTransformer()\n",
    "#fidf_dt = tfidf.fit_transform(dt)\n",
    "#pd.DataFrame(tfidf_dt.toarray(), columns=vectorizer.get_feature_names())\n",
    "#pd.DataFrame(cosine_similarity(tfidf_dt, tfidf_dt))"
   ]
  },
  {
   "cell_type": "markdown",
   "id": "a15de4f2",
   "metadata": {},
   "source": [
    "#### Host verifications"
   ]
  },
  {
   "cell_type": "code",
   "execution_count": 28,
   "id": "4a538e7b",
   "metadata": {},
   "outputs": [],
   "source": [
    "def text_cleaner_open_verifications(serie, words= []):\n",
    "    '''\n",
    "    input: pandas series, stop words\n",
    "    ouput: removes special char, stop words, symbols.'''\n",
    "    serie = serie.astype(str).str.lower()\n",
    "    #st = PorterStemmer()\n",
    "    stop= stopwords.words('english') + words\n",
    "    stop = [x for x in stop]\n",
    "    \n",
    "    serie=serie.str.replace('\\'','')\n",
    "    serie=serie.str.replace('{','')\n",
    "    serie=serie.str.replace('}','')\n",
    "    serie=serie.str.replace('[','')\n",
    "    serie=serie.str.replace(']','')\n",
    "    serie = serie.str.strip()\n",
    "    serie= serie.apply(lambda x: \" \".join([word for word in x.split() \n",
    "                                           if word not in stop])) \n",
    "    return serie"
   ]
  },
  {
   "cell_type": "code",
   "execution_count": 29,
   "id": "ae1aff90",
   "metadata": {},
   "outputs": [],
   "source": [
    "df1 = listings[['id','host_verifications']].copy()"
   ]
  },
  {
   "cell_type": "code",
   "execution_count": 30,
   "id": "d57013c9",
   "metadata": {},
   "outputs": [
    {
     "name": "stderr",
     "output_type": "stream",
     "text": [
      "/var/folders/xx/52xcnk8x57b6lb5ws1h4mj2c0000gn/T/ipykernel_6473/2348857406.py:11: FutureWarning: The default value of regex will change from True to False in a future version. In addition, single character regular expressions will *not* be treated as literal strings when regex=True.\n",
      "  serie=serie.str.replace('{','')\n",
      "/var/folders/xx/52xcnk8x57b6lb5ws1h4mj2c0000gn/T/ipykernel_6473/2348857406.py:12: FutureWarning: The default value of regex will change from True to False in a future version. In addition, single character regular expressions will *not* be treated as literal strings when regex=True.\n",
      "  serie=serie.str.replace('}','')\n",
      "/var/folders/xx/52xcnk8x57b6lb5ws1h4mj2c0000gn/T/ipykernel_6473/2348857406.py:13: FutureWarning: The default value of regex will change from True to False in a future version. In addition, single character regular expressions will *not* be treated as literal strings when regex=True.\n",
      "  serie=serie.str.replace('[','')\n",
      "/var/folders/xx/52xcnk8x57b6lb5ws1h4mj2c0000gn/T/ipykernel_6473/2348857406.py:14: FutureWarning: The default value of regex will change from True to False in a future version. In addition, single character regular expressions will *not* be treated as literal strings when regex=True.\n",
      "  serie=serie.str.replace(']','')\n"
     ]
    }
   ],
   "source": [
    "df1['host_verifications'] = df1['host_verifications'].map(normalize)\n",
    "df1['host_verifications'] = text_cleaner_open_verifications(df1['host_verifications'])"
   ]
  },
  {
   "cell_type": "code",
   "execution_count": 31,
   "id": "bdc5eff2",
   "metadata": {},
   "outputs": [
    {
     "data": {
      "text/html": [
       "<div>\n",
       "<style scoped>\n",
       "    .dataframe tbody tr th:only-of-type {\n",
       "        vertical-align: middle;\n",
       "    }\n",
       "\n",
       "    .dataframe tbody tr th {\n",
       "        vertical-align: top;\n",
       "    }\n",
       "\n",
       "    .dataframe thead th {\n",
       "        text-align: right;\n",
       "    }\n",
       "</style>\n",
       "<table border=\"1\" class=\"dataframe\">\n",
       "  <thead>\n",
       "    <tr style=\"text-align: right;\">\n",
       "      <th></th>\n",
       "      <th>id</th>\n",
       "      <th>host_verifications</th>\n",
       "    </tr>\n",
       "  </thead>\n",
       "  <tbody>\n",
       "    <tr>\n",
       "      <th>0</th>\n",
       "      <td>12147973</td>\n",
       "      <td>email, phone, facebook, reviews</td>\n",
       "    </tr>\n",
       "    <tr>\n",
       "      <th>1</th>\n",
       "      <td>3075044</td>\n",
       "      <td>email, phone, facebook, linkedin, amex, review...</td>\n",
       "    </tr>\n",
       "    <tr>\n",
       "      <th>2</th>\n",
       "      <td>6976</td>\n",
       "      <td>email, phone, reviews, jumio</td>\n",
       "    </tr>\n",
       "    <tr>\n",
       "      <th>3</th>\n",
       "      <td>1436513</td>\n",
       "      <td>email, phone, reviews</td>\n",
       "    </tr>\n",
       "    <tr>\n",
       "      <th>4</th>\n",
       "      <td>7651065</td>\n",
       "      <td>email, phone, reviews, kba</td>\n",
       "    </tr>\n",
       "  </tbody>\n",
       "</table>\n",
       "</div>"
      ],
      "text/plain": [
       "         id                                 host_verifications\n",
       "0  12147973                    email, phone, facebook, reviews\n",
       "1   3075044  email, phone, facebook, linkedin, amex, review...\n",
       "2      6976                       email, phone, reviews, jumio\n",
       "3   1436513                              email, phone, reviews\n",
       "4   7651065                         email, phone, reviews, kba"
      ]
     },
     "execution_count": 31,
     "metadata": {},
     "output_type": "execute_result"
    }
   ],
   "source": [
    "df1.head()"
   ]
  },
  {
   "cell_type": "code",
   "execution_count": 33,
   "id": "911c40f1",
   "metadata": {},
   "outputs": [],
   "source": [
    "#we use the same vectorizer, with split by comma\n",
    "vectorizer.fit(df1['host_verifications']);"
   ]
  },
  {
   "cell_type": "code",
   "execution_count": 34,
   "id": "05aec6ac",
   "metadata": {},
   "outputs": [
    {
     "data": {
      "text/plain": [
       "['',\n",
       " ' amex',\n",
       " ' facebook',\n",
       " ' google',\n",
       " ' jumio',\n",
       " ' kba',\n",
       " ' linkedin',\n",
       " ' manual_offline',\n",
       " ' manual_online',\n",
       " ' phone',\n",
       " ' reviews',\n",
       " ' sent_id',\n",
       " ' weibo',\n",
       " 'email',\n",
       " 'facebook',\n",
       " 'phone']"
      ]
     },
     "execution_count": 34,
     "metadata": {},
     "output_type": "execute_result"
    }
   ],
   "source": [
    "vectorizer.get_feature_names()"
   ]
  },
  {
   "cell_type": "code",
   "execution_count": 36,
   "id": "1719d0d2",
   "metadata": {},
   "outputs": [],
   "source": [
    "dt1 = vectorizer.transform(df1['host_verifications'])"
   ]
  },
  {
   "cell_type": "code",
   "execution_count": 37,
   "id": "336e857a",
   "metadata": {},
   "outputs": [
    {
     "data": {
      "text/plain": [
       "(3585, 16)"
      ]
     },
     "execution_count": 37,
     "metadata": {},
     "output_type": "execute_result"
    }
   ],
   "source": [
    "dt1.shape"
   ]
  },
  {
   "cell_type": "code",
   "execution_count": 38,
   "id": "48ecd6d0",
   "metadata": {},
   "outputs": [],
   "source": [
    "df1 = df1.join(pd.DataFrame(dt1.toarray(), columns=vectorizer.get_feature_names()))"
   ]
  },
  {
   "cell_type": "code",
   "execution_count": 39,
   "id": "61be3f60",
   "metadata": {},
   "outputs": [
    {
     "data": {
      "text/html": [
       "<div>\n",
       "<style scoped>\n",
       "    .dataframe tbody tr th:only-of-type {\n",
       "        vertical-align: middle;\n",
       "    }\n",
       "\n",
       "    .dataframe tbody tr th {\n",
       "        vertical-align: top;\n",
       "    }\n",
       "\n",
       "    .dataframe thead th {\n",
       "        text-align: right;\n",
       "    }\n",
       "</style>\n",
       "<table border=\"1\" class=\"dataframe\">\n",
       "  <thead>\n",
       "    <tr style=\"text-align: right;\">\n",
       "      <th></th>\n",
       "      <th>id</th>\n",
       "      <th>host_verifications</th>\n",
       "      <th></th>\n",
       "      <th>amex</th>\n",
       "      <th>facebook</th>\n",
       "      <th>google</th>\n",
       "      <th>jumio</th>\n",
       "      <th>kba</th>\n",
       "      <th>linkedin</th>\n",
       "      <th>manual_offline</th>\n",
       "      <th>manual_online</th>\n",
       "      <th>phone</th>\n",
       "      <th>reviews</th>\n",
       "      <th>sent_id</th>\n",
       "      <th>weibo</th>\n",
       "      <th>email</th>\n",
       "      <th>facebook</th>\n",
       "      <th>phone</th>\n",
       "    </tr>\n",
       "  </thead>\n",
       "  <tbody>\n",
       "    <tr>\n",
       "      <th>0</th>\n",
       "      <td>12147973</td>\n",
       "      <td>email, phone, facebook, reviews</td>\n",
       "      <td>0</td>\n",
       "      <td>0</td>\n",
       "      <td>1</td>\n",
       "      <td>0</td>\n",
       "      <td>0</td>\n",
       "      <td>0</td>\n",
       "      <td>0</td>\n",
       "      <td>0</td>\n",
       "      <td>0</td>\n",
       "      <td>1</td>\n",
       "      <td>1</td>\n",
       "      <td>0</td>\n",
       "      <td>0</td>\n",
       "      <td>1</td>\n",
       "      <td>0</td>\n",
       "      <td>0</td>\n",
       "    </tr>\n",
       "    <tr>\n",
       "      <th>1</th>\n",
       "      <td>3075044</td>\n",
       "      <td>email, phone, facebook, linkedin, amex, review...</td>\n",
       "      <td>0</td>\n",
       "      <td>1</td>\n",
       "      <td>1</td>\n",
       "      <td>0</td>\n",
       "      <td>1</td>\n",
       "      <td>0</td>\n",
       "      <td>1</td>\n",
       "      <td>0</td>\n",
       "      <td>0</td>\n",
       "      <td>1</td>\n",
       "      <td>1</td>\n",
       "      <td>0</td>\n",
       "      <td>0</td>\n",
       "      <td>1</td>\n",
       "      <td>0</td>\n",
       "      <td>0</td>\n",
       "    </tr>\n",
       "    <tr>\n",
       "      <th>2</th>\n",
       "      <td>6976</td>\n",
       "      <td>email, phone, reviews, jumio</td>\n",
       "      <td>0</td>\n",
       "      <td>0</td>\n",
       "      <td>0</td>\n",
       "      <td>0</td>\n",
       "      <td>1</td>\n",
       "      <td>0</td>\n",
       "      <td>0</td>\n",
       "      <td>0</td>\n",
       "      <td>0</td>\n",
       "      <td>1</td>\n",
       "      <td>1</td>\n",
       "      <td>0</td>\n",
       "      <td>0</td>\n",
       "      <td>1</td>\n",
       "      <td>0</td>\n",
       "      <td>0</td>\n",
       "    </tr>\n",
       "    <tr>\n",
       "      <th>3</th>\n",
       "      <td>1436513</td>\n",
       "      <td>email, phone, reviews</td>\n",
       "      <td>0</td>\n",
       "      <td>0</td>\n",
       "      <td>0</td>\n",
       "      <td>0</td>\n",
       "      <td>0</td>\n",
       "      <td>0</td>\n",
       "      <td>0</td>\n",
       "      <td>0</td>\n",
       "      <td>0</td>\n",
       "      <td>1</td>\n",
       "      <td>1</td>\n",
       "      <td>0</td>\n",
       "      <td>0</td>\n",
       "      <td>1</td>\n",
       "      <td>0</td>\n",
       "      <td>0</td>\n",
       "    </tr>\n",
       "    <tr>\n",
       "      <th>4</th>\n",
       "      <td>7651065</td>\n",
       "      <td>email, phone, reviews, kba</td>\n",
       "      <td>0</td>\n",
       "      <td>0</td>\n",
       "      <td>0</td>\n",
       "      <td>0</td>\n",
       "      <td>0</td>\n",
       "      <td>1</td>\n",
       "      <td>0</td>\n",
       "      <td>0</td>\n",
       "      <td>0</td>\n",
       "      <td>1</td>\n",
       "      <td>1</td>\n",
       "      <td>0</td>\n",
       "      <td>0</td>\n",
       "      <td>1</td>\n",
       "      <td>0</td>\n",
       "      <td>0</td>\n",
       "    </tr>\n",
       "  </tbody>\n",
       "</table>\n",
       "</div>"
      ],
      "text/plain": [
       "         id                                 host_verifications      amex  \\\n",
       "0  12147973                    email, phone, facebook, reviews  0      0   \n",
       "1   3075044  email, phone, facebook, linkedin, amex, review...  0      1   \n",
       "2      6976                       email, phone, reviews, jumio  0      0   \n",
       "3   1436513                              email, phone, reviews  0      0   \n",
       "4   7651065                         email, phone, reviews, kba  0      0   \n",
       "\n",
       "    facebook   google   jumio   kba   linkedin   manual_offline  \\\n",
       "0          1        0       0     0          0                0   \n",
       "1          1        0       1     0          1                0   \n",
       "2          0        0       1     0          0                0   \n",
       "3          0        0       0     0          0                0   \n",
       "4          0        0       0     1          0                0   \n",
       "\n",
       "    manual_online   phone   reviews   sent_id   weibo  email  facebook  phone  \n",
       "0               0       1         1         0       0      1         0      0  \n",
       "1               0       1         1         0       0      1         0      0  \n",
       "2               0       1         1         0       0      1         0      0  \n",
       "3               0       1         1         0       0      1         0      0  \n",
       "4               0       1         1         0       0      1         0      0  "
      ]
     },
     "execution_count": 39,
     "metadata": {},
     "output_type": "execute_result"
    }
   ],
   "source": [
    "df1.head()"
   ]
  },
  {
   "cell_type": "code",
   "execution_count": 55,
   "id": "5ea42709",
   "metadata": {},
   "outputs": [],
   "source": [
    "df.drop(df.iloc[:,2],inplace=True)"
   ]
  },
  {
   "cell_type": "code",
   "execution_count": 59,
   "id": "47b343df",
   "metadata": {},
   "outputs": [
    {
     "data": {
      "text/plain": [
       "Index(['id', 'host_verifications', '', ' amex', ' facebook', ' google',\n",
       "       ' jumio', ' kba', ' linkedin', ' manual_offline', ' manual_online',\n",
       "       ' phone', ' reviews', ' sent_id', ' weibo', 'email', 'facebook',\n",
       "       'phone'],\n",
       "      dtype='object')"
      ]
     },
     "execution_count": 59,
     "metadata": {},
     "output_type": "execute_result"
    }
   ],
   "source": [
    "df1.columns"
   ]
  },
  {
   "cell_type": "code",
   "execution_count": 61,
   "id": "49fa6329",
   "metadata": {},
   "outputs": [],
   "source": [
    "df1.drop([''],axis=1,inplace=True)"
   ]
  },
  {
   "cell_type": "code",
   "execution_count": 62,
   "id": "c6577871",
   "metadata": {},
   "outputs": [
    {
     "data": {
      "text/plain": [
       "Index(['id', 'host_verifications', ' amex', ' facebook', ' google', ' jumio',\n",
       "       ' kba', ' linkedin', ' manual_offline', ' manual_online', ' phone',\n",
       "       ' reviews', ' sent_id', ' weibo', 'email', 'facebook', 'phone'],\n",
       "      dtype='object')"
      ]
     },
     "execution_count": 62,
     "metadata": {},
     "output_type": "execute_result"
    }
   ],
   "source": [
    "df1.columns"
   ]
  },
  {
   "cell_type": "code",
   "execution_count": null,
   "id": "e5d00462",
   "metadata": {},
   "outputs": [],
   "source": [
    "df1['_phone']"
   ]
  },
  {
   "cell_type": "code",
   "execution_count": 63,
   "id": "0b86f55a",
   "metadata": {},
   "outputs": [],
   "source": [
    "df1['phone_all']=df1[' phone']\n",
    "df1.loc[df1['phone']==1,'phone_all']=1"
   ]
  },
  {
   "cell_type": "code",
   "execution_count": 64,
   "id": "58f547c8",
   "metadata": {},
   "outputs": [
    {
     "data": {
      "text/plain": [
       "3575"
      ]
     },
     "execution_count": 64,
     "metadata": {},
     "output_type": "execute_result"
    }
   ],
   "source": [
    "df1['phone_all'].sum()"
   ]
  },
  {
   "cell_type": "code",
   "execution_count": 66,
   "id": "6917b2a0",
   "metadata": {},
   "outputs": [],
   "source": [
    "df1.drop([' phone','phone'],axis=1,inplace=True)"
   ]
  },
  {
   "cell_type": "code",
   "execution_count": 67,
   "id": "59c869f9",
   "metadata": {},
   "outputs": [
    {
     "data": {
      "text/html": [
       "<div>\n",
       "<style scoped>\n",
       "    .dataframe tbody tr th:only-of-type {\n",
       "        vertical-align: middle;\n",
       "    }\n",
       "\n",
       "    .dataframe tbody tr th {\n",
       "        vertical-align: top;\n",
       "    }\n",
       "\n",
       "    .dataframe thead th {\n",
       "        text-align: right;\n",
       "    }\n",
       "</style>\n",
       "<table border=\"1\" class=\"dataframe\">\n",
       "  <thead>\n",
       "    <tr style=\"text-align: right;\">\n",
       "      <th></th>\n",
       "      <th>id</th>\n",
       "      <th>host_verifications</th>\n",
       "      <th>amex</th>\n",
       "      <th>facebook</th>\n",
       "      <th>google</th>\n",
       "      <th>jumio</th>\n",
       "      <th>kba</th>\n",
       "      <th>linkedin</th>\n",
       "      <th>manual_offline</th>\n",
       "      <th>manual_online</th>\n",
       "      <th>reviews</th>\n",
       "      <th>sent_id</th>\n",
       "      <th>weibo</th>\n",
       "      <th>email</th>\n",
       "      <th>facebook</th>\n",
       "      <th>phone_all</th>\n",
       "    </tr>\n",
       "  </thead>\n",
       "  <tbody>\n",
       "    <tr>\n",
       "      <th>0</th>\n",
       "      <td>12147973</td>\n",
       "      <td>email, phone, facebook, reviews</td>\n",
       "      <td>0</td>\n",
       "      <td>1</td>\n",
       "      <td>0</td>\n",
       "      <td>0</td>\n",
       "      <td>0</td>\n",
       "      <td>0</td>\n",
       "      <td>0</td>\n",
       "      <td>0</td>\n",
       "      <td>1</td>\n",
       "      <td>0</td>\n",
       "      <td>0</td>\n",
       "      <td>1</td>\n",
       "      <td>0</td>\n",
       "      <td>1</td>\n",
       "    </tr>\n",
       "    <tr>\n",
       "      <th>1</th>\n",
       "      <td>3075044</td>\n",
       "      <td>email, phone, facebook, linkedin, amex, review...</td>\n",
       "      <td>1</td>\n",
       "      <td>1</td>\n",
       "      <td>0</td>\n",
       "      <td>1</td>\n",
       "      <td>0</td>\n",
       "      <td>1</td>\n",
       "      <td>0</td>\n",
       "      <td>0</td>\n",
       "      <td>1</td>\n",
       "      <td>0</td>\n",
       "      <td>0</td>\n",
       "      <td>1</td>\n",
       "      <td>0</td>\n",
       "      <td>1</td>\n",
       "    </tr>\n",
       "    <tr>\n",
       "      <th>2</th>\n",
       "      <td>6976</td>\n",
       "      <td>email, phone, reviews, jumio</td>\n",
       "      <td>0</td>\n",
       "      <td>0</td>\n",
       "      <td>0</td>\n",
       "      <td>1</td>\n",
       "      <td>0</td>\n",
       "      <td>0</td>\n",
       "      <td>0</td>\n",
       "      <td>0</td>\n",
       "      <td>1</td>\n",
       "      <td>0</td>\n",
       "      <td>0</td>\n",
       "      <td>1</td>\n",
       "      <td>0</td>\n",
       "      <td>1</td>\n",
       "    </tr>\n",
       "    <tr>\n",
       "      <th>3</th>\n",
       "      <td>1436513</td>\n",
       "      <td>email, phone, reviews</td>\n",
       "      <td>0</td>\n",
       "      <td>0</td>\n",
       "      <td>0</td>\n",
       "      <td>0</td>\n",
       "      <td>0</td>\n",
       "      <td>0</td>\n",
       "      <td>0</td>\n",
       "      <td>0</td>\n",
       "      <td>1</td>\n",
       "      <td>0</td>\n",
       "      <td>0</td>\n",
       "      <td>1</td>\n",
       "      <td>0</td>\n",
       "      <td>1</td>\n",
       "    </tr>\n",
       "    <tr>\n",
       "      <th>4</th>\n",
       "      <td>7651065</td>\n",
       "      <td>email, phone, reviews, kba</td>\n",
       "      <td>0</td>\n",
       "      <td>0</td>\n",
       "      <td>0</td>\n",
       "      <td>0</td>\n",
       "      <td>1</td>\n",
       "      <td>0</td>\n",
       "      <td>0</td>\n",
       "      <td>0</td>\n",
       "      <td>1</td>\n",
       "      <td>0</td>\n",
       "      <td>0</td>\n",
       "      <td>1</td>\n",
       "      <td>0</td>\n",
       "      <td>1</td>\n",
       "    </tr>\n",
       "  </tbody>\n",
       "</table>\n",
       "</div>"
      ],
      "text/plain": [
       "         id                                 host_verifications   amex  \\\n",
       "0  12147973                    email, phone, facebook, reviews      0   \n",
       "1   3075044  email, phone, facebook, linkedin, amex, review...      1   \n",
       "2      6976                       email, phone, reviews, jumio      0   \n",
       "3   1436513                              email, phone, reviews      0   \n",
       "4   7651065                         email, phone, reviews, kba      0   \n",
       "\n",
       "    facebook   google   jumio   kba   linkedin   manual_offline  \\\n",
       "0          1        0       0     0          0                0   \n",
       "1          1        0       1     0          1                0   \n",
       "2          0        0       1     0          0                0   \n",
       "3          0        0       0     0          0                0   \n",
       "4          0        0       0     1          0                0   \n",
       "\n",
       "    manual_online   reviews   sent_id   weibo  email  facebook  phone_all  \n",
       "0               0         1         0       0      1         0          1  \n",
       "1               0         1         0       0      1         0          1  \n",
       "2               0         1         0       0      1         0          1  \n",
       "3               0         1         0       0      1         0          1  \n",
       "4               0         1         0       0      1         0          1  "
      ]
     },
     "execution_count": 67,
     "metadata": {},
     "output_type": "execute_result"
    }
   ],
   "source": [
    "df1.head()"
   ]
  },
  {
   "cell_type": "markdown",
   "id": "057c28b4",
   "metadata": {},
   "source": [
    "Once I've cleared the transformations, I will produce them into the common notebook, since the transformations and feature extractions should be done only on the TRAINING SET. "
   ]
  },
  {
   "cell_type": "code",
   "execution_count": null,
   "id": "95009b21",
   "metadata": {},
   "outputs": [],
   "source": []
  }
 ],
 "metadata": {
  "kernelspec": {
   "display_name": "Python 3 (ipykernel)",
   "language": "python",
   "name": "python3"
  },
  "language_info": {
   "codemirror_mode": {
    "name": "ipython",
    "version": 3
   },
   "file_extension": ".py",
   "mimetype": "text/x-python",
   "name": "python",
   "nbconvert_exporter": "python",
   "pygments_lexer": "ipython3",
   "version": "3.9.12"
  }
 },
 "nbformat": 4,
 "nbformat_minor": 5
}
