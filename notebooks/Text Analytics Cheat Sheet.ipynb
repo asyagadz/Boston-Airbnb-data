{
 "cells": [
  {
   "cell_type": "markdown",
   "id": "c513773e",
   "metadata": {},
   "source": [
    "# NLP Text Analytics"
   ]
  },
  {
   "cell_type": "code",
   "execution_count": 4,
   "id": "963ef5ba",
   "metadata": {},
   "outputs": [
    {
     "ename": "ModuleNotFoundError",
     "evalue": "No module named 'gensim'",
     "output_type": "error",
     "traceback": [
      "\u001b[0;31m---------------------------------------------------------------------------\u001b[0m",
      "\u001b[0;31mModuleNotFoundError\u001b[0m                       Traceback (most recent call last)",
      "Input \u001b[0;32mIn [4]\u001b[0m, in \u001b[0;36m<cell line: 19>\u001b[0;34m()\u001b[0m\n\u001b[1;32m     15\u001b[0m \u001b[38;5;28;01mimport\u001b[39;00m \u001b[38;5;21;01mtextacy\u001b[39;00m \u001b[38;5;66;03m# library for cleaning & normalization \u001b[39;00m\n\u001b[1;32m     17\u001b[0m \u001b[38;5;28;01mimport\u001b[39;00m \u001b[38;5;21;01mspacy\u001b[39;00m \u001b[38;5;66;03m#library for linguistic processing\u001b[39;00m\n\u001b[0;32m---> 19\u001b[0m \u001b[38;5;28;01mimport\u001b[39;00m \u001b[38;5;21;01mgensim\u001b[39;00m\n",
      "\u001b[0;31mModuleNotFoundError\u001b[0m: No module named 'gensim'"
     ]
    }
   ],
   "source": [
    "import pandas as pd\n",
    "import numpy as np\n",
    "\n",
    "import regex as re\n",
    "import nltk\n",
    "from nltk import tokenize # word_tokenize, sent_tokenize\n",
    "from nltk.corpus import stopwords\n",
    "from nltk import pos_tag\n",
    "\n",
    "from wordcloud import WordCloud\n",
    "from sklearn.feature_extraction.text import TfidfTransformer\n",
    "from sklearn.feature_extraction.text import CountVectorizer\n",
    "from sklearn.feature_extraction.text import TfidfVectorizer\n",
    "from textacy import preprocessing\n",
    "import textacy # library for cleaning & normalization \n",
    "\n",
    "import spacy #library for linguistic processing\n",
    "\n",
    "import gensim #library for unsupervised topic modelling"
   ]
  },
  {
   "cell_type": "markdown",
   "id": "842a4154",
   "metadata": {},
   "source": [
    "## Pipeline for typical preprocessing of text data\n",
    "\n",
    "Raw Text -> \n",
    "Identify noise ->Remove Noise ->Character Normalization ->Data masking -><br>\n",
    "__Regular expressions, Textacy library, custom functions__\n",
    "\n",
    "Clean Text ->\n",
    "Tokenization -> POS tagging -> Lemmatization -> Named Entity Recognition -> Prepared Text<br>\n",
    "__For Tokenization there are multiple options:<br>\n",
    "- tokenize with .split();<br>\n",
    "- nltk tokenizer;<br>\n",
    "- RegexTokenizer from nltk;<br>\n",
    "- Twitter Tokenizer from nltk;<br>\n",
    "- CountVectorizer;<br>\n",
    "- spacy built-in tokenizer;<br>\n",
    "- gensim tokenizer; <br>\n",
    "\n",
    "linguistic processing:\n",
    "- spacy\n",
    "- sklearn in-built transformers\n",
    "\n",
    "POS tagging:\n",
    "- nltk.pos_tag(tokenized_text)\n",
    "\n",
    "\n",
    "Prepared Text -> Feature Extraction -> Modelling "
   ]
  },
  {
   "cell_type": "code",
   "execution_count": null,
   "id": "fc3f0039",
   "metadata": {},
   "outputs": [],
   "source": []
  }
 ],
 "metadata": {
  "kernelspec": {
   "display_name": "Python 3 (ipykernel)",
   "language": "python",
   "name": "python3"
  },
  "language_info": {
   "codemirror_mode": {
    "name": "ipython",
    "version": 3
   },
   "file_extension": ".py",
   "mimetype": "text/x-python",
   "name": "python",
   "nbconvert_exporter": "python",
   "pygments_lexer": "ipython3",
   "version": "3.9.12"
  }
 },
 "nbformat": 4,
 "nbformat_minor": 5
}
